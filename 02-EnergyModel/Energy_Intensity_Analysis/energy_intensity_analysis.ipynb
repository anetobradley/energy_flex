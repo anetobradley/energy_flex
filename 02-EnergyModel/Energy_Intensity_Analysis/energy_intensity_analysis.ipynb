{
 "cells": [
  {
   "cell_type": "markdown",
   "id": "66b8cef7-a9bd-4288-a26a-2c7cec3318b9",
   "metadata": {},
   "source": [
    "# Analysis of National Energy Intensity Data and Socio-Demographic Factors"
   ]
  },
  {
   "cell_type": "markdown",
   "id": "c5a40861-c465-4172-a8b2-224f982a8cf0",
   "metadata": {},
   "source": [
    "## Initialise and load data"
   ]
  },
  {
   "cell_type": "code",
   "execution_count": 15,
   "id": "5ab0b577-102a-44f8-a6e1-aa224a723f23",
   "metadata": {},
   "outputs": [],
   "source": [
    "import os \n",
    "\n",
    "import numpy as np\n",
    "import pandas as pd\n",
    "import geopandas as gpd"
   ]
  },
  {
   "cell_type": "markdown",
   "id": "40a68d53-d0fc-42a3-b56c-bc8b3419c412",
   "metadata": {},
   "source": [
    "### Energy intensity data by Local Authority District (LAD)"
   ]
  },
  {
   "cell_type": "code",
   "execution_count": null,
   "id": "81d1c488-7d1d-4856-bf08-806ba65a3b96",
   "metadata": {},
   "outputs": [],
   "source": [
    "energy_intensity = pd.read_csv(os.path.join(\"..\", \"01_Base_Posterior_Sampling/\", \"Sample_outputs\", \"energy_intensity_by_lad_rich_since_2000.csv\"))\n",
    "\n",
    "# Make the index the LAD code (allows much easier joining to other data on LAD code)\n",
    "XXXX"
   ]
  },
  {
   "cell_type": "markdown",
   "id": "cf83bb02-ac74-446d-8fdd-e17c738fe18b",
   "metadata": {},
   "source": [
    "### Demographic data"
   ]
  },
  {
   "cell_type": "markdown",
   "id": "c6045763-7f9d-4209-9f86-5a4bb3adbaf9",
   "metadata": {},
   "source": [
    "#### GIS Data\n",
    "\n",
    "OA/LSOA/MSOA/LAD lookup so that we can move between different geographies.\n",
    "\n",
    "From [data.gov.uk](https://data.gov.uk/dataset/ec39697d-e7f4-4419-a146-0b9c9c15ee06/output-area-to-lsoa-to-msoa-to-local-authority-district-december-2017-lookup-with-area-classifications-in-great-britain). Download and compress (it's big as a raw csv file) with\n",
    "```bash\n",
    "cd data/gis\n",
    "wget http://geoportal1-ons.opendata.arcgis.com/datasets/fe6c55f0924b4734adf1cf7104a0173e_0.csv\n",
    "gzip fe6c55f0924b4734adf1cf7104a0173e_0.csv\n",
    "```"
   ]
  },
  {
   "cell_type": "code",
   "execution_count": 23,
   "id": "c156cffa-42a8-4f23-9b7a-a5babc854bfb",
   "metadata": {},
   "outputs": [],
   "source": [
    "def get_msoa_column(df, lookup, df_col):\n",
    "    \"\"\"Return a Series that contains the MSOA code after doing a lookup for an LSOA or OA value\n",
    "    in df.\n",
    "    \n",
    "    :param df: The input OA / LSOA dataframe\n",
    "    :param lookup: A dict of '(ls)oa_code -> msoa_code'\n",
    "    :param df_col: The column in df that represents the (LS)OA codes.\n",
    "    \"\"\"\n",
    "    return df[df_col].apply(func=lambda x: lookup[x])"
   ]
  },
  {
   "cell_type": "code",
   "execution_count": 24,
   "id": "396e7010-732a-4e58-a1cc-74a6184edef4",
   "metadata": {},
   "outputs": [],
   "source": [
    "gis_lookup = pd.read_csv(os.path.join('data', 'gis', 'fe6c55f0924b4734adf1cf7104a0173e_0.csv.gz'))\n",
    "\n",
    "# Make (LS)OA dictionary lookups\n",
    "oa_dict = gis_lookup.set_index('OA11CD', drop=True).loc[:,'MSOA11CD'].to_dict()\n",
    "lsoa_dict = gis_lookup.set_index('LSOA11CD', drop=True).loc[:,'MSOA11CD'].to_dict()\n",
    "# Check the keys are unique (all keys in oa_dict should be different to those in lsoa_dict)\n",
    "assert len(set(oa_dict.keys()).difference(set(lsoa_dict.keys()))) == len(oa_dict)\n",
    "# Combine into a single dict\n",
    "oa_dict.update(lsoa_dict)\n",
    "msoa_lookup = oa_dict\n",
    "assert len(msoa_lookup) == len(gis_lookup['OA11CD'].unique()) + len(gis_lookup['LSOA11CD'].unique())\n",
    "\n",
    "del oa_dict, lsoa_dict"
   ]
  },
  {
   "cell_type": "markdown",
   "id": "5b38b92a-96bd-4788-a62d-f6a20cac7333",
   "metadata": {},
   "source": [
    "#### Deprivation (IMD)\n",
    "\n",
    "Index of Multiple Deprivation (IMD) 2019\n",
    "\n",
    "Source: https://www.gov.uk/government/statistics/english-indices-of-deprivation-2019\n",
    "\n",
    "See [README.md](./data/imd/README.md) for details"
   ]
  },
  {
   "cell_type": "code",
   "execution_count": 30,
   "id": "0ddb1dc6-a9dd-47d8-b5c7-436724a92038",
   "metadata": {},
   "outputs": [
    {
     "data": {
      "text/html": [
       "<div>\n",
       "<style scoped>\n",
       "    .dataframe tbody tr th:only-of-type {\n",
       "        vertical-align: middle;\n",
       "    }\n",
       "\n",
       "    .dataframe tbody tr th {\n",
       "        vertical-align: top;\n",
       "    }\n",
       "\n",
       "    .dataframe thead th {\n",
       "        text-align: right;\n",
       "    }\n",
       "</style>\n",
       "<table border=\"1\" class=\"dataframe\">\n",
       "  <thead>\n",
       "    <tr style=\"text-align: right;\">\n",
       "      <th></th>\n",
       "      <th>LSOA code (2011)</th>\n",
       "      <th>LSOA name (2011)</th>\n",
       "      <th>Local Authority District code (2019)</th>\n",
       "      <th>Local Authority District name (2019)</th>\n",
       "      <th>Index of Multiple Deprivation (IMD) Rank</th>\n",
       "      <th>Index of Multiple Deprivation (IMD) Decile</th>\n",
       "    </tr>\n",
       "  </thead>\n",
       "  <tbody>\n",
       "    <tr>\n",
       "      <th>0</th>\n",
       "      <td>E01000001</td>\n",
       "      <td>City of London 001A</td>\n",
       "      <td>E09000001</td>\n",
       "      <td>City of London</td>\n",
       "      <td>29199</td>\n",
       "      <td>9</td>\n",
       "    </tr>\n",
       "    <tr>\n",
       "      <th>1</th>\n",
       "      <td>E01000002</td>\n",
       "      <td>City of London 001B</td>\n",
       "      <td>E09000001</td>\n",
       "      <td>City of London</td>\n",
       "      <td>30379</td>\n",
       "      <td>10</td>\n",
       "    </tr>\n",
       "    <tr>\n",
       "      <th>2</th>\n",
       "      <td>E01000003</td>\n",
       "      <td>City of London 001C</td>\n",
       "      <td>E09000001</td>\n",
       "      <td>City of London</td>\n",
       "      <td>14915</td>\n",
       "      <td>5</td>\n",
       "    </tr>\n",
       "    <tr>\n",
       "      <th>3</th>\n",
       "      <td>E01000005</td>\n",
       "      <td>City of London 001E</td>\n",
       "      <td>E09000001</td>\n",
       "      <td>City of London</td>\n",
       "      <td>8678</td>\n",
       "      <td>3</td>\n",
       "    </tr>\n",
       "    <tr>\n",
       "      <th>4</th>\n",
       "      <td>E01000006</td>\n",
       "      <td>Barking and Dagenham 016A</td>\n",
       "      <td>E09000002</td>\n",
       "      <td>Barking and Dagenham</td>\n",
       "      <td>14486</td>\n",
       "      <td>5</td>\n",
       "    </tr>\n",
       "    <tr>\n",
       "      <th>...</th>\n",
       "      <td>...</td>\n",
       "      <td>...</td>\n",
       "      <td>...</td>\n",
       "      <td>...</td>\n",
       "      <td>...</td>\n",
       "      <td>...</td>\n",
       "    </tr>\n",
       "    <tr>\n",
       "      <th>32839</th>\n",
       "      <td>E01033764</td>\n",
       "      <td>Liverpool 022E</td>\n",
       "      <td>E08000012</td>\n",
       "      <td>Liverpool</td>\n",
       "      <td>116</td>\n",
       "      <td>1</td>\n",
       "    </tr>\n",
       "    <tr>\n",
       "      <th>32840</th>\n",
       "      <td>E01033765</td>\n",
       "      <td>Liverpool 061D</td>\n",
       "      <td>E08000012</td>\n",
       "      <td>Liverpool</td>\n",
       "      <td>945</td>\n",
       "      <td>1</td>\n",
       "    </tr>\n",
       "    <tr>\n",
       "      <th>32841</th>\n",
       "      <td>E01033766</td>\n",
       "      <td>Liverpool 042G</td>\n",
       "      <td>E08000012</td>\n",
       "      <td>Liverpool</td>\n",
       "      <td>12842</td>\n",
       "      <td>4</td>\n",
       "    </tr>\n",
       "    <tr>\n",
       "      <th>32842</th>\n",
       "      <td>E01033767</td>\n",
       "      <td>Liverpool 050J</td>\n",
       "      <td>E08000012</td>\n",
       "      <td>Liverpool</td>\n",
       "      <td>422</td>\n",
       "      <td>1</td>\n",
       "    </tr>\n",
       "    <tr>\n",
       "      <th>32843</th>\n",
       "      <td>E01033768</td>\n",
       "      <td>Liverpool 037F</td>\n",
       "      <td>E08000012</td>\n",
       "      <td>Liverpool</td>\n",
       "      <td>1833</td>\n",
       "      <td>1</td>\n",
       "    </tr>\n",
       "  </tbody>\n",
       "</table>\n",
       "<p>32844 rows × 6 columns</p>\n",
       "</div>"
      ],
      "text/plain": [
       "      LSOA code (2011)           LSOA name (2011)  \\\n",
       "0            E01000001        City of London 001A   \n",
       "1            E01000002        City of London 001B   \n",
       "2            E01000003        City of London 001C   \n",
       "3            E01000005        City of London 001E   \n",
       "4            E01000006  Barking and Dagenham 016A   \n",
       "...                ...                        ...   \n",
       "32839        E01033764             Liverpool 022E   \n",
       "32840        E01033765             Liverpool 061D   \n",
       "32841        E01033766             Liverpool 042G   \n",
       "32842        E01033767             Liverpool 050J   \n",
       "32843        E01033768             Liverpool 037F   \n",
       "\n",
       "      Local Authority District code (2019)  \\\n",
       "0                                E09000001   \n",
       "1                                E09000001   \n",
       "2                                E09000001   \n",
       "3                                E09000001   \n",
       "4                                E09000002   \n",
       "...                                    ...   \n",
       "32839                            E08000012   \n",
       "32840                            E08000012   \n",
       "32841                            E08000012   \n",
       "32842                            E08000012   \n",
       "32843                            E08000012   \n",
       "\n",
       "      Local Authority District name (2019)  \\\n",
       "0                           City of London   \n",
       "1                           City of London   \n",
       "2                           City of London   \n",
       "3                           City of London   \n",
       "4                     Barking and Dagenham   \n",
       "...                                    ...   \n",
       "32839                            Liverpool   \n",
       "32840                            Liverpool   \n",
       "32841                            Liverpool   \n",
       "32842                            Liverpool   \n",
       "32843                            Liverpool   \n",
       "\n",
       "       Index of Multiple Deprivation (IMD) Rank  \\\n",
       "0                                         29199   \n",
       "1                                         30379   \n",
       "2                                         14915   \n",
       "3                                          8678   \n",
       "4                                         14486   \n",
       "...                                         ...   \n",
       "32839                                       116   \n",
       "32840                                       945   \n",
       "32841                                     12842   \n",
       "32842                                       422   \n",
       "32843                                      1833   \n",
       "\n",
       "       Index of Multiple Deprivation (IMD) Decile  \n",
       "0                                               9  \n",
       "1                                              10  \n",
       "2                                               5  \n",
       "3                                               3  \n",
       "4                                               5  \n",
       "...                                           ...  \n",
       "32839                                           1  \n",
       "32840                                           1  \n",
       "32841                                           4  \n",
       "32842                                           1  \n",
       "32843                                           1  \n",
       "\n",
       "[32844 rows x 6 columns]"
      ]
     },
     "execution_count": 30,
     "metadata": {},
     "output_type": "execute_result"
    }
   ],
   "source": [
    "imd_lsoa = pd.read_csv(os.path.join(\"data\", \"imd\", \n",
    "                                    \"File_1_-_IMD2019_Index_of_Multiple_Deprivation.csv.gz\"))\n",
    "\n",
    "# Make the rank numeric (currently string with commas)\n",
    "col = 'Index of Multiple Deprivation (IMD) Rank'\n",
    "imd_lsoa[col] = imd_lsoa[col].str.split(',').str.join('').astype(int)\n",
    "\n",
    "imd_lsoa"
   ]
  },
  {
   "cell_type": "code",
   "execution_count": null,
   "id": "4717851c-e851-4ba9-adb5-722343daf466",
   "metadata": {},
   "outputs": [],
   "source": [
    "# Aggregate IMD data to local authority district (choose mean rank per LAD)\n",
    "# (See https://www.statology.org/pandas-groupby-aggregate-multiple-columns/ for multiple aggregation)\n",
    "col = 'Index of Multiple Deprivation (IMD) Rank'\n",
    "imd_lad = imd_lsoa.groupby('Local Authority District code (2019)').agg({col: np.mean})\n",
    "\n",
    "\n",
    "# Merge to the energy data\n",
    "XXXX\n",
    "#energy_intensity = energy_intensity.merge(imd_lad, how=\"left\", left_index=True, right_index=True).rename(columns={col:'IMD'})\n",
    "energy_intensity"
   ]
  },
  {
   "cell_type": "markdown",
   "id": "2aafd7c5-c486-4e5d-a5d8-0b6462cad287",
   "metadata": {},
   "source": [
    "#### Tenure \n",
    "\n",
    "Table [QS405EW](https://www.nomisweb.co.uk/census/2011/qs405ew) (Tenure - Households). \n",
    "\n",
    "Used 'Download (.csv)' box at the bottom to download LAD data."
   ]
  },
  {
   "cell_type": "code",
   "execution_count": 46,
   "id": "c897633b-414a-4d55-a7fd-ef83de352b0f",
   "metadata": {},
   "outputs": [],
   "source": [
    "tenure_lad = pd.read_csv(os.path.join(\"data\", \"census\", \"tenure-households-lad.csv\")).set_index('geography code', drop=True)\n",
    "\n",
    "# Merge to the energy data\n",
    "#XXXX"
   ]
  },
  {
   "cell_type": "markdown",
   "id": "bbd807e9-5864-4c6a-a876-fe3e1c454667",
   "metadata": {},
   "source": [
    "#### Accommodation (Building) type\n",
    "\n",
    "Table [QS402EW](https://www.nomisweb.co.uk/census/2011/qs402ew) (Accomodation type). \n",
    "\n",
    "Used 'Download (.csv)' box at the bottom to download LAD data."
   ]
  },
  {
   "cell_type": "code",
   "execution_count": 47,
   "id": "ff1a4cc6-1cbb-4682-a3f5-eb596efc297b",
   "metadata": {},
   "outputs": [],
   "source": [
    "accommodation_type_lad = pd.read_csv(os.path.join(\"data\", \"census\", \"accommodation-type-lad.csv\")).set_index('geography code', drop=True)\n",
    "\n",
    "# Merge to the energy data\n",
    "#XXXX"
   ]
  },
  {
   "cell_type": "markdown",
   "id": "1bec47d6-2804-4ae3-ada2-0bc38ca63af5",
   "metadata": {},
   "source": [
    "#### Household type\n",
    "\n",
    "Table [QS116EW](https://www.nomisweb.co.uk/census/2011/qs116ew) - Household type. \n",
    "\n",
    "Used 'Download (.csv)' box at the bottom to download LAD data."
   ]
  },
  {
   "cell_type": "code",
   "execution_count": 48,
   "id": "7b8849a9-8a8a-4a88-b0ca-45917f92614c",
   "metadata": {},
   "outputs": [],
   "source": [
    "building_type_lad = pd.read_csv(os.path.join(\"data\", \"census\", \"household-type-lad.csv\")).set_index('geography code', drop=True)\n",
    "\n",
    "# Merge to the energy data\n",
    "#XXXX"
   ]
  },
  {
   "cell_type": "code",
   "execution_count": null,
   "id": "ea01623a-89f6-4420-ac80-af0ae5610bdb",
   "metadata": {},
   "outputs": [],
   "source": []
  },
  {
   "cell_type": "code",
   "execution_count": null,
   "id": "6938928a-2827-4fa3-8fee-7bc0fa98236e",
   "metadata": {},
   "outputs": [],
   "source": []
  },
  {
   "cell_type": "code",
   "execution_count": null,
   "id": "e7d1daa6-c6eb-4ac2-be0d-32fa3a5e1a6b",
   "metadata": {},
   "outputs": [],
   "source": []
  },
  {
   "cell_type": "code",
   "execution_count": null,
   "id": "3fdf6f6c-4a5d-4bf7-b98b-ec58cd2f515f",
   "metadata": {},
   "outputs": [],
   "source": []
  },
  {
   "cell_type": "code",
   "execution_count": null,
   "id": "b2c668fd-9baa-4091-9e4c-f89513f1364f",
   "metadata": {},
   "outputs": [],
   "source": []
  },
  {
   "cell_type": "code",
   "execution_count": null,
   "id": "4f11b526-cc1c-4a0c-bb70-9c472cb82597",
   "metadata": {},
   "outputs": [],
   "source": []
  },
  {
   "cell_type": "code",
   "execution_count": null,
   "id": "46c50b5b-6d9c-4bf1-87b4-547b1cb0c3cc",
   "metadata": {},
   "outputs": [],
   "source": []
  }
 ],
 "metadata": {
  "kernelspec": {
   "display_name": "Python 3",
   "language": "python",
   "name": "python3"
  },
  "language_info": {
   "codemirror_mode": {
    "name": "ipython",
    "version": 3
   },
   "file_extension": ".py",
   "mimetype": "text/x-python",
   "name": "python",
   "nbconvert_exporter": "python",
   "pygments_lexer": "ipython3",
   "version": "3.9.4"
  }
 },
 "nbformat": 4,
 "nbformat_minor": 5
}
