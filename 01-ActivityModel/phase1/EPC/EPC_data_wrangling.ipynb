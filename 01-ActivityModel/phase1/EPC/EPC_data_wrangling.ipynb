{
 "cells": [
  {
   "cell_type": "markdown",
   "id": "bc670aaa",
   "metadata": {},
   "source": [
    "# Wrangling: Energy Performance of Buildings Data England\n",
    "\n",
    "In this notebook we present the steps made to clean and organize the EPC data.\n",
    "\n",
    "> The organization must follow the standards present in the synthetic population.\n",
    "\n",
    "To know more about the EPC data, please see the [01-EPC_data_Overview.ipynb](01-EPC_data_Overview.ipynb) notebook."
   ]
  },
  {
   "cell_type": "markdown",
   "id": "db976e97",
   "metadata": {},
   "source": [
    "## EPC data\n",
    "\n",
    "Data on the energy performance of buildings in England and Wales can be obtained from the Energy Performance Certificate (EPC) provided [here](https://epc.opendatacommunities.org/) (you will need to register to access the data).\n",
    "\n",
    "For this work, we downloaded all available files (button `All results (.zip)`).\n",
    "\n",
    "* EPCs issued from January 2008 up to and including 30 June 2021.\n",
    "* 21,440,172 Domestic EPCs\n",
    "* Download: 18 October 2021"
   ]
  },
  {
   "cell_type": "markdown",
   "id": "a17db840",
   "metadata": {},
   "source": [
    "## Wrangling proccess description\n",
    "\n",
    "To wrangling the EPC data, the following steps were applied for each column:\n",
    "\n",
    "1. Get the desired values and codes from the MSM data;\n",
    "    * if the variable is not present in the MSM data, define a desired code/value table.\n",
    "1. Get all the values from the EPC data;\n",
    "1. Assign a code to each EPC value following the MSM description (or the desired code/value table);\n",
    "    * If the row has no value (or has a value with no match), the value -1 will be used;\n",
    "1. Create a lookup dictionary;\n",
    "1. Go through the entire table updating values based on the lookup dictionary;\n",
    "1. Save the updated table;"
   ]
  },
  {
   "cell_type": "markdown",
   "id": "34483f16",
   "metadata": {},
   "source": [
    "## Initialisation"
   ]
  },
  {
   "cell_type": "markdown",
   "id": "56da2d26",
   "metadata": {},
   "source": [
    "### Import necessary modules"
   ]
  },
  {
   "cell_type": "code",
   "execution_count": 1,
   "id": "d7db3cc3",
   "metadata": {},
   "outputs": [],
   "source": [
    "import pandas as pd\n",
    "import zipfile\n",
    "import os\n",
    "from tqdm import tqdm  # add progress bar\n",
    "import numpy as np"
   ]
  },
  {
   "cell_type": "markdown",
   "id": "ed0820cc",
   "metadata": {},
   "source": [
    "### Defining necessary parameters"
   ]
  },
  {
   "cell_type": "markdown",
   "id": "ddb5172c",
   "metadata": {},
   "source": [
    "#### Empty value\n",
    "\n",
    "* `empty`: value to be used in fields with empty, unknow, or uncategorised values"
   ]
  },
  {
   "cell_type": "code",
   "execution_count": 2,
   "id": "c18971ea",
   "metadata": {},
   "outputs": [],
   "source": [
    "empty = -1"
   ]
  },
  {
   "cell_type": "markdown",
   "id": "6a67d116",
   "metadata": {},
   "source": [
    "#### EPC zip file\n",
    "\n",
    "* `epc_zip_file`: zip raw file containing all available epc data"
   ]
  },
  {
   "cell_type": "code",
   "execution_count": 3,
   "id": "19b31ce6",
   "metadata": {},
   "outputs": [],
   "source": [
    "epc_zip_file = zipfile.ZipFile(os.path.join('data', 'all-domestic-certificates.zip'))"
   ]
  },
  {
   "cell_type": "markdown",
   "id": "9a11cfd4",
   "metadata": {},
   "source": [
    "#### England certificate files\n",
    "\n",
    "* `epc_files` is a list containing the paths of all certificates available for England inside `epc_zip_file`"
   ]
  },
  {
   "cell_type": "code",
   "execution_count": 4,
   "id": "e0213589",
   "metadata": {},
   "outputs": [
    {
     "data": {
      "text/plain": [
       "['domestic-E07000044-South-Hams/certificates.csv',\n",
       " 'domestic-E07000078-Cheltenham/certificates.csv',\n",
       " 'domestic-E07000145-Great-Yarmouth/certificates.csv',\n",
       " 'domestic-E07000169-Selby/certificates.csv',\n",
       " 'domestic-E07000026-Allerdale/certificates.csv',\n",
       " 'domestic-E07000228-Mid-Sussex/certificates.csv',\n",
       " 'domestic-E08000031-Wolverhampton/certificates.csv',\n",
       " 'domestic-E09000003-Barnet/certificates.csv',\n",
       " 'domestic-E07000073-Harlow/certificates.csv',\n",
       " 'domestic-E07000096-Dacorum/certificates.csv',\n",
       " 'domestic-E09000024-Merton/certificates.csv',\n",
       " 'domestic-E07000176-Rushcliffe/certificates.csv',\n",
       " 'domestic-E07000034-Chesterfield/certificates.csv',\n",
       " 'domestic-E06000027-Torbay/certificates.csv',\n",
       " 'domestic-E07000084-Basingstoke-and-Deane/certificates.csv',\n",
       " 'domestic-E06000059-Dorset/certificates.csv',\n",
       " 'domestic-E06000019-Herefordshire-County-of/certificates.csv',\n",
       " 'domestic-E07000008-Cambridge/certificates.csv',\n",
       " 'domestic-E07000080-Forest-of-Dean/certificates.csv',\n",
       " 'domestic-E07000103-Watford/certificates.csv',\n",
       " 'domestic-E09000001-City-of-London/certificates.csv',\n",
       " 'domestic-E07000121-Lancaster/certificates.csv',\n",
       " 'domestic-E07000168-Scarborough/certificates.csv',\n",
       " 'domestic-E07000174-Mansfield/certificates.csv',\n",
       " 'domestic-E06000038-Reading/certificates.csv',\n",
       " 'domestic-E07000082-Stroud/certificates.csv',\n",
       " 'domestic-E07000225-Chichester/certificates.csv',\n",
       " 'domestic-E08000011-Knowsley/certificates.csv',\n",
       " 'domestic-E09000007-Camden/certificates.csv',\n",
       " 'domestic-E07000166-Richmondshire/certificates.csv',\n",
       " 'domestic-E06000020-Telford-and-Wrekin/certificates.csv',\n",
       " 'domestic-E06000023-Bristol-City-of/certificates.csv',\n",
       " 'domestic-E09000014-Haringey/certificates.csv',\n",
       " 'domestic-E09000032-Wandsworth/certificates.csv',\n",
       " 'domestic-E06000025-South-Gloucestershire/certificates.csv',\n",
       " 'domestic-E07000227-Horsham/certificates.csv',\n",
       " 'domestic-E07000229-Worthing/certificates.csv',\n",
       " 'domestic-E07000115-Tonbridge-and-Malling/certificates.csv',\n",
       " 'domestic-E07000147-North-Norfolk/certificates.csv',\n",
       " 'domestic-E08000007-Stockport/certificates.csv',\n",
       " 'domestic-E07000177-Cherwell/certificates.csv',\n",
       " 'domestic-E07000089-Hart/certificates.csv',\n",
       " 'domestic-E06000003-Redcar-and-Cleveland/certificates.csv',\n",
       " 'domestic-E07000210-Mole-Valley/certificates.csv',\n",
       " 'domestic-E07000126-South-Ribble/certificates.csv',\n",
       " 'domestic-E07000132-Hinckley-and-Bosworth/certificates.csv',\n",
       " 'domestic-E07000222-Warwick/certificates.csv',\n",
       " 'domestic-E09000026-Redbridge/certificates.csv',\n",
       " 'domestic-E07000033-Bolsover/certificates.csv',\n",
       " 'domestic-E08000018-Rotherham/certificates.csv',\n",
       " 'domestic-E09000019-Islington/certificates.csv',\n",
       " 'domestic-E07000031-South-Lakeland/certificates.csv',\n",
       " 'domestic-E07000152-East-Northamptonshire/certificates.csv',\n",
       " 'domestic-E07000128-Wyre/certificates.csv',\n",
       " 'domestic-E07000149-South-Norfolk/certificates.csv',\n",
       " 'domestic-E07000178-Oxford/certificates.csv',\n",
       " 'domestic-E07000085-East-Hampshire/certificates.csv',\n",
       " 'domestic-E07000077-Uttlesford/certificates.csv',\n",
       " 'domestic-E09000033-Westminster/certificates.csv',\n",
       " 'domestic-E06000044-Portsmouth/certificates.csv',\n",
       " 'domestic-E07000066-Basildon/certificates.csv',\n",
       " 'domestic-E08000034-Kirklees/certificates.csv',\n",
       " 'domestic-E08000024-Sunderland/certificates.csv',\n",
       " 'domestic-E07000042-Mid-Devon/certificates.csv',\n",
       " 'domestic-E07000142-West-Lindsey/certificates.csv',\n",
       " 'domestic-E06000008-Blackburn-with-Darwen/certificates.csv',\n",
       " 'domestic-E06000016-Leicester/certificates.csv',\n",
       " 'domestic-E08000016-Barnsley/certificates.csv',\n",
       " 'domestic-E07000217-Woking/certificates.csv',\n",
       " 'domestic-E07000109-Gravesham/certificates.csv',\n",
       " 'domestic-E07000108-Dover/certificates.csv',\n",
       " 'domestic-E08000037-Gateshead/certificates.csv',\n",
       " 'domestic-E08000002-Bury/certificates.csv',\n",
       " 'domestic-E07000006-South-Bucks/certificates.csv',\n",
       " 'domestic-E07000193-East-Staffordshire/certificates.csv',\n",
       " 'domestic-E08000004-Oldham/certificates.csv',\n",
       " 'domestic-E07000188-Sedgemoor/certificates.csv',\n",
       " 'domestic-E08000033-Calderdale/certificates.csv',\n",
       " 'domestic-E07000175-Newark-and-Sherwood/certificates.csv',\n",
       " 'domestic-E06000012-North-East-Lincolnshire/certificates.csv',\n",
       " 'domestic-E06000037-West-Berkshire/certificates.csv',\n",
       " 'domestic-E06000009-Blackpool/certificates.csv',\n",
       " 'domestic-E07000063-Lewes/certificates.csv',\n",
       " 'domestic-E09000016-Havering/certificates.csv',\n",
       " 'domestic-E07000194-Lichfield/certificates.csv',\n",
       " 'domestic-E08000014-Sefton/certificates.csv',\n",
       " 'domestic-E08000022-North-Tyneside/certificates.csv',\n",
       " 'domestic-E07000197-Stafford/certificates.csv',\n",
       " 'domestic-E08000030-Walsall/certificates.csv',\n",
       " 'domestic-E07000114-Thanet/certificates.csv',\n",
       " 'domestic-E08000012-Liverpool/certificates.csv',\n",
       " 'domestic-E08000027-Dudley/certificates.csv',\n",
       " 'domestic-E08000015-Wirral/certificates.csv',\n",
       " 'domestic-E07000195-Newcastle-under-Lyme/certificates.csv',\n",
       " 'domestic-E07000200-Babergh/certificates.csv',\n",
       " 'domestic-E07000242-East-Hertfordshire/certificates.csv',\n",
       " 'domestic-E07000070-Chelmsford/certificates.csv',\n",
       " 'domestic-E07000246-Somerset-West-and-Taunton/certificates.csv',\n",
       " 'domestic-E07000245-West-Suffolk/certificates.csv',\n",
       " 'domestic-E07000065-Wealden/certificates.csv',\n",
       " 'domestic-E09000030-Tower-Hamlets/certificates.csv',\n",
       " 'domestic-E06000026-Plymouth/certificates.csv',\n",
       " 'domestic-E07000067-Braintree/certificates.csv',\n",
       " 'domestic-E09000021-Kingston-upon-Thames/certificates.csv',\n",
       " 'domestic-E08000008-Tameside/certificates.csv',\n",
       " 'domestic-E06000041-Wokingham/certificates.csv',\n",
       " 'domestic-E07000038-North-East-Derbyshire/certificates.csv',\n",
       " 'domestic-E06000040-Windsor-and-Maidenhead/certificates.csv',\n",
       " 'domestic-E07000181-West-Oxfordshire/certificates.csv',\n",
       " 'domestic-E07000223-Adur/certificates.csv',\n",
       " 'domestic-E06000060-Buckinghamshire/certificates.csv',\n",
       " 'domestic-E06000051-Shropshire/certificates.csv',\n",
       " 'domestic-E07000086-Eastleigh/certificates.csv',\n",
       " 'domestic-E07000040-East-Devon/certificates.csv',\n",
       " 'domestic-E07000216-Waverley/certificates.csv',\n",
       " 'domestic-E06000001-Hartlepool/certificates.csv',\n",
       " 'domestic-E08000005-Rochdale/certificates.csv',\n",
       " 'domestic-E06000039-Slough/certificates.csv',\n",
       " 'domestic-E06000004-Stockton-on-Tees/certificates.csv',\n",
       " 'domestic-E09000027-Richmond-upon-Thames/certificates.csv',\n",
       " 'domestic-E07000187-Mendip/certificates.csv',\n",
       " 'domestic-E07000012-South-Cambridgeshire/certificates.csv',\n",
       " 'domestic-E06000053-Isles-of-Scilly/certificates.csv',\n",
       " 'domestic-E07000211-Reigate-and-Banstead/certificates.csv',\n",
       " 'domestic-E08000035-Leeds/certificates.csv',\n",
       " 'domestic-E07000064-Rother/certificates.csv',\n",
       " 'domestic-E07000153-Kettering/certificates.csv',\n",
       " 'domestic-E07000106-Canterbury/certificates.csv',\n",
       " 'domestic-E09000017-Hillingdon/certificates.csv',\n",
       " 'domestic-E07000037-High-Peak/certificates.csv',\n",
       " 'domestic-E07000212-Runnymede/certificates.csv',\n",
       " 'domestic-E06000032-Luton/certificates.csv',\n",
       " 'domestic-E07000150-Corby/certificates.csv',\n",
       " 'domestic-E06000030-Swindon/certificates.csv',\n",
       " 'domestic-E07000030-Eden/certificates.csv',\n",
       " 'domestic-E07000009-East-Cambridgeshire/certificates.csv',\n",
       " 'domestic-E07000061-Eastbourne/certificates.csv',\n",
       " 'domestic-E07000189-South-Somerset/certificates.csv',\n",
       " 'domestic-E07000180-Vale-of-White-Horse/certificates.csv',\n",
       " 'domestic-E07000045-Teignbridge/certificates.csv',\n",
       " 'domestic-E08000017-Doncaster/certificates.csv',\n",
       " 'domestic-E07000081-Gloucester/certificates.csv',\n",
       " 'domestic-E07000123-Preston/certificates.csv',\n",
       " 'domestic-E07000088-Gosport/certificates.csv',\n",
       " 'domestic-E07000173-Gedling/certificates.csv',\n",
       " 'domestic-E07000137-East-Lindsey/certificates.csv',\n",
       " 'domestic-E07000235-Malvern-Hills/certificates.csv',\n",
       " 'domestic-E07000171-Bassetlaw/certificates.csv',\n",
       " 'domestic-E06000055-Bedford/certificates.csv',\n",
       " 'domestic-E06000022-Bath-and-North-East-Somerset/certificates.csv',\n",
       " 'domestic-E07000036-Erewash/certificates.csv',\n",
       " 'domestic-E07000102-Three-Rivers/certificates.csv',\n",
       " 'domestic-E07000141-South-Kesteven/certificates.csv',\n",
       " 'domestic-E06000002-Middlesbrough/certificates.csv',\n",
       " 'domestic-E07000093-Test-Valley/certificates.csv',\n",
       " 'domestic-E06000024-North-Somerset/certificates.csv',\n",
       " 'domestic-E09000015-Harrow/certificates.csv',\n",
       " 'domestic-E07000151-Daventry/certificates.csv',\n",
       " 'domestic-E08000032-Bradford/certificates.csv',\n",
       " 'domestic-E07000238-Wychavon/certificates.csv',\n",
       " 'domestic-E07000154-Northampton/certificates.csv',\n",
       " 'domestic-E06000031-Peterborough/certificates.csv',\n",
       " 'domestic-E07000207-Elmbridge/certificates.csv',\n",
       " 'domestic-E07000155-South-Northamptonshire/certificates.csv',\n",
       " 'domestic-E07000192-Cannock-Chase/certificates.csv',\n",
       " 'domestic-E07000071-Colchester/certificates.csv',\n",
       " 'domestic-E07000087-Fareham/certificates.csv',\n",
       " 'domestic-E07000043-North-Devon/certificates.csv',\n",
       " 'domestic-E09000023-Lewisham/certificates.csv',\n",
       " 'domestic-E07000144-Broadland/certificates.csv',\n",
       " 'domestic-E07000120-Hyndburn/certificates.csv',\n",
       " 'domestic-E07000029-Copeland/certificates.csv',\n",
       " 'domestic-E06000058-Bournemouth-Christchurch-and-Poole/certificates.csv',\n",
       " 'domestic-E08000009-Trafford/certificates.csv',\n",
       " 'domestic-E06000046-Isle-of-Wight/certificates.csv',\n",
       " 'domestic-E07000156-Wellingborough/certificates.csv',\n",
       " 'domestic-E07000094-Winchester/certificates.csv',\n",
       " 'domestic-E07000068-Brentwood/certificates.csv',\n",
       " 'domestic-E07000099-North-Hertfordshire/certificates.csv',\n",
       " 'domestic-E07000092-Rushmoor/certificates.csv',\n",
       " 'domestic-E07000111-Sevenoaks/certificates.csv',\n",
       " 'domestic-E09000018-Hounslow/certificates.csv',\n",
       " 'domestic-E06000047-County-Durham/certificates.csv',\n",
       " 'domestic-E09000011-Greenwich/certificates.csv',\n",
       " 'domestic-E07000035-Derbyshire-Dales/certificates.csv',\n",
       " 'domestic-E07000202-Ipswich/certificates.csv',\n",
       " 'domestic-E06000054-Wiltshire/certificates.csv',\n",
       " 'domestic-E08000021-Newcastle-upon-Tyne/certificates.csv',\n",
       " 'domestic-E06000033-Southend-on-Sea/certificates.csv',\n",
       " 'domestic-E07000118-Chorley/certificates.csv',\n",
       " 'domestic-E07000146-King-s-Lynn-and-West-Norfolk/certificates.csv',\n",
       " 'domestic-E07000062-Hastings/certificates.csv',\n",
       " 'domestic-E07000011-Huntingdonshire/certificates.csv',\n",
       " 'domestic-E06000011-East-Riding-of-Yorkshire/certificates.csv',\n",
       " 'domestic-E06000010-Kingston-upon-Hull-City-of/certificates.csv',\n",
       " 'domestic-E07000004-Aylesbury-Vale/certificates.csv',\n",
       " 'domestic-E07000221-Stratford-on-Avon/certificates.csv',\n",
       " 'domestic-E07000179-South-Oxfordshire/certificates.csv',\n",
       " 'domestic-E07000203-Mid-Suffolk/certificates.csv',\n",
       " 'domestic-E07000140-South-Holland/certificates.csv',\n",
       " 'domestic-E07000165-Harrogate/certificates.csv',\n",
       " 'domestic-E09000010-Enfield/certificates.csv',\n",
       " 'domestic-E07000139-North-Kesteven/certificates.csv',\n",
       " 'domestic-E08000025-Birmingham/certificates.csv',\n",
       " 'domestic-E07000170-Ashfield/certificates.csv',\n",
       " 'domestic-E07000243-Stevenage/certificates.csv',\n",
       " 'domestic-E07000134-North-West-Leicestershire/certificates.csv',\n",
       " 'domestic-E06000042-Milton-Keynes/certificates.csv',\n",
       " 'domestic-E07000172-Broxtowe/certificates.csv',\n",
       " 'domestic-E07000125-Rossendale/certificates.csv',\n",
       " 'domestic-E06000049-Cheshire-East/certificates.csv',\n",
       " 'domestic-E07000039-South-Derbyshire/certificates.csv',\n",
       " 'domestic-E07000005-Chiltern/certificates.csv',\n",
       " 'domestic-E06000035-Medway/certificates.csv',\n",
       " 'domestic-E07000069-Castle-Point/certificates.csv',\n",
       " 'domestic-E07000083-Tewkesbury/certificates.csv',\n",
       " 'domestic-E06000045-Southampton/certificates.csv',\n",
       " 'domestic-E07000122-Pendle/certificates.csv',\n",
       " 'domestic-E07000010-Fenland/certificates.csv',\n",
       " 'domestic-E07000236-Redditch/certificates.csv',\n",
       " 'domestic-E07000072-Epping-Forest/certificates.csv',\n",
       " 'domestic-E06000034-Thurrock/certificates.csv',\n",
       " 'domestic-E09000025-Newham/certificates.csv',\n",
       " 'domestic-E06000050-Cheshire-West-and-Chester/certificates.csv',\n",
       " 'domestic-E07000124-Ribble-Valley/certificates.csv',\n",
       " 'domestic-E07000240-St-Albans/certificates.csv',\n",
       " 'domestic-E06000043-Brighton-and-Hove/certificates.csv',\n",
       " 'domestic-E07000208-Epsom-and-Ewell/certificates.csv',\n",
       " 'domestic-E06000021-Stoke-on-Trent/certificates.csv',\n",
       " 'domestic-E09000006-Bromley/certificates.csv',\n",
       " 'domestic-E07000164-Hambleton/certificates.csv',\n",
       " 'domestic-E07000196-South-Staffordshire/certificates.csv',\n",
       " 'domestic-E07000224-Arun/certificates.csv',\n",
       " 'domestic-E06000014-York/certificates.csv',\n",
       " 'domestic-E07000112-Folkestone-and-Hythe/certificates.csv',\n",
       " 'domestic-E07000110-Maidstone/certificates.csv',\n",
       " 'domestic-E08000019-Sheffield/certificates.csv',\n",
       " 'domestic-E09000013-Hammersmith-and-Fulham/certificates.csv',\n",
       " 'domestic-E06000017-Rutland/certificates.csv',\n",
       " 'domestic-E07000244-East-Suffolk/certificates.csv',\n",
       " 'domestic-E07000130-Charnwood/certificates.csv',\n",
       " 'domestic-E07000046-Torridge/certificates.csv',\n",
       " 'domestic-E09000031-Waltham-Forest/certificates.csv',\n",
       " 'domestic-E06000018-Nottingham/certificates.csv',\n",
       " 'domestic-E06000006-Halton/certificates.csv',\n",
       " 'domestic-E06000007-Warrington/certificates.csv',\n",
       " 'domestic-E07000220-Rugby/certificates.csv',\n",
       " 'domestic-E07000167-Ryedale/certificates.csv',\n",
       " 'domestic-E07000218-North-Warwickshire/certificates.csv',\n",
       " 'domestic-E07000148-Norwich/certificates.csv',\n",
       " 'domestic-E07000199-Tamworth/certificates.csv',\n",
       " 'domestic-E06000036-Bracknell-Forest/certificates.csv',\n",
       " 'domestic-E09000002-Barking-and-Dagenham/certificates.csv',\n",
       " 'domestic-E07000047-West-Devon/certificates.csv',\n",
       " 'domestic-E06000056-Central-Bedfordshire/certificates.csv',\n",
       " 'domestic-E08000003-Manchester/certificates.csv',\n",
       " 'domestic-E07000079-Cotswold/certificates.csv',\n",
       " 'domestic-E09000020-Kensington-and-Chelsea/certificates.csv',\n",
       " 'domestic-E07000209-Guildford/certificates.csv',\n",
       " 'domestic-E07000107-Dartford/certificates.csv',\n",
       " 'domestic-E07000143-Breckland/certificates.csv',\n",
       " 'domestic-E07000214-Surrey-Heath/certificates.csv',\n",
       " 'domestic-E07000198-Staffordshire-Moorlands/certificates.csv',\n",
       " 'domestic-E07000215-Tandridge/certificates.csv',\n",
       " 'domestic-E07000028-Carlisle/certificates.csv',\n",
       " 'domestic-E09000008-Croydon/certificates.csv',\n",
       " 'domestic-E07000007-Wycombe/certificates.csv',\n",
       " 'domestic-E07000027-Barrow-in-Furness/certificates.csv',\n",
       " 'domestic-E07000074-Maldon/certificates.csv',\n",
       " 'domestic-E07000239-Wyre-Forest/certificates.csv',\n",
       " 'domestic-E06000015-Derby/certificates.csv',\n",
       " 'domestic-E07000098-Hertsmere/certificates.csv',\n",
       " 'domestic-E07000226-Crawley/certificates.csv',\n",
       " 'domestic-E07000219-Nuneaton-and-Bedworth/certificates.csv',\n",
       " 'domestic-E07000113-Swale/certificates.csv',\n",
       " 'domestic-E07000090-Havant/certificates.csv',\n",
       " 'domestic-E07000129-Blaby/certificates.csv',\n",
       " 'domestic-E09000004-Bexley/certificates.csv',\n",
       " 'domestic-E07000131-Harborough/certificates.csv',\n",
       " 'domestic-E07000116-Tunbridge-Wells/certificates.csv',\n",
       " 'domestic-E07000163-Craven/certificates.csv',\n",
       " 'domestic-E07000032-Amber-Valley/certificates.csv',\n",
       " 'domestic-E07000075-Rochford/certificates.csv',\n",
       " 'domestic-E06000057-Northumberland/certificates.csv',\n",
       " 'domestic-E09000012-Hackney/certificates.csv',\n",
       " 'domestic-E07000213-Spelthorne/certificates.csv',\n",
       " 'domestic-E08000036-Wakefield/certificates.csv',\n",
       " 'domestic-E08000029-Solihull/certificates.csv',\n",
       " 'domestic-E07000237-Worcester/certificates.csv',\n",
       " 'domestic-E07000241-Welwyn-Hatfield/certificates.csv',\n",
       " 'domestic-E08000013-St-Helens/certificates.csv',\n",
       " 'domestic-E07000041-Exeter/certificates.csv',\n",
       " 'domestic-E07000117-Burnley/certificates.csv',\n",
       " 'domestic-E07000091-New-Forest/certificates.csv',\n",
       " 'domestic-E07000076-Tendring/certificates.csv',\n",
       " 'domestic-E07000119-Fylde/certificates.csv',\n",
       " 'domestic-E08000010-Wigan/certificates.csv',\n",
       " 'domestic-E08000026-Coventry/certificates.csv',\n",
       " 'domestic-E09000022-Lambeth/certificates.csv',\n",
       " 'domestic-E06000005-Darlington/certificates.csv',\n",
       " 'domestic-E08000028-Sandwell/certificates.csv',\n",
       " 'domestic-E06000052-Cornwall/certificates.csv',\n",
       " 'domestic-E09000005-Brent/certificates.csv',\n",
       " 'domestic-E08000006-Salford/certificates.csv',\n",
       " 'domestic-E07000135-Oadby-and-Wigston/certificates.csv',\n",
       " 'domestic-E07000133-Melton/certificates.csv',\n",
       " 'domestic-E06000013-North-Lincolnshire/certificates.csv',\n",
       " 'domestic-E09000029-Sutton/certificates.csv',\n",
       " 'domestic-E07000136-Boston/certificates.csv',\n",
       " 'domestic-E08000023-South-Tyneside/certificates.csv',\n",
       " 'domestic-E07000234-Bromsgrove/certificates.csv',\n",
       " 'domestic-E07000105-Ashford/certificates.csv',\n",
       " 'domestic-E07000127-West-Lancashire/certificates.csv',\n",
       " 'domestic-E09000009-Ealing/certificates.csv',\n",
       " 'domestic-E07000138-Lincoln/certificates.csv',\n",
       " 'domestic-E09000028-Southwark/certificates.csv',\n",
       " 'domestic-E08000001-Bolton/certificates.csv',\n",
       " 'domestic-E07000095-Broxbourne/certificates.csv']"
      ]
     },
     "execution_count": 4,
     "metadata": {},
     "output_type": "execute_result"
    }
   ],
   "source": [
    "# get the path of all certificate files\n",
    "epc_files = [text_file.filename for text_file in epc_zip_file.infolist() if text_file.filename.endswith('certificates.csv')]\n",
    "\n",
    "# return just the certificates for England local authorities\n",
    "epc_files = [folder for folder in epc_files if folder.split('-')[1][0] is 'E']\n",
    "epc_files"
   ]
  },
  {
   "cell_type": "markdown",
   "id": "b1c552e7",
   "metadata": {},
   "source": [
    "#### Desired columns\n",
    "\n",
    "* `epc_desired_headers`: list with all parameters necessary for this project;\n",
    "\n",
    "Each file has 90 columns and the complete **glossary** is available [here](https://epc.opendatacommunities.org/docs/guidance#glossary). For instance, the required headers are:\n",
    "\n",
    "* `POSTCODE`: The postcode of the property\n",
    "\n",
    "* `LOCAL_AUTHORITY`: Office for National Statistics (ONS) code. Local authority area in which the building is located.\n",
    "\n",
    "* `PROPERTY_TYPE`: Describes the type of building that is being inspected. Based on planning use class.\n",
    "\n",
    "* `BUILT_FORM`: The building type of the Property e.g. Detached, Semi-Detached, Terrace etc. Together with the Property Type, the Build Form produces a structured description of the property\n",
    "\n",
    "* `CONSTRUCTION_AGE_BAND`: Age band when building part constructed. England & Wales only. One of: before 1900; 1900-1929; 1930-1949; 1950-1966; 1967-1975; 1976-1982; 1983-1990; 1991-1995; 1996-2002; 2003-2006; 2007-2011; 2012 onwards.\n",
    "\n",
    "* `TENURE`: Describes the tenure type of the property. One of: Owner-occupied; Rented (social); Rented (private).\n",
    "\n",
    "* `TOTAL_FLOOR_AREA`: Total Useful Floor Area (m²)\n",
    "\n",
    "* `NUMBER_HABITABLE_ROOMS`: Habitable rooms include any living room, sitting room, dining room, bedroom, study and similar; and also a non-separated conservatory. A kitchen/diner having a discrete seating area (with space for a table and four chairs) also counts as a habitable room. A non-separated conservatory adds to the habitable room count if it has an internal quality door between it and the dwelling. Excluded from the room count are any room used solely as a kitchen, utility room, bathroom, cloakroom, en-suite accommodation and similar and any hallway, stairs or landing; and also any room not having a window.\n",
    "\n",
    "\n",
    "> Each header must be organized according to be consistent with the MSM data and with the Propensity Score Matching method."
   ]
  },
  {
   "cell_type": "code",
   "execution_count": 5,
   "id": "7b434eae",
   "metadata": {},
   "outputs": [],
   "source": [
    "epc_desired_headers = [\n",
    "        'POSTCODE',\n",
    "        'LOCAL_AUTHORITY',\n",
    "        'PROPERTY_TYPE',\n",
    "        'BUILT_FORM',        \n",
    "        'CONSTRUCTION_AGE_BAND',\n",
    "        'TENURE',    \n",
    "        'TOTAL_FLOOR_AREA',  # m²\n",
    "        'NUMBER_HABITABLE_ROOMS',\n",
    "        #'ENERGY_CONSUMPTION_CURRENT',\n",
    "        #'CURRENT_ENERGY_RATING'\n",
    "        ]"
   ]
  },
  {
   "cell_type": "markdown",
   "id": "49ad46eb",
   "metadata": {},
   "source": [
    "### Defining necessary functions"
   ]
  },
  {
   "cell_type": "code",
   "execution_count": 6,
   "id": "e960b643",
   "metadata": {},
   "outputs": [],
   "source": [
    "def set_categorical_code(df, df_col, lookup, empty=False, rename=False):\n",
    "    '''\n",
    "     Transform a categorical column using a lookup \n",
    "     for a categorical value in df.\n",
    "\n",
    "     :param df: The input dataframe\n",
    "     :param df_col: The column in df that represents the categorical values\n",
    "     :param lookup: A dict of 'categorical_value -> categorical_code'\n",
    "     :param empty: The value to be used in empty items (if false, empty lines are dropped)\n",
    "     :param rename: The new column name after transformation (if false, keep the current name).\n",
    "    '''\n",
    "    \n",
    "    def augment(x, lookup):  # This looks redundant, but ensures that the function works even for missing values.\n",
    "        try:\n",
    "            return lookup[x]\n",
    "        except:\n",
    "            return\n",
    "\n",
    "    # setting new values according the rename_dict\n",
    "    df[df_col] = df[df_col].apply(func=lambda x: augment(x, lookup))\n",
    "    \n",
    "    # fill empty columns\n",
    "    if empty:\n",
    "        df[df_col].fillna(empty, inplace=True)\n",
    "    else:\n",
    "        df.dropna(subset = [df_col], inplace=True)\n",
    "    \n",
    "    # rename\n",
    "    if rename:\n",
    "        df.rename({df_col: rename}, axis=1, inplace=True)\n",
    "    \n",
    "    return df"
   ]
  },
  {
   "cell_type": "code",
   "execution_count": 7,
   "id": "93b727e0",
   "metadata": {},
   "outputs": [],
   "source": [
    "def set_numerical_code(df, df_col, lookup, empty=False, rename=False):\n",
    "    '''\n",
    "     Transform a numerical column using a lookup \n",
    "     for a numerical value in df, following \n",
    "     the rule:\n",
    "     - if (j < value <= k), then, (value = i)\n",
    "     \n",
    "     :param df: The input dataframe\n",
    "     :param df_col: The column in df that represents the categorical values\n",
    "     :param empty: The value to be used in empty items (if false, empty lines are dropped)\n",
    "     :param rename: The new column name after transformation.\n",
    "     :param lookup: A dict of 'numerical_value -> numerical_code'\n",
    "      - [[i1, j1, k1], [i2, j2, k2], ..., [iN, jN, kN]], where:\n",
    "       * iN: desired code for band N\n",
    "       * jN: minimum value of the band N (not included)\n",
    "       * kN: maximum value of the band N (included)\n",
    "       * N: number of bands\n",
    "    '''\n",
    "    for band in lookup:\n",
    "        df.loc[(df[df_col] > band[1]) & (df[df_col] <= band[2]), df_col] = band[0]\n",
    "        \n",
    "    # fill empty columns\n",
    "    if empty:\n",
    "        df[df_col].fillna(empty, inplace=True)\n",
    "    else:\n",
    "        df.dropna(subset = [df_col], inplace=True)\n",
    "    \n",
    "    # rename\n",
    "    if rename:\n",
    "        df.rename({df_col: rename}, axis=1, inplace=True)\n",
    "        \n",
    "    return df"
   ]
  },
  {
   "cell_type": "markdown",
   "id": "a1b0b8ea",
   "metadata": {},
   "source": [
    "## Defining lookup for each column"
   ]
  },
  {
   "cell_type": "markdown",
   "id": "0be32c4b",
   "metadata": {},
   "source": [
    "### Location"
   ]
  },
  {
   "cell_type": "markdown",
   "id": "107316b1",
   "metadata": {},
   "source": [
    "#### Location in MSM data\n",
    "\n",
    "According the documentation, in the MSM data, each household is allocated in a Local Authority and a **Middle Layer Super Output Area** (MSOA)."
   ]
  },
  {
   "cell_type": "markdown",
   "id": "a46eabf1",
   "metadata": {},
   "source": [
    "#### Location in EPC data\n",
    "\n",
    "The accommodation locations on EPC data are organized by Local Authority and by postcode.\n",
    "\n",
    "Therefore, the first step is to use postcode information to assign the MSOA code to each accommodation present in EPC data."
   ]
  },
  {
   "cell_type": "markdown",
   "id": "05324d17",
   "metadata": {},
   "source": [
    "#### Defining the location lookup\n",
    "\n",
    "Next, we will determine the tenure lookup (`tenure_lookup`) by combining the values that appear in the EPC data with the MSM categories.\n",
    "\n",
    "> check if this values are the same for your EPC data version - if necessary, update the lists bellow.\n",
    "\n",
    "\n",
    "Data for linking an MSOA code to a postcode is provided by the [Open Geography portal from the Office for National Statistics](https://geoportal.statistics.gov.uk/)\n",
    "\n",
    "Several versions are available. Here, data from [November 2020](https://geoportal.statistics.gov.uk/datasets/postcode-to-output-area-to-lower-layer-super-output-area-to-middle-layer-super-output-area-to-local-authority-district-november-2020-lookup-in-the-uk/about) (the same data reported in the synthetic population) will be used.\n",
    "\n",
    "**Path:** please put the file in: `msoa/PCD_OA_LSOA_MSOA_LAD_NOV20_UK_LU.csv`"
   ]
  },
  {
   "cell_type": "code",
   "execution_count": 8,
   "id": "0e9079db",
   "metadata": {},
   "outputs": [],
   "source": [
    "msoa_zip_file = \"data/PCD_OA_LSOA_MSOA_LAD_NOV20_UK_LU.zip\"\n",
    "msoa_lookup = pd.read_csv(msoa_zip_file, usecols=[\"pcds\", \"msoa11cd\"])\n",
    "msoa_lookup = msoa_lookup.set_index('pcds', drop=True).loc[:,'msoa11cd'].to_dict()"
   ]
  },
  {
   "cell_type": "markdown",
   "id": "dba46e03",
   "metadata": {},
   "source": [
    "### Tenure"
   ]
  },
  {
   "cell_type": "markdown",
   "id": "cf122018",
   "metadata": {},
   "source": [
    "#### Tenure in MSM data\n",
    "\n",
    "According the documentation, in the MSM data, the tenure column is organized according to:\n",
    "\n",
    "```json\n",
    "   \"LC4402_C_TENHUK11\": {\n",
    "      \"0\": \"All categories: Tenure\",\n",
    "      \"1\": \"Owned or shared ownership: Total\",\n",
    "      \"2\": \"Owned: Owned outright\",\n",
    "      \"3\": \"Owned: Owned with a mortgage or loan or shared ownership\",\n",
    "      \"4\": \"Rented or living rent free: Total\",\n",
    "      \"5\": \"Rented: Social rented\",\n",
    "      \"6\": \"Rented: Private rented or living rent free\"\n",
    "    }\n",
    "```"
   ]
  },
  {
   "cell_type": "markdown",
   "id": "ef011d80",
   "metadata": {},
   "source": [
    "#### Tenure in EPC data\n",
    "\n",
    "Lets check all Tenure values that appears on the EPC data:"
   ]
  },
  {
   "cell_type": "code",
   "execution_count": 9,
   "id": "94c8bdf8",
   "metadata": {},
   "outputs": [
    {
     "name": "stdout",
     "output_type": "stream",
     "text": [
      "[nan, 'Not defined - use in the case of a new dwelling for which the intended tenure in not known. It is no', 'owner-occupied', 'Owner-occupied', 'Rented (private)', 'rental (social)', 'NO DATA!', 'rental (private)', 'Rented (social)', 'unknown']\n"
     ]
    }
   ],
   "source": [
    "all_tenures = []\n",
    "for file in epc_files:\n",
    "    epc_df = pd.read_csv(epc_zip_file.open(file), usecols=['TENURE'], low_memory=False)\n",
    "    values = list(epc_df.TENURE.unique())\n",
    "    all_tenures.extend(values)\n",
    "    \n",
    "all_tenures = list(set(all_tenures))\n",
    "print(all_tenures)\n",
    "\n",
    "del epc_df, values, all_tenures"
   ]
  },
  {
   "cell_type": "markdown",
   "id": "4520f7cc",
   "metadata": {},
   "source": [
    "#### Defining the tenure lookup\n",
    "\n",
    "Next, we will determine the tenure lookup (`tenure_lookup`) by combining the values that appear in the EPC data with the MSM categories.\n",
    "\n",
    "> check if this values are the same for your EPC data version - if necessary, update the lists bellow."
   ]
  },
  {
   "cell_type": "code",
   "execution_count": 10,
   "id": "8eefe336",
   "metadata": {},
   "outputs": [],
   "source": [
    "all_tenures = [\n",
    "        # 1?\n",
    "        'Owner-occupied',\n",
    "        'owner-occupied',\n",
    "        # 5\n",
    "        'rental (social)',\n",
    "        'Rented (social)',\n",
    "        # 6\n",
    "        'rental (private)',\n",
    "        'Rented (private)',\n",
    "        # empty\n",
    "        'Not defined - use in the case of a new dwelling for which the intended tenure in not known. It is no',\n",
    "        'unknown',\n",
    "        'NO DATA!'\n",
    "        ]\n",
    "\n",
    "tenures_codes = [\n",
    "        1, 1,\n",
    "        5, 5,\n",
    "        6, 6,\n",
    "        empty, empty, empty\n",
    "        ]\n",
    "\n",
    "tenure_lookup = pd.DataFrame({'all_tenures':all_tenures, 'tenures_codes':tenures_codes})\n",
    "tenure_lookup = tenure_lookup.set_index('all_tenures').to_dict()['tenures_codes']\n",
    "\n",
    "del all_tenures, tenures_codes"
   ]
  },
  {
   "cell_type": "markdown",
   "id": "6b447b36",
   "metadata": {},
   "source": [
    "### Accommodation type"
   ]
  },
  {
   "cell_type": "markdown",
   "id": "27e2f91e",
   "metadata": {},
   "source": [
    "#### Accommodation type in MSM data\n",
    "According the documentation, in the MSM data, the accommodation type column is organized according to:\n",
    "\n",
    "```json\n",
    "    \"LC4402_C_TYPACCOM\": {\n",
    "      \"0\": \"All categories: Accommodation type\",\n",
    "      \"1\": \"Whole house or bungalow: Total\",\n",
    "      \"2\": \"Whole house or bungalow: Detached\",\n",
    "      \"3\": \"Whole house or bungalow: Semi-detached\",\n",
    "      \"4\": \"Whole house or bungalow: Terraced (including end-terrace)\",\n",
    "      \"5\": \"Flat, maisonette or apartment, or mobile/temporary accommodation\"\n",
    "    }\n",
    "```"
   ]
  },
  {
   "cell_type": "markdown",
   "id": "1e6400fe",
   "metadata": {},
   "source": [
    "#### Accommodation type in EPC data\n",
    "\n",
    "Note that, in the MSM data, the property type and the built form are aggregated. The the same approach will be taken with EPC data. Lets check all Accommodation type (`PROPERTY_TYPE` + `BUILT_FORM`) values that appears on the EPC data."
   ]
  },
  {
   "cell_type": "code",
   "execution_count": 11,
   "id": "e0614ddf",
   "metadata": {},
   "outputs": [
    {
     "name": "stdout",
     "output_type": "stream",
     "text": [
      "[nan, 'House: Detached', 'Maisonette: Detached', 'House: End-Terrace', 'Maisonette: Mid-Terrace', 'Maisonette: Enclosed End-Terrace', 'House: Enclosed Mid-Terrace', 'House: Mid-Terrace', 'Bungalow: NO DATA!', 'Flat: Semi-Detached', 'Bungalow: Detached', 'Maisonette: End-Terrace', 'Bungalow: Enclosed End-Terrace', 'Bungalow: Semi-Detached', 'Bungalow: End-Terrace', 'Flat: End-Terrace', 'Flat: NO DATA!', 'Maisonette: NO DATA!', 'Maisonette: Semi-Detached', 'Flat: Detached', 'Bungalow: Mid-Terrace', 'Flat: Enclosed Mid-Terrace', 'Park home: Semi-Detached', 'House: NO DATA!', 'Bungalow: Enclosed Mid-Terrace', 'Flat: Mid-Terrace', 'Maisonette: Enclosed Mid-Terrace', 'House: Enclosed End-Terrace', 'House: Semi-Detached', 'Park home: Detached', 'Flat: Enclosed End-Terrace']\n"
     ]
    }
   ],
   "source": [
    "all_accommodations = []\n",
    "for file in epc_files:\n",
    "    epc_df = pd.read_csv(epc_zip_file.open(file), usecols=['PROPERTY_TYPE', 'BUILT_FORM'], low_memory=False)\n",
    "    epc_df['LC4402_C_TYPACCOM'] = epc_df['PROPERTY_TYPE'] + ': ' + epc_df['BUILT_FORM']\n",
    "    values = list(epc_df.LC4402_C_TYPACCOM.unique())\n",
    "    all_accommodations.extend(values)\n",
    "\n",
    "all_accommodations = list(set(all_accommodations))\n",
    "print(all_accommodations)\n",
    "\n",
    "del epc_df, values, all_accommodations"
   ]
  },
  {
   "cell_type": "markdown",
   "id": "c5e70b05",
   "metadata": {},
   "source": [
    "#### Defining the  accommodation type lookup\n",
    "\n",
    "Next, we will determine the  accommodation type dictionary (`accommodation_rename_dict`) by combining the values that appear in the EPC data with the MSM categories.\n",
    "\n",
    "Based on the values printed above, 30 different categorical values are observed in the EPC data.\n",
    "\n",
    "> check if this values are the same for your EPC data version - if necessary, update the lists bellow."
   ]
  },
  {
   "cell_type": "code",
   "execution_count": 12,
   "id": "bb659203",
   "metadata": {},
   "outputs": [],
   "source": [
    "all_accommodations = [\n",
    "        # 2\n",
    "        'House: Detached',\n",
    "        'Bungalow: Detached',\n",
    "        # 3\n",
    "        'House: Semi-Detached',\n",
    "        'Bungalow: Semi-Detached',\n",
    "        # 4\n",
    "        'House: Mid-Terrace',\n",
    "        'House: End-Terrace',\n",
    "        'House: Enclosed Mid-Terrace',\n",
    "        'House: Enclosed End-Terrace',\n",
    "        'Bungalow: Mid-Terrace',\n",
    "        'Bungalow: End-Terrace',\n",
    "        'Bungalow: Enclosed Mid-Terrace',\n",
    "        'Bungalow: Enclosed End-Terrace',\n",
    "        # 5\n",
    "        'Flat: NO DATA!',\n",
    "        'Flat: Detached',\n",
    "        'Flat: Semi-Detached',\n",
    "        'Flat: Mid-Terrace',\n",
    "        'Flat: End-Terrace',\n",
    "        'Flat: Enclosed Mid-Terrace',\n",
    "        'Flat: Enclosed End-Terrace',\n",
    "        'Maisonette: NO DATA!',\n",
    "        'Maisonette: Detached',\n",
    "        'Maisonette: Semi-Detached',\n",
    "        'Maisonette: Mid-Terrace',\n",
    "        'Maisonette: End-Terrace',\n",
    "        'Maisonette: Enclosed Mid-Terrace',\n",
    "        'Maisonette: Enclosed End-Terrace',\n",
    "        'Park home: Detached',\n",
    "        'Park home: Semi-Detached',\n",
    "        # -9?\n",
    "        'House: NO DATA!',\n",
    "        'Bungalow: NO DATA!',\n",
    "        ]\n",
    "\n",
    "accommodations_codes = [\n",
    "        2,2,\n",
    "        3,3,\n",
    "        4,4,4,4,4,4,4,4,\n",
    "        5,5,5,5,5,5,5,5,5,5,5,5,5,5,5,5,\n",
    "        empty, empty,\n",
    "        ]\n",
    "\n",
    "accommodation_df = pd.DataFrame({'all_accommodations':all_accommodations, 'accommodations_codes':accommodations_codes})\n",
    "accommodation_lookup = accommodation_df.set_index('all_accommodations').to_dict()['accommodations_codes']\n",
    "\n",
    "del all_accommodations, accommodations_codes, accommodation_df"
   ]
  },
  {
   "cell_type": "markdown",
   "id": "be3c23be",
   "metadata": {},
   "source": [
    "### Accommodation age"
   ]
  },
  {
   "cell_type": "markdown",
   "id": "a530e0e8",
   "metadata": {},
   "source": [
    "#### Accommodation age in MSM\n",
    "\n",
    "According the documentation, in the MSM data, the Construction age band column is organized according to:\n",
    "\n",
    "```json\n",
    "    \"ACCOM_AGE\": {\n",
    "      \"0\": \"All categories: Construction age band\",\n",
    "      \"1\": \"Pre 1930\",\n",
    "      \"2\": \"1930-1949\",\n",
    "      \"3\": \"1950-1966\",\n",
    "      \"4\": \"1967-1975\",\n",
    "      \"5\": \"1976-1982\",\n",
    "      \"6\": \"1983-1990\",\n",
    "      \"7\": \"1991-1995\",\n",
    "      \"8\": \"1996-2002\",\n",
    "      \"9\": \"2003-2006\",\n",
    "      \"10\": \"Post-2007\n",
    "    }\n",
    "```"
   ]
  },
  {
   "cell_type": "markdown",
   "id": "873005bf",
   "metadata": {},
   "source": [
    "#### Accommodation age in EPC data"
   ]
  },
  {
   "cell_type": "code",
   "execution_count": 13,
   "id": "87d91248",
   "metadata": {},
   "outputs": [
    {
     "name": "stdout",
     "output_type": "stream",
     "text": [
      "[nan, 'INVALID!', 'England and Wales: 1991-1995', '2007', '2015', '1900', '2011', '1902', '1800', '2009', 'England and Wales: 1996-2002', '2004', '2020', '1960', '2021', '2006', '1950', '2012', 'England and Wales: 1967-1975', '1929', '2008', '1920', '2013', '2024', '1992', 'England and Wales: 1900-1929', '1980', '1820', '1969', '1850', '2022', '1930', '2019', 'England and Wales: 1976-1982', 'England and Wales: 1930-1949', 'Not applicable', '2018', 'England and Wales: 1950-1966', 'England and Wales: 2003-2006', 'England and Wales: 2007 onwards', 'England and Wales: before 1900', '2017', '1970', '1890', 'England and Wales: 2007-2011', '1988', '1935', '2014', '2005', 'England and Wales: 1983-1990', 'England and Wales: 2012 onwards', 'NO DATA!', '1940', '2016', '2010']\n"
     ]
    }
   ],
   "source": [
    "all_ages = []\n",
    "for file in epc_files:\n",
    "    epc_df = pd.read_csv(epc_zip_file.open(file), usecols=['CONSTRUCTION_AGE_BAND'], low_memory=False)\n",
    "    values = list(epc_df.CONSTRUCTION_AGE_BAND.unique())\n",
    "    all_ages.extend(values)\n",
    "    \n",
    "all_ages = list(set(all_ages))\n",
    "print(all_ages)\n",
    "\n",
    "del epc_df, values, all_ages"
   ]
  },
  {
   "cell_type": "markdown",
   "id": "c538a1dd",
   "metadata": {},
   "source": [
    "#### Defining the  accommodation age lookup"
   ]
  },
  {
   "cell_type": "markdown",
   "id": "ceeca3c6",
   "metadata": {},
   "source": [
    "as obtained above, some values are categorical and some values are numerical. Therefore, two dictionaries must be defined:\n",
    "\n",
    "* `age_categorical_lookup`: for setting codes to categorical values\n",
    "\n",
    "* `age_numerical_lookup`: for setting codes to numerical values"
   ]
  },
  {
   "cell_type": "code",
   "execution_count": 14,
   "id": "34e77be7",
   "metadata": {},
   "outputs": [],
   "source": [
    "all_ages = [\n",
    "        \"England and Wales: before 1900\", \"England and Wales: 1900-1929\",\n",
    "        \"England and Wales: 1930-1949\",\n",
    "        \"England and Wales: 1950-1966\",\n",
    "        \"England and Wales: 1967-1975\",\n",
    "        \"England and Wales: 1976-1982\",\n",
    "        \"England and Wales: 1983-1990\",\n",
    "        \"England and Wales: 1991-1995\",\n",
    "        \"England and Wales: 1996-2002\",\n",
    "        \"England and Wales: 2003-2006\",\n",
    "        \"England and Wales: 2007-2011\", \"England and Wales: 2007 onwards\", \"England and Wales: 2012 onwards\",\n",
    "        \"INVALID!\", \"Not applicable\", \"NO DATA!\"\n",
    "        ]\n",
    "\n",
    "age_codes = [1, 1, 1930, 1950, 1967, 1976, 1983, 1991, 1996, 2003, 2007, 2007, 2007, empty, empty, empty]\n",
    "# note that first we are going to assing a numerical age \n",
    "# inside the band, and then, the band code will be assinged.\n",
    "\n",
    "ages_df = pd.DataFrame({'all_ages':all_ages, 'age_codes':age_codes})\n",
    "age_categorical_lookup = ages_df.set_index('all_ages').to_dict()['age_codes']\n",
    "\n",
    "accommodations_age_codes = [1, 1, 1930, 1950, 1967, 1976, 1983, 1991, 1996, 2003, 2007, 2007, 2007, empty, empty, empty]\n",
    "# note that first we are going to assign a numerical age \n",
    "# inside the band, and then, the band code will be assigned.\n",
    "\n",
    "age_numerical_lookup = [\n",
    "        [1, 0, 1929],\n",
    "        [2, 1929, 1949],\n",
    "        [3, 1949, 1966],\n",
    "        [4, 1966, 1975],\n",
    "        [5, 1975, 1982],\n",
    "        [6, 1982, 1990],\n",
    "        [7, 1990, 1995],\n",
    "        [8, 1995, 2002],\n",
    "        [9, 2002, 2006],\n",
    "        [10, 2006, 3000],\n",
    "        ]\n",
    "\n",
    "del ages_df, all_ages, age_codes"
   ]
  },
  {
   "cell_type": "markdown",
   "id": "2f93b3b5",
   "metadata": {},
   "source": [
    "### Number of rooms"
   ]
  },
  {
   "cell_type": "markdown",
   "id": "9a75133f",
   "metadata": {},
   "source": [
    "#### Number of rooms in MSM\n",
    "\n",
    "According the documentation, in the MSM data, the number of rooms column is organized according to:\n",
    "\n",
    "```json\n",
    "    \"LC4404_C_ROOMS\": {\n",
    "      \"0\": \"All categories: Number of rooms\",\n",
    "      \"1\": \"1 room\",\n",
    "      \"2\": \"2 rooms\",\n",
    "      \"3\": \"3 rooms\",\n",
    "      \"4\": \"4 rooms\",\n",
    "      \"5\": \"5 rooms\",\n",
    "      \"6\": \"6 or more rooms\"\n",
    "    }\n",
    "```"
   ]
  },
  {
   "cell_type": "markdown",
   "id": "faf1c102",
   "metadata": {},
   "source": [
    "#### Defining the  number of rooms lookup\n",
    "\n",
    "As the number of rooms is a float value, the transformation to codes is going to be done as follows:"
   ]
  },
  {
   "cell_type": "code",
   "execution_count": 15,
   "id": "854e0d38",
   "metadata": {},
   "outputs": [],
   "source": [
    "number_rooms_lookup = [\n",
    "        [1, 0, 1],\n",
    "        [2, 1, 2],\n",
    "        [3, 2, 3],\n",
    "        [4, 3, 4],\n",
    "        [5, 4, 5],\n",
    "        [6, 5, 10000]\n",
    "        ]"
   ]
  },
  {
   "cell_type": "markdown",
   "id": "a5bb1cfb",
   "metadata": {},
   "source": [
    "### Total floor area"
   ]
  },
  {
   "cell_type": "markdown",
   "id": "ef513cf4",
   "metadata": {},
   "source": [
    "#### Floor area in MSM\n",
    "\n",
    "According the documentation, in the MSM data, the floor area column must be organized according to:\n",
    "\n",
    "```json\n",
    "    \"TOTAL_FLOOR_AREA\": {\n",
    "      \"0\": \"All categories: Total floor area\",\n",
    "      \"1\": \"A <= 40 m²\",\n",
    "      \"2\": \"40 < A <= 50\",\n",
    "      \"3\": \"50 < A <= 60\",\n",
    "      \"4\": \"60 < A <= 70\",\n",
    "      \"5\": \"70 < A <= 80\",\n",
    "      \"6\": \"80 < A <= 90\",\n",
    "      \"7\": \"90 < A <= 100\",\n",
    "      \"8\": \"100 < A <= 110\",\n",
    "      \"9\": \"110 < A <= 120\",\n",
    "      \"10\": \"A > 120\"\n",
    "    }\n",
    "```"
   ]
  },
  {
   "cell_type": "markdown",
   "id": "bf24f0e5",
   "metadata": {},
   "source": [
    "#### Defining the floor area band lookup\n",
    "\n",
    "As the floor area is a float value, the transformation to codes is going to be done as follows:"
   ]
  },
  {
   "cell_type": "code",
   "execution_count": 16,
   "id": "5667358b",
   "metadata": {},
   "outputs": [],
   "source": [
    "floor_area_lookup = [\n",
    "        [1, 0, 40],\n",
    "        [2, 40, 50],\n",
    "        [3, 50, 60],\n",
    "        [4, 60, 70],\n",
    "        [5, 70, 80],\n",
    "        [6, 80, 90],\n",
    "        [7, 90, 100],\n",
    "        [8, 100, 110],\n",
    "        [9, 110, 120],\n",
    "        [10, 120, 100000],\n",
    "        ]"
   ]
  },
  {
   "cell_type": "markdown",
   "id": "15185214",
   "metadata": {},
   "source": [
    "### Wranglig all columns\n"
   ]
  },
  {
   "cell_type": "code",
   "execution_count": 17,
   "id": "f5ee9066",
   "metadata": {},
   "outputs": [
    {
     "name": "stderr",
     "output_type": "stream",
     "text": [
      "100%|██████████| 318/318 [05:20<00:00,  1.01s/it]\n"
     ]
    }
   ],
   "source": [
    "list_df = []\n",
    "list_df_names = []\n",
    "error_list = []\n",
    "\n",
    "from time import time\n",
    "t0 = time()\n",
    "\n",
    "for file in tqdm(epc_files):\n",
    "    try:\n",
    "        epc_df = pd.read_csv(epc_zip_file.open(file), usecols=epc_desired_headers, low_memory=False)\n",
    "\n",
    "        local_authority = epc_df.LOCAL_AUTHORITY[0]\n",
    "        epc_df.pop('LOCAL_AUTHORITY')\n",
    "\n",
    "        # Postcode to MSOA\n",
    "        epc_df = set_categorical_code(epc_df, 'POSTCODE', msoa_lookup, rename='Area')\n",
    "\n",
    "        # Accomodation type\n",
    "        epc_df['LC4402_C_TYPACCOM'] = epc_df['PROPERTY_TYPE'] + ': ' + epc_df['BUILT_FORM']\n",
    "        epc_df = set_categorical_code(epc_df, 'LC4402_C_TYPACCOM', accommodation_lookup, empty)\n",
    "        epc_df.pop('PROPERTY_TYPE')\n",
    "        epc_df.pop('BUILT_FORM')\n",
    "\n",
    "        # Tenure\n",
    "        epc_df = set_categorical_code(epc_df, 'TENURE', tenure_lookup, empty, rename='LC4402_C_TENHUK11')\n",
    "\n",
    "        # Number of rooms\n",
    "        epc_df = set_numerical_code(epc_df, 'NUMBER_HABITABLE_ROOMS', number_rooms_lookup, empty, rename='LC4404_C_ROOMS')\n",
    "\n",
    "        # Floor Area\n",
    "        epc_df = set_numerical_code(epc_df, 'TOTAL_FLOOR_AREA', floor_area_lookup, empty, rename='FLOOR_AREA')\n",
    "\n",
    "        # CONSTRUCTION_AGE_BAND\n",
    "        epc_df = set_categorical_code(epc_df, 'CONSTRUCTION_AGE_BAND', age_categorical_lookup, empty, rename='ACCOM_AGE')\n",
    "        epc_df['ACCOM_AGE'] = epc_df['ACCOM_AGE'].apply(pd.to_numeric)\n",
    "        epc_df = set_numerical_code(epc_df, 'ACCOM_AGE', age_numerical_lookup, empty)\n",
    "\n",
    "        # Change columns to integer values\n",
    "        cols = ['FLOOR_AREA', 'LC4404_C_ROOMS', 'ACCOM_AGE', 'LC4402_C_TENHUK11', 'LC4402_C_TYPACCOM']\n",
    "        epc_df[cols] = epc_df[cols].applymap(np.int64)\n",
    "        \n",
    "        name = \"\".join([local_authority,'.csv'])\n",
    "        #epc_df.to_csv (name, index = False, header=True)\n",
    "\n",
    "        list_df.append(epc_df)\n",
    "        list_df_names.append(name)\n",
    "    \n",
    "    except:\n",
    "        error_list.append(file)"
   ]
  },
  {
   "cell_type": "code",
   "execution_count": 18,
   "id": "a52a684a",
   "metadata": {},
   "outputs": [
    {
     "name": "stdout",
     "output_type": "stream",
     "text": [
      "[]\n"
     ]
    }
   ],
   "source": [
    "print(error_list)"
   ]
  },
  {
   "cell_type": "code",
   "execution_count": 19,
   "id": "5d64bbb7",
   "metadata": {},
   "outputs": [],
   "source": [
    "csv_name = 'data/eps_england.zip'\n",
    "with zipfile.ZipFile(csv_name, 'w') as csv_zip:\n",
    "    for i in range(len(list_df_names)):\n",
    "        csv_zip.writestr(list_df_names[i], list_df[i].to_csv(index = False, header=True))"
   ]
  },
  {
   "cell_type": "markdown",
   "id": "7173d30f",
   "metadata": {},
   "source": [
    "## Before X after wrangling"
   ]
  },
  {
   "cell_type": "markdown",
   "id": "45d1e57f",
   "metadata": {},
   "source": [
    "### Before wrangling"
   ]
  },
  {
   "cell_type": "code",
   "execution_count": 20,
   "id": "ae7f19e6",
   "metadata": {},
   "outputs": [
    {
     "data": {
      "text/html": [
       "<div>\n",
       "<style scoped>\n",
       "    .dataframe tbody tr th:only-of-type {\n",
       "        vertical-align: middle;\n",
       "    }\n",
       "\n",
       "    .dataframe tbody tr th {\n",
       "        vertical-align: top;\n",
       "    }\n",
       "\n",
       "    .dataframe thead th {\n",
       "        text-align: right;\n",
       "    }\n",
       "</style>\n",
       "<table border=\"1\" class=\"dataframe\">\n",
       "  <thead>\n",
       "    <tr style=\"text-align: right;\">\n",
       "      <th></th>\n",
       "      <th>POSTCODE</th>\n",
       "      <th>PROPERTY_TYPE</th>\n",
       "      <th>BUILT_FORM</th>\n",
       "      <th>LOCAL_AUTHORITY</th>\n",
       "      <th>TOTAL_FLOOR_AREA</th>\n",
       "      <th>NUMBER_HABITABLE_ROOMS</th>\n",
       "      <th>CONSTRUCTION_AGE_BAND</th>\n",
       "      <th>TENURE</th>\n",
       "    </tr>\n",
       "  </thead>\n",
       "  <tbody>\n",
       "    <tr>\n",
       "      <th>0</th>\n",
       "      <td>PL21 0JS</td>\n",
       "      <td>House</td>\n",
       "      <td>Mid-Terrace</td>\n",
       "      <td>E07000044</td>\n",
       "      <td>70.00</td>\n",
       "      <td>4.0</td>\n",
       "      <td>England and Wales: 1976-1982</td>\n",
       "      <td>owner-occupied</td>\n",
       "    </tr>\n",
       "    <tr>\n",
       "      <th>1</th>\n",
       "      <td>PL21 9TE</td>\n",
       "      <td>House</td>\n",
       "      <td>Mid-Terrace</td>\n",
       "      <td>E07000044</td>\n",
       "      <td>51.03</td>\n",
       "      <td>3.0</td>\n",
       "      <td>England and Wales: 1983-1990</td>\n",
       "      <td>rental (private)</td>\n",
       "    </tr>\n",
       "    <tr>\n",
       "      <th>2</th>\n",
       "      <td>TQ6 0NH</td>\n",
       "      <td>Bungalow</td>\n",
       "      <td>End-Terrace</td>\n",
       "      <td>E07000044</td>\n",
       "      <td>24.00</td>\n",
       "      <td>3.0</td>\n",
       "      <td>England and Wales: 1976-1982</td>\n",
       "      <td>owner-occupied</td>\n",
       "    </tr>\n",
       "    <tr>\n",
       "      <th>3</th>\n",
       "      <td>PL9 0BJ</td>\n",
       "      <td>House</td>\n",
       "      <td>NO DATA!</td>\n",
       "      <td>E07000044</td>\n",
       "      <td>55.00</td>\n",
       "      <td>NaN</td>\n",
       "      <td>NO DATA!</td>\n",
       "      <td>unknown</td>\n",
       "    </tr>\n",
       "    <tr>\n",
       "      <th>4</th>\n",
       "      <td>PL21 0XL</td>\n",
       "      <td>House</td>\n",
       "      <td>Mid-Terrace</td>\n",
       "      <td>E07000044</td>\n",
       "      <td>144.50</td>\n",
       "      <td>5.0</td>\n",
       "      <td>England and Wales: 1983-1990</td>\n",
       "      <td>owner-occupied</td>\n",
       "    </tr>\n",
       "  </tbody>\n",
       "</table>\n",
       "</div>"
      ],
      "text/plain": [
       "   POSTCODE PROPERTY_TYPE   BUILT_FORM LOCAL_AUTHORITY  TOTAL_FLOOR_AREA  \\\n",
       "0  PL21 0JS         House  Mid-Terrace       E07000044             70.00   \n",
       "1  PL21 9TE         House  Mid-Terrace       E07000044             51.03   \n",
       "2   TQ6 0NH      Bungalow  End-Terrace       E07000044             24.00   \n",
       "3   PL9 0BJ         House     NO DATA!       E07000044             55.00   \n",
       "4  PL21 0XL         House  Mid-Terrace       E07000044            144.50   \n",
       "\n",
       "   NUMBER_HABITABLE_ROOMS         CONSTRUCTION_AGE_BAND            TENURE  \n",
       "0                     4.0  England and Wales: 1976-1982    owner-occupied  \n",
       "1                     3.0  England and Wales: 1983-1990  rental (private)  \n",
       "2                     3.0  England and Wales: 1976-1982    owner-occupied  \n",
       "3                     NaN                      NO DATA!           unknown  \n",
       "4                     5.0  England and Wales: 1983-1990    owner-occupied  "
      ]
     },
     "execution_count": 20,
     "metadata": {},
     "output_type": "execute_result"
    }
   ],
   "source": [
    "epc_before = pd.read_csv(epc_zip_file.open(epc_files[0]), usecols=epc_desired_headers, low_memory=False)\n",
    "epc_before.head()"
   ]
  },
  {
   "cell_type": "markdown",
   "id": "30efdc05",
   "metadata": {},
   "source": [
    "### After wrangling"
   ]
  },
  {
   "cell_type": "code",
   "execution_count": 21,
   "id": "8b0f07b4",
   "metadata": {},
   "outputs": [
    {
     "data": {
      "text/html": [
       "<div>\n",
       "<style scoped>\n",
       "    .dataframe tbody tr th:only-of-type {\n",
       "        vertical-align: middle;\n",
       "    }\n",
       "\n",
       "    .dataframe tbody tr th {\n",
       "        vertical-align: top;\n",
       "    }\n",
       "\n",
       "    .dataframe thead th {\n",
       "        text-align: right;\n",
       "    }\n",
       "</style>\n",
       "<table border=\"1\" class=\"dataframe\">\n",
       "  <thead>\n",
       "    <tr style=\"text-align: right;\">\n",
       "      <th></th>\n",
       "      <th>Area</th>\n",
       "      <th>FLOOR_AREA</th>\n",
       "      <th>LC4404_C_ROOMS</th>\n",
       "      <th>ACCOM_AGE</th>\n",
       "      <th>LC4402_C_TENHUK11</th>\n",
       "      <th>LC4402_C_TYPACCOM</th>\n",
       "    </tr>\n",
       "  </thead>\n",
       "  <tbody>\n",
       "    <tr>\n",
       "      <th>0</th>\n",
       "      <td>E02004193</td>\n",
       "      <td>4</td>\n",
       "      <td>4</td>\n",
       "      <td>5</td>\n",
       "      <td>1</td>\n",
       "      <td>4</td>\n",
       "    </tr>\n",
       "    <tr>\n",
       "      <th>1</th>\n",
       "      <td>E02004193</td>\n",
       "      <td>3</td>\n",
       "      <td>3</td>\n",
       "      <td>6</td>\n",
       "      <td>6</td>\n",
       "      <td>4</td>\n",
       "    </tr>\n",
       "    <tr>\n",
       "      <th>2</th>\n",
       "      <td>E02004195</td>\n",
       "      <td>1</td>\n",
       "      <td>3</td>\n",
       "      <td>5</td>\n",
       "      <td>1</td>\n",
       "      <td>4</td>\n",
       "    </tr>\n",
       "    <tr>\n",
       "      <th>3</th>\n",
       "      <td>E02004197</td>\n",
       "      <td>3</td>\n",
       "      <td>-1</td>\n",
       "      <td>-1</td>\n",
       "      <td>-1</td>\n",
       "      <td>-1</td>\n",
       "    </tr>\n",
       "    <tr>\n",
       "      <th>4</th>\n",
       "      <td>E02004190</td>\n",
       "      <td>10</td>\n",
       "      <td>5</td>\n",
       "      <td>6</td>\n",
       "      <td>1</td>\n",
       "      <td>4</td>\n",
       "    </tr>\n",
       "  </tbody>\n",
       "</table>\n",
       "</div>"
      ],
      "text/plain": [
       "        Area  FLOOR_AREA  LC4404_C_ROOMS  ACCOM_AGE  LC4402_C_TENHUK11  \\\n",
       "0  E02004193           4               4          5                  1   \n",
       "1  E02004193           3               3          6                  6   \n",
       "2  E02004195           1               3          5                  1   \n",
       "3  E02004197           3              -1         -1                 -1   \n",
       "4  E02004190          10               5          6                  1   \n",
       "\n",
       "   LC4402_C_TYPACCOM  \n",
       "0                  4  \n",
       "1                  4  \n",
       "2                  4  \n",
       "3                 -1  \n",
       "4                  4  "
      ]
     },
     "execution_count": 21,
     "metadata": {},
     "output_type": "execute_result"
    }
   ],
   "source": [
    "#pd.options.display.float_format = '{:,.0f}'.format\n",
    "#cols = ['FLOOR_AREA', 'LC4404_C_ROOMS', 'ACCOM_AGE', 'LC4402_C_TENHUK11', 'LC4402_C_TYPACCOM']\n",
    "#list_df[0][cols] = list_df[0][cols].applymap(np.int64)\n",
    "list_df[0].head()"
   ]
  },
  {
   "cell_type": "code",
   "execution_count": 22,
   "id": "32ea2008",
   "metadata": {},
   "outputs": [],
   "source": [
    "# concatenate all dataframes together\n",
    "import pandas as pd\n",
    "epc_df = pd.concat(list_df)"
   ]
  },
  {
   "cell_type": "code",
   "execution_count": 23,
   "id": "f0bcfc15",
   "metadata": {},
   "outputs": [
    {
     "data": {
      "text/plain": [
       "(20251698, 6)"
      ]
     },
     "execution_count": 23,
     "metadata": {},
     "output_type": "execute_result"
    }
   ],
   "source": [
    "epc_df.shape"
   ]
  },
  {
   "cell_type": "code",
   "execution_count": 24,
   "id": "6219970a",
   "metadata": {},
   "outputs": [
    {
     "data": {
      "text/plain": [
       "<AxesSubplot:>"
      ]
     },
     "execution_count": 24,
     "metadata": {},
     "output_type": "execute_result"
    },
    {
     "data": {
      "image/png": "[encoded data removed]",
      "text/plain": [
       "<Figure size 432x288 with 1 Axes>"
      ]
     },
     "metadata": {
      "needs_background": "light"
     },
     "output_type": "display_data"
    }
   ],
   "source": [
    "epc_df.FLOOR_AREA.value_counts().plot(kind='barh')"
   ]
  },
  {
   "cell_type": "code",
   "execution_count": 25,
   "id": "3b577a21",
   "metadata": {},
   "outputs": [
    {
     "data": {
      "text/plain": [
       "<AxesSubplot:>"
      ]
     },
     "execution_count": 25,
     "metadata": {},
     "output_type": "execute_result"
    },
    {
     "data": {
      "image/png": "[encoded data removed]",
      "text/plain": [
       "<Figure size 432x288 with 1 Axes>"
      ]
     },
     "metadata": {
      "needs_background": "light"
     },
     "output_type": "display_data"
    }
   ],
   "source": [
    "epc_df.LC4404_C_ROOMS.value_counts().plot(kind='barh')"
   ]
  },
  {
   "cell_type": "code",
   "execution_count": 26,
   "id": "d2c17781",
   "metadata": {},
   "outputs": [
    {
     "data": {
      "text/plain": [
       "<AxesSubplot:>"
      ]
     },
     "execution_count": 26,
     "metadata": {},
     "output_type": "execute_result"
    },
    {
     "data": {
      "image/png": "[encoded data removed]",
      "text/plain": [
       "<Figure size 432x288 with 1 Axes>"
      ]
     },
     "metadata": {
      "needs_background": "light"
     },
     "output_type": "display_data"
    }
   ],
   "source": [
    "epc_df.ACCOM_AGE.value_counts().plot(kind='barh')"
   ]
  },
  {
   "cell_type": "code",
   "execution_count": 27,
   "id": "df5d49ef",
   "metadata": {},
   "outputs": [
    {
     "data": {
      "text/plain": [
       "<AxesSubplot:>"
      ]
     },
     "execution_count": 27,
     "metadata": {},
     "output_type": "execute_result"
    },
    {
     "data": {
      "image/png": "[encoded data removed]",
      "text/plain": [
       "<Figure size 432x288 with 1 Axes>"
      ]
     },
     "metadata": {
      "needs_background": "light"
     },
     "output_type": "display_data"
    }
   ],
   "source": [
    "epc_df.LC4402_C_TENHUK11.value_counts().plot(kind='barh')"
   ]
  },
  {
   "cell_type": "code",
   "execution_count": 28,
   "id": "f631cbfd",
   "metadata": {},
   "outputs": [
    {
     "data": {
      "text/plain": [
       "<AxesSubplot:>"
      ]
     },
     "execution_count": 28,
     "metadata": {},
     "output_type": "execute_result"
    },
    {
     "data": {
      "image/png": "[encoded data removed]",
      "text/plain": [
       "<Figure size 432x288 with 1 Axes>"
      ]
     },
     "metadata": {
      "needs_background": "light"
     },
     "output_type": "display_data"
    }
   ],
   "source": [
    "epc_df.LC4402_C_TYPACCOM.value_counts().plot(kind='barh')"
   ]
  }
 ],
 "metadata": {
  "kernelspec": {
   "display_name": "Python 3",
   "language": "python",
   "name": "python3"
  },
  "language_info": {
   "codemirror_mode": {
    "name": "ipython",
    "version": 3
   },
   "file_extension": ".py",
   "mimetype": "text/x-python",
   "name": "python",
   "nbconvert_exporter": "python",
   "pygments_lexer": "ipython3",
   "version": "3.6.8"
  }
 },
 "nbformat": 4,
 "nbformat_minor": 5
}
