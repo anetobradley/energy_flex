{
 "cells": [
  {
   "cell_type": "markdown",
   "metadata": {},
   "source": [
    "# Propensity Score Matching: EPC and MSM for Haringey LAD\n",
    "\n",
    "In this notebook we present the steps made to \"merge\" the EPC data and the MSM population.\n"
   ]
  },
  {
   "cell_type": "markdown",
   "metadata": {},
   "source": [
    "## Initialisation"
   ]
  },
  {
   "cell_type": "markdown",
   "metadata": {},
   "source": [
    "### Import necessary modules"
   ]
  },
  {
   "cell_type": "code",
   "execution_count": 1,
   "metadata": {},
   "outputs": [],
   "source": [
    "import pandas as pd\n",
    "import zipfile\n",
    "import os\n",
    "from causalinference import CausalModel\n",
    "import seaborn as sns\n",
    "import matplotlib.pyplot as plt\n",
    "import numpy as np\n",
    "from sklearn.neighbors import NearestNeighbors\n",
    "from random import choices\n",
    "%matplotlib inline"
   ]
  },
  {
   "cell_type": "markdown",
   "metadata": {},
   "source": [
    "### Import data"
   ]
  },
  {
   "cell_type": "markdown",
   "metadata": {},
   "source": [
    "#### Import EPC data"
   ]
  },
  {
   "cell_type": "code",
   "execution_count": 2,
   "metadata": {},
   "outputs": [
    {
     "data": {
      "text/html": [
       "<div>\n",
       "<style scoped>\n",
       "    .dataframe tbody tr th:only-of-type {\n",
       "        vertical-align: middle;\n",
       "    }\n",
       "\n",
       "    .dataframe tbody tr th {\n",
       "        vertical-align: top;\n",
       "    }\n",
       "\n",
       "    .dataframe thead th {\n",
       "        text-align: right;\n",
       "    }\n",
       "</style>\n",
       "<table border=\"1\" class=\"dataframe\">\n",
       "  <thead>\n",
       "    <tr style=\"text-align: right;\">\n",
       "      <th></th>\n",
       "      <th>Area</th>\n",
       "      <th>FLOOR_AREA</th>\n",
       "      <th>LC4404_C_ROOMS</th>\n",
       "      <th>MAINHEAT_DESCRIPTION</th>\n",
       "      <th>ACCOM_AGE</th>\n",
       "      <th>tenure</th>\n",
       "      <th>LC4402_C_TYPACCOM</th>\n",
       "    </tr>\n",
       "  </thead>\n",
       "  <tbody>\n",
       "    <tr>\n",
       "      <th>0</th>\n",
       "      <td>E00010316</td>\n",
       "      <td>1</td>\n",
       "      <td>3</td>\n",
       "      <td>Boiler and radiators, mains gas</td>\n",
       "      <td>4</td>\n",
       "      <td>5</td>\n",
       "      <td>5</td>\n",
       "    </tr>\n",
       "    <tr>\n",
       "      <th>1</th>\n",
       "      <td>E00010336</td>\n",
       "      <td>3</td>\n",
       "      <td>2</td>\n",
       "      <td>Boiler and radiators, mains gas</td>\n",
       "      <td>1</td>\n",
       "      <td>5</td>\n",
       "      <td>5</td>\n",
       "    </tr>\n",
       "    <tr>\n",
       "      <th>2</th>\n",
       "      <td>E00010168</td>\n",
       "      <td>1</td>\n",
       "      <td>1</td>\n",
       "      <td>Room heaters, electric</td>\n",
       "      <td>1</td>\n",
       "      <td>6</td>\n",
       "      <td>5</td>\n",
       "    </tr>\n",
       "    <tr>\n",
       "      <th>3</th>\n",
       "      <td>E00009985</td>\n",
       "      <td>2</td>\n",
       "      <td>4</td>\n",
       "      <td>Boiler and radiators, mains gas</td>\n",
       "      <td>1</td>\n",
       "      <td>6</td>\n",
       "      <td>5</td>\n",
       "    </tr>\n",
       "    <tr>\n",
       "      <th>4</th>\n",
       "      <td>E00010505</td>\n",
       "      <td>3</td>\n",
       "      <td>4</td>\n",
       "      <td>Portable electric heaters assumed for most rooms</td>\n",
       "      <td>1</td>\n",
       "      <td>1</td>\n",
       "      <td>4</td>\n",
       "    </tr>\n",
       "  </tbody>\n",
       "</table>\n",
       "</div>"
      ],
      "text/plain": [
       "        Area  FLOOR_AREA  LC4404_C_ROOMS  \\\n",
       "0  E00010316           1               3   \n",
       "1  E00010336           3               2   \n",
       "2  E00010168           1               1   \n",
       "3  E00009985           2               4   \n",
       "4  E00010505           3               4   \n",
       "\n",
       "                               MAINHEAT_DESCRIPTION  ACCOM_AGE  tenure  \\\n",
       "0                   Boiler and radiators, mains gas          4       5   \n",
       "1                   Boiler and radiators, mains gas          1       5   \n",
       "2                            Room heaters, electric          1       6   \n",
       "3                   Boiler and radiators, mains gas          1       6   \n",
       "4  Portable electric heaters assumed for most rooms          1       1   \n",
       "\n",
       "   LC4402_C_TYPACCOM  \n",
       "0                  5  \n",
       "1                  5  \n",
       "2                  5  \n",
       "3                  5  \n",
       "4                  4  "
      ]
     },
     "execution_count": 2,
     "metadata": {},
     "output_type": "execute_result"
    }
   ],
   "source": [
    "ladcd = 'E09000014' # local authority for testing: Haringey\n",
    "\n",
    "epc_zip_file = zipfile.ZipFile(os.path.join('data', 'eps_england_oa.zip'))\n",
    "epc_file = \".\".join([ladcd, 'csv'])\n",
    "epc_df = pd.read_csv(epc_zip_file.open(epc_file))\n",
    "epc_df.rename({\"LC4402_C_TENHUK11\": \"tenure\"}, axis=1, inplace=True)\n",
    "epc_df.head()"
   ]
  },
  {
   "cell_type": "markdown",
   "metadata": {},
   "source": [
    "#### Import MSM data"
   ]
  },
  {
   "cell_type": "code",
   "execution_count": 3,
   "metadata": {
    "scrolled": false
   },
   "outputs": [
    {
     "data": {
      "text/html": [
       "<div>\n",
       "<style scoped>\n",
       "    .dataframe tbody tr th:only-of-type {\n",
       "        vertical-align: middle;\n",
       "    }\n",
       "\n",
       "    .dataframe tbody tr th {\n",
       "        vertical-align: top;\n",
       "    }\n",
       "\n",
       "    .dataframe thead th {\n",
       "        text-align: right;\n",
       "    }\n",
       "</style>\n",
       "<table border=\"1\" class=\"dataframe\">\n",
       "  <thead>\n",
       "    <tr style=\"text-align: right;\">\n",
       "      <th></th>\n",
       "      <th>HID</th>\n",
       "      <th>Area</th>\n",
       "      <th>LC4402_C_TYPACCOM</th>\n",
       "      <th>QS420_CELL</th>\n",
       "      <th>LC4402_C_TENHUK11</th>\n",
       "      <th>LC4408_C_AHTHUK11</th>\n",
       "      <th>CommunalSize</th>\n",
       "      <th>LC4404_C_SIZHUK11</th>\n",
       "      <th>LC4404_C_ROOMS</th>\n",
       "      <th>LC4405EW_C_BEDROOMS</th>\n",
       "      <th>LC4408EW_C_PPBROOMHEW11</th>\n",
       "      <th>LC4402_C_CENHEATHUK11</th>\n",
       "      <th>LC4605_C_NSSEC</th>\n",
       "      <th>LC4202_C_ETHHUK11</th>\n",
       "      <th>LC4202_C_CARSNO</th>\n",
       "      <th>HRPID</th>\n",
       "      <th>FILLED</th>\n",
       "    </tr>\n",
       "  </thead>\n",
       "  <tbody>\n",
       "    <tr>\n",
       "      <th>0</th>\n",
       "      <td>0.0</td>\n",
       "      <td>E00010088</td>\n",
       "      <td>3.0</td>\n",
       "      <td>-2.0</td>\n",
       "      <td>3.0</td>\n",
       "      <td>3.0</td>\n",
       "      <td>-2.0</td>\n",
       "      <td>2.0</td>\n",
       "      <td>4.0</td>\n",
       "      <td>2.0</td>\n",
       "      <td>-1.0</td>\n",
       "      <td>2.0</td>\n",
       "      <td>2.0</td>\n",
       "      <td>2.0</td>\n",
       "      <td>2.0</td>\n",
       "      <td>254841.0</td>\n",
       "      <td>True</td>\n",
       "    </tr>\n",
       "    <tr>\n",
       "      <th>1</th>\n",
       "      <td>1.0</td>\n",
       "      <td>E00010222</td>\n",
       "      <td>2.0</td>\n",
       "      <td>-2.0</td>\n",
       "      <td>5.0</td>\n",
       "      <td>1.0</td>\n",
       "      <td>-2.0</td>\n",
       "      <td>1.0</td>\n",
       "      <td>3.0</td>\n",
       "      <td>1.0</td>\n",
       "      <td>-1.0</td>\n",
       "      <td>2.0</td>\n",
       "      <td>9.0</td>\n",
       "      <td>7.0</td>\n",
       "      <td>1.0</td>\n",
       "      <td>269214.0</td>\n",
       "      <td>True</td>\n",
       "    </tr>\n",
       "    <tr>\n",
       "      <th>2</th>\n",
       "      <td>2.0</td>\n",
       "      <td>E00010300</td>\n",
       "      <td>5.0</td>\n",
       "      <td>-2.0</td>\n",
       "      <td>6.0</td>\n",
       "      <td>2.0</td>\n",
       "      <td>-2.0</td>\n",
       "      <td>4.0</td>\n",
       "      <td>6.0</td>\n",
       "      <td>4.0</td>\n",
       "      <td>-1.0</td>\n",
       "      <td>2.0</td>\n",
       "      <td>4.0</td>\n",
       "      <td>4.0</td>\n",
       "      <td>1.0</td>\n",
       "      <td>206340.0</td>\n",
       "      <td>False</td>\n",
       "    </tr>\n",
       "    <tr>\n",
       "      <th>3</th>\n",
       "      <td>3.0</td>\n",
       "      <td>E00010394</td>\n",
       "      <td>-2.0</td>\n",
       "      <td>-2.0</td>\n",
       "      <td>-1.0</td>\n",
       "      <td>-1.0</td>\n",
       "      <td>-2.0</td>\n",
       "      <td>0.0</td>\n",
       "      <td>1.0</td>\n",
       "      <td>1.0</td>\n",
       "      <td>-1.0</td>\n",
       "      <td>2.0</td>\n",
       "      <td>-1.0</td>\n",
       "      <td>-1.0</td>\n",
       "      <td>1.0</td>\n",
       "      <td>-1.0</td>\n",
       "      <td>False</td>\n",
       "    </tr>\n",
       "    <tr>\n",
       "      <th>4</th>\n",
       "      <td>4.0</td>\n",
       "      <td>E00010345</td>\n",
       "      <td>5.0</td>\n",
       "      <td>-2.0</td>\n",
       "      <td>6.0</td>\n",
       "      <td>3.0</td>\n",
       "      <td>-2.0</td>\n",
       "      <td>2.0</td>\n",
       "      <td>4.0</td>\n",
       "      <td>1.0</td>\n",
       "      <td>-1.0</td>\n",
       "      <td>2.0</td>\n",
       "      <td>5.0</td>\n",
       "      <td>4.0</td>\n",
       "      <td>1.0</td>\n",
       "      <td>258891.0</td>\n",
       "      <td>True</td>\n",
       "    </tr>\n",
       "  </tbody>\n",
       "</table>\n",
       "</div>"
      ],
      "text/plain": [
       "   HID       Area  LC4402_C_TYPACCOM  QS420_CELL  LC4402_C_TENHUK11  \\\n",
       "0  0.0  E00010088                3.0        -2.0                3.0   \n",
       "1  1.0  E00010222                2.0        -2.0                5.0   \n",
       "2  2.0  E00010300                5.0        -2.0                6.0   \n",
       "3  3.0  E00010394               -2.0        -2.0               -1.0   \n",
       "4  4.0  E00010345                5.0        -2.0                6.0   \n",
       "\n",
       "   LC4408_C_AHTHUK11  CommunalSize  LC4404_C_SIZHUK11  LC4404_C_ROOMS  \\\n",
       "0                3.0          -2.0                2.0             4.0   \n",
       "1                1.0          -2.0                1.0             3.0   \n",
       "2                2.0          -2.0                4.0             6.0   \n",
       "3               -1.0          -2.0                0.0             1.0   \n",
       "4                3.0          -2.0                2.0             4.0   \n",
       "\n",
       "   LC4405EW_C_BEDROOMS  LC4408EW_C_PPBROOMHEW11  LC4402_C_CENHEATHUK11  \\\n",
       "0                  2.0                     -1.0                    2.0   \n",
       "1                  1.0                     -1.0                    2.0   \n",
       "2                  4.0                     -1.0                    2.0   \n",
       "3                  1.0                     -1.0                    2.0   \n",
       "4                  1.0                     -1.0                    2.0   \n",
       "\n",
       "   LC4605_C_NSSEC  LC4202_C_ETHHUK11  LC4202_C_CARSNO     HRPID  FILLED  \n",
       "0             2.0                2.0              2.0  254841.0    True  \n",
       "1             9.0                7.0              1.0  269214.0    True  \n",
       "2             4.0                4.0              1.0  206340.0   False  \n",
       "3            -1.0               -1.0              1.0      -1.0   False  \n",
       "4             5.0                4.0              1.0  258891.0    True  "
      ]
     },
     "execution_count": 3,
     "metadata": {},
     "output_type": "execute_result"
    }
   ],
   "source": [
    "msm_zip_file = zipfile.ZipFile(os.path.join('data', 'msm_england.zip'))\n",
    "msm_file = \"_\".join(['msm_england/ass_hh', ladcd, 'OA11_2020.csv'])\n",
    "msm_df = pd.read_csv(msm_zip_file.open(msm_file))\n",
    "msm_df.head()"
   ]
  },
  {
   "cell_type": "markdown",
   "metadata": {},
   "source": [
    "##### MSM data: transform tenure values 2 and 3 to 1\n",
    "\n",
    "In the EPC data the tenure values 2 (`Owned outright`) and 3 (`Owned with a mortgage or loan or shared ownership`) are aggregated in the value 1 (`Owned: Total`)."
   ]
  },
  {
   "cell_type": "code",
   "execution_count": 4,
   "metadata": {},
   "outputs": [],
   "source": [
    "df_col = 'tenure'\n",
    "msm_df[df_col] = msm_df.LC4402_C_TENHUK11.copy()\n",
    "msm_df.loc[(msm_df[df_col] == 2), df_col] = 1 # 2 = Owned outright\n",
    "msm_df.loc[(msm_df[df_col] == 3), df_col] = 1 # 3 = Owned with a mortgage or loan or shared ownership"
   ]
  },
  {
   "cell_type": "markdown",
   "metadata": {},
   "source": [
    "### Assign a treatment values\n",
    "\n",
    "* EPC: `Treatment` = 1\n",
    "* MSM: `Treatment` = 0"
   ]
  },
  {
   "cell_type": "code",
   "execution_count": 5,
   "metadata": {
    "scrolled": true
   },
   "outputs": [],
   "source": [
    "epc_df['Treatment'] = 1\n",
    "msm_df['Treatment'] = 0"
   ]
  },
  {
   "cell_type": "markdown",
   "metadata": {},
   "source": [
    "### Concatenate EPC and MSM datasets "
   ]
  },
  {
   "cell_type": "code",
   "execution_count": 6,
   "metadata": {
    "scrolled": true
   },
   "outputs": [],
   "source": [
    "dataset = pd.concat([msm_df, epc_df], ignore_index=True, sort=False)"
   ]
  },
  {
   "cell_type": "markdown",
   "metadata": {},
   "source": [
    "### Factorizing the Area\n",
    "\n",
    "Arbitrarily encode the object as an enumerated type.\n",
    "\n",
    "> No assumptions are made regarding distance between different areas."
   ]
  },
  {
   "cell_type": "code",
   "execution_count": 7,
   "metadata": {},
   "outputs": [],
   "source": [
    "Area_factor = dataset.Area.factorize()\n",
    "dataset['Area_factor'] = Area_factor[0]"
   ]
  },
  {
   "cell_type": "markdown",
   "metadata": {},
   "source": [
    "### Isolate the Y, X and the covariates"
   ]
  },
  {
   "cell_type": "code",
   "execution_count": 8,
   "metadata": {},
   "outputs": [],
   "source": [
    "Y = dataset.Treatment.copy()  # treatment # dataset.FILLED.copy()  # outcome\n",
    "X = dataset.Treatment.copy()  # treatment\n",
    "\n",
    "overlap_columns = ['LC4402_C_TYPACCOM', 'tenure', 'Area_factor'] # 'LC4404_C_ROOMS', \n",
    "covariates = dataset[overlap_columns]"
   ]
  },
  {
   "cell_type": "markdown",
   "metadata": {},
   "source": [
    "### Transform categorical into dummy variables\n",
    "\n",
    "To use `CausalModel`, data must be numerical (integer or real). If any variable is categorical, you can use the command below to transform it into dummy values:\n",
    "\n",
    "```python\n",
    "Y = pd.get_dummies(data=Y, drop_first=True)\n",
    "X = pd.get_dummies(data=X, drop_first=True)\n",
    "covariates = pd.get_dummies(data=covariates, drop_first=True)\n",
    "```\n",
    "\n",
    "> In this work, the data went through a previous process where the variables were coded."
   ]
  },
  {
   "cell_type": "markdown",
   "metadata": {},
   "source": [
    "### Transform pandas dataframe into numpy.ndarray"
   ]
  },
  {
   "cell_type": "code",
   "execution_count": 9,
   "metadata": {},
   "outputs": [],
   "source": [
    "Y = Y.values\n",
    "X = X.values\n",
    "covariates = covariates.values"
   ]
  },
  {
   "cell_type": "markdown",
   "metadata": {},
   "source": [
    "## Propensity score"
   ]
  },
  {
   "cell_type": "markdown",
   "metadata": {},
   "source": [
    "### Create the Causal Model"
   ]
  },
  {
   "cell_type": "code",
   "execution_count": 10,
   "metadata": {},
   "outputs": [],
   "source": [
    "model = CausalModel(Y, X, covariates)"
   ]
  },
  {
   "cell_type": "markdown",
   "metadata": {},
   "source": [
    "### Propensity score calculation"
   ]
  },
  {
   "cell_type": "code",
   "execution_count": 11,
   "metadata": {},
   "outputs": [],
   "source": [
    "model.est_propensity_s()"
   ]
  },
  {
   "cell_type": "code",
   "execution_count": 12,
   "metadata": {},
   "outputs": [],
   "source": [
    "dataset['PropensityScore'] = model.propensity['fitted']"
   ]
  },
  {
   "cell_type": "markdown",
   "metadata": {},
   "source": [
    "### Propensity score comparison"
   ]
  },
  {
   "cell_type": "code",
   "execution_count": 13,
   "metadata": {},
   "outputs": [
    {
     "data": {
      "text/plain": [
       "<matplotlib.axes._subplots.AxesSubplot at 0x7f31a1db2160>"
      ]
     },
     "execution_count": 13,
     "metadata": {},
     "output_type": "execute_result"
    },
    {
     "data": {
      "image/png": "[encoded data removed]",
      "text/plain": [
       "<Figure size 800x560 with 1 Axes>"
      ]
     },
     "metadata": {},
     "output_type": "display_data"
    }
   ],
   "source": [
    "sns.set_style(\"white\")\n",
    "plt.figure(figsize=(10,7), dpi= 80)\n",
    "sns.kdeplot(dataset['PropensityScore'], hue = dataset['Treatment'])\n",
    "\n",
    "# * MSM: `Treatment` = 0\n",
    "# * EPC: `Treatment` = 1"
   ]
  },
  {
   "cell_type": "markdown",
   "metadata": {},
   "source": [
    "## Match Process"
   ]
  },
  {
   "cell_type": "markdown",
   "metadata": {},
   "source": [
    "### Separating EPC data from MSM data"
   ]
  },
  {
   "cell_type": "code",
   "execution_count": 14,
   "metadata": {},
   "outputs": [],
   "source": [
    "epc_df = dataset.loc[dataset.Treatment==1].reset_index(drop=True)\n",
    "msm_df = dataset.loc[dataset.Treatment==0].reset_index(drop=True)"
   ]
  },
  {
   "cell_type": "markdown",
   "metadata": {},
   "source": [
    "### Closest neighbors"
   ]
  },
  {
   "cell_type": "markdown",
   "metadata": {},
   "source": [
    "#### Defining the number of neighbors"
   ]
  },
  {
   "cell_type": "code",
   "execution_count": 15,
   "metadata": {},
   "outputs": [],
   "source": [
    "n_neighbors = 200  # number of neighbors to be stored for each hid in MSM data"
   ]
  },
  {
   "cell_type": "markdown",
   "metadata": {},
   "source": [
    "#### Creating a list of closest neighbors (index and distance)"
   ]
  },
  {
   "cell_type": "code",
   "execution_count": 16,
   "metadata": {},
   "outputs": [],
   "source": [
    "# create the neighbors object (p=2 means Euclidean distance)\n",
    "knn = NearestNeighbors(n_neighbors=n_neighbors, p=2).fit(epc_df[['PropensityScore']])\n",
    "\n",
    "# for each household in MSM dataframe, find the nearest EPC neighbors\n",
    "distances, indices = knn.kneighbors(msm_df[['PropensityScore']])"
   ]
  },
  {
   "cell_type": "markdown",
   "metadata": {},
   "source": [
    "### Matching Process overview\n",
    "\n",
    "![Matching Process](figures/matching_process.png)\n",
    "\n",
    "#### Weight function\n",
    "\n",
    "A step-like function is going to be used as weight function. The weight function, $W$,  is defined as:\n",
    "\n",
    "$$\n",
    "W(\\Delta P_{i,j}) = N -  \\dfrac{\\Delta P_{i,j}}{\\Delta P_{i,n}}(N-M),\n",
    "$$\n",
    "\n",
    "where:\n",
    "\n",
    "* $\\Delta P_{i,j}$: Propensity Score difference between the MSM household $i$ and the EPC neighbor $j$ ($ 1 \\le j \\le n$)\n",
    "* $\\Delta P_{i,n}$: Propensity Score difference between the MSM household $i$ and the EPC neighbor $n$\n",
    "* $n$: The number of neighbors (n_neighbors).\n",
    "* N: Value of the highest desired weight. Here $N=100$.\n",
    "* M: Value of the lowest desired weight. Here $M=5$.\n",
    "\n",
    "> equal Propensity Score differences receive the same weight\n",
    "\n",
    "##### Weight function example - MSM household id=4"
   ]
  },
  {
   "cell_type": "code",
   "execution_count": 17,
   "metadata": {},
   "outputs": [
    {
     "data": {
      "text/plain": [
       "Text(0, 0.5, 'Wheight')"
      ]
     },
     "execution_count": 17,
     "metadata": {},
     "output_type": "execute_result"
    },
    {
     "data": {
      "image/png": "[encoded data removed]",
      "text/plain": [
       "<Figure size 432x288 with 1 Axes>"
      ]
     },
     "metadata": {},
     "output_type": "display_data"
    }
   ],
   "source": [
    "import numpy as np\n",
    "\n",
    "i = 4  # MSM household id\n",
    "N = 100  # max weight value\n",
    "M = 5  # min weight values\n",
    "\n",
    "delta_Pij = distances[i]\n",
    "delta_Pin = distances[i][-1]\n",
    "\n",
    "weight = N-((delta_Pij/delta_Pin)*(N-M))\n",
    "\n",
    "\n",
    "x = np.arange(0, n_neighbors)\n",
    "plt.plot(x,weight, 'o-')\n",
    "plt.xlabel('Neighbor')\n",
    "plt.ylabel('Wheight')"
   ]
  },
  {
   "cell_type": "markdown",
   "metadata": {},
   "source": [
    "### Defining Matching Function"
   ]
  },
  {
   "cell_type": "code",
   "execution_count": 18,
   "metadata": {},
   "outputs": [],
   "source": [
    "def get_matches(distances, indices):\n",
    "    pairs = []\n",
    "    for indexMSM, candidatesEPC in  enumerate(indices):\n",
    "        is_zero = np.flatnonzero(distances[indexMSM]==0)\n",
    "        if is_zero.size < n_neighbors:\n",
    "            weight = (100-(distances[indexMSM]/distances[indexMSM][-1]*95))\n",
    "            indexEPC = choices(candidatesEPC, weights=weight)[0] # random.choices not supported by numba\n",
    "        else:\n",
    "            indexEPC = choices(candidatesEPC)[0] # random.choices not supported by numba\n",
    "        \n",
    "        \n",
    "        pairs.append([indexMSM, indexEPC])\n",
    "    return(pairs)"
   ]
  },
  {
   "cell_type": "markdown",
   "metadata": {},
   "source": [
    "### Get matched pairs"
   ]
  },
  {
   "cell_type": "code",
   "execution_count": 19,
   "metadata": {
    "scrolled": true
   },
   "outputs": [],
   "source": [
    "pairs = get_matches(distances, indices)"
   ]
  },
  {
   "cell_type": "markdown",
   "metadata": {},
   "source": [
    "#### Add matched EPC id in MSM dataframe"
   ]
  },
  {
   "cell_type": "code",
   "execution_count": 20,
   "metadata": {},
   "outputs": [],
   "source": [
    "matches = pd.DataFrame(pairs)\n",
    "msm_df[\"EPCid\"] = matches[1]\n",
    "del matches, pairs"
   ]
  },
  {
   "cell_type": "markdown",
   "metadata": {},
   "source": [
    "### Get EPC information"
   ]
  },
  {
   "cell_type": "code",
   "execution_count": 21,
   "metadata": {},
   "outputs": [
    {
     "data": {
      "text/html": [
       "<div>\n",
       "<style scoped>\n",
       "    .dataframe tbody tr th:only-of-type {\n",
       "        vertical-align: middle;\n",
       "    }\n",
       "\n",
       "    .dataframe tbody tr th {\n",
       "        vertical-align: top;\n",
       "    }\n",
       "\n",
       "    .dataframe thead th {\n",
       "        text-align: right;\n",
       "    }\n",
       "</style>\n",
       "<table border=\"1\" class=\"dataframe\">\n",
       "  <thead>\n",
       "    <tr style=\"text-align: right;\">\n",
       "      <th></th>\n",
       "      <th>HID</th>\n",
       "      <th>Area</th>\n",
       "      <th>LC4402_C_TYPACCOM</th>\n",
       "      <th>QS420_CELL</th>\n",
       "      <th>LC4402_C_TENHUK11</th>\n",
       "      <th>LC4408_C_AHTHUK11</th>\n",
       "      <th>CommunalSize</th>\n",
       "      <th>LC4404_C_SIZHUK11</th>\n",
       "      <th>LC4404_C_ROOMS</th>\n",
       "      <th>LC4405EW_C_BEDROOMS</th>\n",
       "      <th>LC4408EW_C_PPBROOMHEW11</th>\n",
       "      <th>LC4402_C_CENHEATHUK11</th>\n",
       "      <th>LC4605_C_NSSEC</th>\n",
       "      <th>LC4202_C_ETHHUK11</th>\n",
       "      <th>LC4202_C_CARSNO</th>\n",
       "      <th>HRPID</th>\n",
       "      <th>FILLED</th>\n",
       "      <th>EPCid</th>\n",
       "    </tr>\n",
       "  </thead>\n",
       "  <tbody>\n",
       "    <tr>\n",
       "      <th>0</th>\n",
       "      <td>0.0</td>\n",
       "      <td>E00010088</td>\n",
       "      <td>3.0</td>\n",
       "      <td>-2.0</td>\n",
       "      <td>3.0</td>\n",
       "      <td>3.0</td>\n",
       "      <td>-2.0</td>\n",
       "      <td>2.0</td>\n",
       "      <td>4.0</td>\n",
       "      <td>2.0</td>\n",
       "      <td>-1.0</td>\n",
       "      <td>2.0</td>\n",
       "      <td>2.0</td>\n",
       "      <td>2.0</td>\n",
       "      <td>2.0</td>\n",
       "      <td>254841.0</td>\n",
       "      <td>True</td>\n",
       "      <td>44663</td>\n",
       "    </tr>\n",
       "    <tr>\n",
       "      <th>1</th>\n",
       "      <td>1.0</td>\n",
       "      <td>E00010222</td>\n",
       "      <td>2.0</td>\n",
       "      <td>-2.0</td>\n",
       "      <td>5.0</td>\n",
       "      <td>1.0</td>\n",
       "      <td>-2.0</td>\n",
       "      <td>1.0</td>\n",
       "      <td>3.0</td>\n",
       "      <td>1.0</td>\n",
       "      <td>-1.0</td>\n",
       "      <td>2.0</td>\n",
       "      <td>9.0</td>\n",
       "      <td>7.0</td>\n",
       "      <td>1.0</td>\n",
       "      <td>269214.0</td>\n",
       "      <td>True</td>\n",
       "      <td>25806</td>\n",
       "    </tr>\n",
       "    <tr>\n",
       "      <th>2</th>\n",
       "      <td>2.0</td>\n",
       "      <td>E00010300</td>\n",
       "      <td>5.0</td>\n",
       "      <td>-2.0</td>\n",
       "      <td>6.0</td>\n",
       "      <td>2.0</td>\n",
       "      <td>-2.0</td>\n",
       "      <td>4.0</td>\n",
       "      <td>6.0</td>\n",
       "      <td>4.0</td>\n",
       "      <td>-1.0</td>\n",
       "      <td>2.0</td>\n",
       "      <td>4.0</td>\n",
       "      <td>4.0</td>\n",
       "      <td>1.0</td>\n",
       "      <td>206340.0</td>\n",
       "      <td>False</td>\n",
       "      <td>85419</td>\n",
       "    </tr>\n",
       "    <tr>\n",
       "      <th>3</th>\n",
       "      <td>3.0</td>\n",
       "      <td>E00010394</td>\n",
       "      <td>-2.0</td>\n",
       "      <td>-2.0</td>\n",
       "      <td>-1.0</td>\n",
       "      <td>-1.0</td>\n",
       "      <td>-2.0</td>\n",
       "      <td>0.0</td>\n",
       "      <td>1.0</td>\n",
       "      <td>1.0</td>\n",
       "      <td>-1.0</td>\n",
       "      <td>2.0</td>\n",
       "      <td>-1.0</td>\n",
       "      <td>-1.0</td>\n",
       "      <td>1.0</td>\n",
       "      <td>-1.0</td>\n",
       "      <td>False</td>\n",
       "      <td>72919</td>\n",
       "    </tr>\n",
       "    <tr>\n",
       "      <th>4</th>\n",
       "      <td>4.0</td>\n",
       "      <td>E00010345</td>\n",
       "      <td>5.0</td>\n",
       "      <td>-2.0</td>\n",
       "      <td>6.0</td>\n",
       "      <td>3.0</td>\n",
       "      <td>-2.0</td>\n",
       "      <td>2.0</td>\n",
       "      <td>4.0</td>\n",
       "      <td>1.0</td>\n",
       "      <td>-1.0</td>\n",
       "      <td>2.0</td>\n",
       "      <td>5.0</td>\n",
       "      <td>4.0</td>\n",
       "      <td>1.0</td>\n",
       "      <td>258891.0</td>\n",
       "      <td>True</td>\n",
       "      <td>8872</td>\n",
       "    </tr>\n",
       "  </tbody>\n",
       "</table>\n",
       "</div>"
      ],
      "text/plain": [
       "   HID       Area  LC4402_C_TYPACCOM  QS420_CELL  LC4402_C_TENHUK11  \\\n",
       "0  0.0  E00010088                3.0        -2.0                3.0   \n",
       "1  1.0  E00010222                2.0        -2.0                5.0   \n",
       "2  2.0  E00010300                5.0        -2.0                6.0   \n",
       "3  3.0  E00010394               -2.0        -2.0               -1.0   \n",
       "4  4.0  E00010345                5.0        -2.0                6.0   \n",
       "\n",
       "   LC4408_C_AHTHUK11  CommunalSize  LC4404_C_SIZHUK11  LC4404_C_ROOMS  \\\n",
       "0                3.0          -2.0                2.0             4.0   \n",
       "1                1.0          -2.0                1.0             3.0   \n",
       "2                2.0          -2.0                4.0             6.0   \n",
       "3               -1.0          -2.0                0.0             1.0   \n",
       "4                3.0          -2.0                2.0             4.0   \n",
       "\n",
       "   LC4405EW_C_BEDROOMS  LC4408EW_C_PPBROOMHEW11  LC4402_C_CENHEATHUK11  \\\n",
       "0                  2.0                     -1.0                    2.0   \n",
       "1                  1.0                     -1.0                    2.0   \n",
       "2                  4.0                     -1.0                    2.0   \n",
       "3                  1.0                     -1.0                    2.0   \n",
       "4                  1.0                     -1.0                    2.0   \n",
       "\n",
       "   LC4605_C_NSSEC  LC4202_C_ETHHUK11  LC4202_C_CARSNO     HRPID FILLED  EPCid  \n",
       "0             2.0                2.0              2.0  254841.0   True  44663  \n",
       "1             9.0                7.0              1.0  269214.0   True  25806  \n",
       "2             4.0                4.0              1.0  206340.0  False  85419  \n",
       "3            -1.0               -1.0              1.0      -1.0  False  72919  \n",
       "4             5.0                4.0              1.0  258891.0   True   8872  "
      ]
     },
     "execution_count": 21,
     "metadata": {},
     "output_type": "execute_result"
    }
   ],
   "source": [
    "msm_df.drop([\"tenure\", \n",
    "             \"Treatment\", \n",
    "             \"FLOOR_AREA\", \n",
    "             \"MAINHEAT_DESCRIPTION\",\n",
    "             \"ACCOM_AGE\",\n",
    "             \"Area_factor\",\n",
    "             \"PropensityScore\",], axis=1, inplace=True)\n",
    "msm_df.head()"
   ]
  },
  {
   "cell_type": "code",
   "execution_count": 22,
   "metadata": {},
   "outputs": [],
   "source": [
    "columns = ['FLOOR_AREA', 'MAINHEAT_DESCRIPTION', 'ACCOM_AGE']\n",
    "epc_df = epc_df[columns].copy()\n",
    "epc_df['EPCid'] = epc_df.index"
   ]
  },
  {
   "cell_type": "code",
   "execution_count": 23,
   "metadata": {
    "scrolled": true
   },
   "outputs": [
    {
     "data": {
      "text/html": [
       "<div>\n",
       "<style scoped>\n",
       "    .dataframe tbody tr th:only-of-type {\n",
       "        vertical-align: middle;\n",
       "    }\n",
       "\n",
       "    .dataframe tbody tr th {\n",
       "        vertical-align: top;\n",
       "    }\n",
       "\n",
       "    .dataframe thead th {\n",
       "        text-align: right;\n",
       "    }\n",
       "</style>\n",
       "<table border=\"1\" class=\"dataframe\">\n",
       "  <thead>\n",
       "    <tr style=\"text-align: right;\">\n",
       "      <th></th>\n",
       "      <th>HID</th>\n",
       "      <th>Area</th>\n",
       "      <th>LC4402_C_TYPACCOM</th>\n",
       "      <th>QS420_CELL</th>\n",
       "      <th>LC4402_C_TENHUK11</th>\n",
       "      <th>LC4408_C_AHTHUK11</th>\n",
       "      <th>CommunalSize</th>\n",
       "      <th>LC4404_C_SIZHUK11</th>\n",
       "      <th>LC4404_C_ROOMS</th>\n",
       "      <th>LC4405EW_C_BEDROOMS</th>\n",
       "      <th>...</th>\n",
       "      <th>LC4402_C_CENHEATHUK11</th>\n",
       "      <th>LC4605_C_NSSEC</th>\n",
       "      <th>LC4202_C_ETHHUK11</th>\n",
       "      <th>LC4202_C_CARSNO</th>\n",
       "      <th>HRPID</th>\n",
       "      <th>FILLED</th>\n",
       "      <th>EPCid</th>\n",
       "      <th>FLOOR_AREA</th>\n",
       "      <th>MAINHEAT_DESCRIPTION</th>\n",
       "      <th>ACCOM_AGE</th>\n",
       "    </tr>\n",
       "  </thead>\n",
       "  <tbody>\n",
       "    <tr>\n",
       "      <th>0</th>\n",
       "      <td>0.0</td>\n",
       "      <td>E00010088</td>\n",
       "      <td>3.0</td>\n",
       "      <td>-2.0</td>\n",
       "      <td>3.0</td>\n",
       "      <td>3.0</td>\n",
       "      <td>-2.0</td>\n",
       "      <td>2.0</td>\n",
       "      <td>4.0</td>\n",
       "      <td>2.0</td>\n",
       "      <td>...</td>\n",
       "      <td>2.0</td>\n",
       "      <td>2.0</td>\n",
       "      <td>2.0</td>\n",
       "      <td>2.0</td>\n",
       "      <td>254841.0</td>\n",
       "      <td>True</td>\n",
       "      <td>44663</td>\n",
       "      <td>13.0</td>\n",
       "      <td>Boiler and radiators, mains gas</td>\n",
       "      <td>1.0</td>\n",
       "    </tr>\n",
       "    <tr>\n",
       "      <th>1</th>\n",
       "      <td>1.0</td>\n",
       "      <td>E00010222</td>\n",
       "      <td>2.0</td>\n",
       "      <td>-2.0</td>\n",
       "      <td>5.0</td>\n",
       "      <td>1.0</td>\n",
       "      <td>-2.0</td>\n",
       "      <td>1.0</td>\n",
       "      <td>3.0</td>\n",
       "      <td>1.0</td>\n",
       "      <td>...</td>\n",
       "      <td>2.0</td>\n",
       "      <td>9.0</td>\n",
       "      <td>7.0</td>\n",
       "      <td>1.0</td>\n",
       "      <td>269214.0</td>\n",
       "      <td>True</td>\n",
       "      <td>25806</td>\n",
       "      <td>13.0</td>\n",
       "      <td>Boiler and radiators, mains gas</td>\n",
       "      <td>1.0</td>\n",
       "    </tr>\n",
       "    <tr>\n",
       "      <th>2</th>\n",
       "      <td>2.0</td>\n",
       "      <td>E00010300</td>\n",
       "      <td>5.0</td>\n",
       "      <td>-2.0</td>\n",
       "      <td>6.0</td>\n",
       "      <td>2.0</td>\n",
       "      <td>-2.0</td>\n",
       "      <td>4.0</td>\n",
       "      <td>6.0</td>\n",
       "      <td>4.0</td>\n",
       "      <td>...</td>\n",
       "      <td>2.0</td>\n",
       "      <td>4.0</td>\n",
       "      <td>4.0</td>\n",
       "      <td>1.0</td>\n",
       "      <td>206340.0</td>\n",
       "      <td>False</td>\n",
       "      <td>85419</td>\n",
       "      <td>1.0</td>\n",
       "      <td>Electric storage heaters</td>\n",
       "      <td>1.0</td>\n",
       "    </tr>\n",
       "    <tr>\n",
       "      <th>3</th>\n",
       "      <td>3.0</td>\n",
       "      <td>E00010394</td>\n",
       "      <td>-2.0</td>\n",
       "      <td>-2.0</td>\n",
       "      <td>-1.0</td>\n",
       "      <td>-1.0</td>\n",
       "      <td>-2.0</td>\n",
       "      <td>0.0</td>\n",
       "      <td>1.0</td>\n",
       "      <td>1.0</td>\n",
       "      <td>...</td>\n",
       "      <td>2.0</td>\n",
       "      <td>-1.0</td>\n",
       "      <td>-1.0</td>\n",
       "      <td>1.0</td>\n",
       "      <td>-1.0</td>\n",
       "      <td>False</td>\n",
       "      <td>72919</td>\n",
       "      <td>4.0</td>\n",
       "      <td>Boiler and radiators, mains gas</td>\n",
       "      <td>6.0</td>\n",
       "    </tr>\n",
       "    <tr>\n",
       "      <th>4</th>\n",
       "      <td>4.0</td>\n",
       "      <td>E00010345</td>\n",
       "      <td>5.0</td>\n",
       "      <td>-2.0</td>\n",
       "      <td>6.0</td>\n",
       "      <td>3.0</td>\n",
       "      <td>-2.0</td>\n",
       "      <td>2.0</td>\n",
       "      <td>4.0</td>\n",
       "      <td>1.0</td>\n",
       "      <td>...</td>\n",
       "      <td>2.0</td>\n",
       "      <td>5.0</td>\n",
       "      <td>4.0</td>\n",
       "      <td>1.0</td>\n",
       "      <td>258891.0</td>\n",
       "      <td>True</td>\n",
       "      <td>8872</td>\n",
       "      <td>1.0</td>\n",
       "      <td>Community scheme</td>\n",
       "      <td>1.0</td>\n",
       "    </tr>\n",
       "  </tbody>\n",
       "</table>\n",
       "<p>5 rows × 21 columns</p>\n",
       "</div>"
      ],
      "text/plain": [
       "   HID       Area  LC4402_C_TYPACCOM  QS420_CELL  LC4402_C_TENHUK11  \\\n",
       "0  0.0  E00010088                3.0        -2.0                3.0   \n",
       "1  1.0  E00010222                2.0        -2.0                5.0   \n",
       "2  2.0  E00010300                5.0        -2.0                6.0   \n",
       "3  3.0  E00010394               -2.0        -2.0               -1.0   \n",
       "4  4.0  E00010345                5.0        -2.0                6.0   \n",
       "\n",
       "   LC4408_C_AHTHUK11  CommunalSize  LC4404_C_SIZHUK11  LC4404_C_ROOMS  \\\n",
       "0                3.0          -2.0                2.0             4.0   \n",
       "1                1.0          -2.0                1.0             3.0   \n",
       "2                2.0          -2.0                4.0             6.0   \n",
       "3               -1.0          -2.0                0.0             1.0   \n",
       "4                3.0          -2.0                2.0             4.0   \n",
       "\n",
       "   LC4405EW_C_BEDROOMS  ...  LC4402_C_CENHEATHUK11  LC4605_C_NSSEC  \\\n",
       "0                  2.0  ...                    2.0             2.0   \n",
       "1                  1.0  ...                    2.0             9.0   \n",
       "2                  4.0  ...                    2.0             4.0   \n",
       "3                  1.0  ...                    2.0            -1.0   \n",
       "4                  1.0  ...                    2.0             5.0   \n",
       "\n",
       "   LC4202_C_ETHHUK11  LC4202_C_CARSNO     HRPID  FILLED  EPCid  FLOOR_AREA  \\\n",
       "0                2.0              2.0  254841.0    True  44663        13.0   \n",
       "1                7.0              1.0  269214.0    True  25806        13.0   \n",
       "2                4.0              1.0  206340.0   False  85419         1.0   \n",
       "3               -1.0              1.0      -1.0   False  72919         4.0   \n",
       "4                4.0              1.0  258891.0    True   8872         1.0   \n",
       "\n",
       "              MAINHEAT_DESCRIPTION ACCOM_AGE  \n",
       "0  Boiler and radiators, mains gas       1.0  \n",
       "1  Boiler and radiators, mains gas       1.0  \n",
       "2         Electric storage heaters       1.0  \n",
       "3  Boiler and radiators, mains gas       6.0  \n",
       "4                 Community scheme       1.0  \n",
       "\n",
       "[5 rows x 21 columns]"
      ]
     },
     "execution_count": 23,
     "metadata": {},
     "output_type": "execute_result"
    }
   ],
   "source": [
    "msm_df = pd.merge(msm_df, epc_df, on='EPCid',how='left')\n",
    "msm_df.head()"
   ]
  },
  {
   "cell_type": "markdown",
   "metadata": {},
   "source": [
    "## Internal validation"
   ]
  },
  {
   "cell_type": "markdown",
   "metadata": {},
   "source": [
    "### Floor area distribution"
   ]
  },
  {
   "cell_type": "code",
   "execution_count": 24,
   "metadata": {},
   "outputs": [
    {
     "data": {
      "image/png": "[encoded data removed]",
      "text/plain": [
       "<Figure size 1152x360 with 2 Axes>"
      ]
     },
     "metadata": {},
     "output_type": "display_data"
    }
   ],
   "source": [
    "fig, ax = plt.subplots(nrows=1, ncols=2, figsize=(16, 5))\n",
    "\n",
    "msm_df.FLOOR_AREA.plot(kind='hist', ax=ax[0], title=\"MSM\", bins=11)\n",
    "epc_df.FLOOR_AREA.plot(kind='hist', ax=ax[1], title=\"EPC\", bins=11)\n",
    "\n",
    "fig.tight_layout(pad=3.0)"
   ]
  },
  {
   "cell_type": "markdown",
   "metadata": {},
   "source": [
    "### Accommodation age distribution"
   ]
  },
  {
   "cell_type": "code",
   "execution_count": 25,
   "metadata": {},
   "outputs": [
    {
     "data": {
      "image/png": "[encoded data removed]",
      "text/plain": [
       "<Figure size 1152x360 with 2 Axes>"
      ]
     },
     "metadata": {},
     "output_type": "display_data"
    }
   ],
   "source": [
    "fig, ax = plt.subplots(nrows=1, ncols=2, figsize=(16, 5))\n",
    "\n",
    "msm_df.ACCOM_AGE.plot(kind='hist', ax=ax[0], title=\"MSM\", bins=11)\n",
    "epc_df.ACCOM_AGE.plot(kind='hist', ax=ax[1], title=\"EPC\", bins=11)\n",
    "fig.tight_layout(pad=3.0)"
   ]
  },
  {
   "cell_type": "code",
   "execution_count": 27,
   "metadata": {},
   "outputs": [],
   "source": [
    "list_df_names = ['msm_E09000014_epc.csv']\n",
    "list_df = [msm_df]\n",
    "csv_name = 'data/msm_england_epc.zip'\n",
    "with zipfile.ZipFile(csv_name, 'w') as csv_zip:\n",
    "    for i in range(len(list_df_names)):\n",
    "        csv_zip.writestr(list_df_names[i], list_df[i].to_csv(index = False, header=True))"
   ]
  },
  {
   "cell_type": "markdown",
   "metadata": {},
   "source": [
    "## Final comments\n",
    "\n",
    "* The `MAINHEAT_DESCRIPTION` column has different values just for `Haringey`. \n",
    "    * If we consider all Local Authorities this number exceeds 700 values, making it difficult to code. \n",
    "    * So far they are being passed literally.\n",
    "    * The ideal is to create different categories and organize the data according to them.\n",
    "    * Without the proper organization, it is impossible to carry out any kind of validation."
   ]
  }
 ],
 "metadata": {
  "kernelspec": {
   "display_name": "Python 3",
   "language": "python",
   "name": "python3"
  },
  "language_info": {
   "codemirror_mode": {
    "name": "ipython",
    "version": 3
   },
   "file_extension": ".py",
   "mimetype": "text/x-python",
   "name": "python",
   "nbconvert_exporter": "python",
   "pygments_lexer": "ipython3",
   "version": "3.6.8"
  }
 },
 "nbformat": 4,
 "nbformat_minor": 5
}
