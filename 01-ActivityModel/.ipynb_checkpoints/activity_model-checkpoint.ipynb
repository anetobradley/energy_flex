{
 "cells": [
  {
   "cell_type": "markdown",
   "metadata": {},
   "source": [
    "# Activity Model\n",
    "\n",
    "Author: Patricia Ternes\n"
   ]
  },
  {
   "cell_type": "markdown",
   "metadata": {},
   "source": [
    "## Table of Contents\n",
    "\n",
    "* [Modules](#ref-modules)\n",
    "* [Tree structure](#ref-tree)\n",
    "* [GIS Data](#ref-gis)\n",
    "    * [Download an UK Boundary Dataset](#ref-gis-download)\n",
    "    * [Reading the UK Boundary Dataset](#ref-gis-read)\n",
    "* [Census Data](#ref-census)\n",
    "    * [Download the UK Census Data](#ref-census-download)\n",
    "        * [Tenure Data](#ref-census-download-tenure)\n",
    "        * [Single family dwellings](#ref-census-download-dwellings)\n",
    "        * [Accommodation type](#ref-census-download-accommodation)\n",
    "        * [Workday population](#ref-census-download-workday)"
   ]
  },
  {
   "cell_type": "markdown",
   "metadata": {},
   "source": [
    "## Modules <a class=\"anchor\" id=\"ref-modules\"></a>"
   ]
  },
  {
   "cell_type": "code",
   "execution_count": 1,
   "metadata": {},
   "outputs": [],
   "source": [
    "import os\n",
    "import geopandas as gpd\n",
    "import matplotlib.pyplot as plt\n",
    "import requests"
   ]
  },
  {
   "cell_type": "markdown",
   "metadata": {},
   "source": [
    "## Tree structure <a class=\"anchor\" id=\"ref-tree\"></a>\n",
    "\n",
    "Create the necessary folder structure"
   ]
  },
  {
   "cell_type": "code",
   "execution_count": 2,
   "metadata": {},
   "outputs": [
    {
     "name": "stdout",
     "output_type": "stream",
     "text": [
      "mkdir: cannot create directory ‘data’: File exists\n",
      "mkdir: cannot create directory ‘data/gis’: File exists\n",
      "mkdir: cannot create directory ‘data/census’: File exists\n"
     ]
    }
   ],
   "source": [
    "!mkdir data\n",
    "!mkdir data/gis\n",
    "!mkdir data/census"
   ]
  },
  {
   "cell_type": "code",
   "execution_count": 3,
   "metadata": {},
   "outputs": [
    {
     "name": "stdout",
     "output_type": "stream",
     "text": [
      ".\r\n",
      "└── data\r\n",
      "    ├── census\r\n",
      "    └── gis\r\n",
      "\r\n",
      "3 directories\r\n"
     ]
    }
   ],
   "source": [
    "!tree -d "
   ]
  },
  {
   "cell_type": "markdown",
   "metadata": {},
   "source": [
    "## GIS Data <a class=\"anchor\" id=\"ref-gis\"></a>\n",
    "\n",
    "\n",
    "\n",
    "### Download an UK Boundary Dataset <a class=\"anchor\" id=\"ref-gis-download\"></a>\n",
    "\n",
    "See gis [README.md](data/gis/README.md) for details"
   ]
  },
  {
   "cell_type": "code",
   "execution_count": 4,
   "metadata": {},
   "outputs": [
    {
     "name": "stdout",
     "output_type": "stream",
     "text": [
      "--2021-06-24 15:45:04--  https://borders.ukdataservice.ac.uk/ukborders/easy_download/prebuilt/shape/England_msoa_2011_sgen_clipped.zip\n",
      "Resolving borders.ukdataservice.ac.uk (borders.ukdataservice.ac.uk)... 155.245.92.12\n",
      "Connecting to borders.ukdataservice.ac.uk (borders.ukdataservice.ac.uk)|155.245.92.12|:443... connected.\n",
      "HTTP request sent, awaiting response... 200 OK\n",
      "Length: 2644493 (2.5M) [application/zip]\n",
      "Saving to: ‘data/gis/England_msoa_2011_sgen_clipped.zip’\n",
      "\n",
      "100%[======================================>] 2,644,493   3.70MB/s   in 0.7s   \n",
      "\n",
      "2021-06-24 15:45:05 (3.70 MB/s) - ‘data/gis/England_msoa_2011_sgen_clipped.zip’ saved [2644493/2644493]\n",
      "\n",
      "Archive:  data/gis/England_msoa_2011_sgen_clipped.zip\n",
      "  inflating: data/gis/TermsAndConditions.html  \n",
      "  inflating: data/gis/england_msoa_2011_sgen_clipped.dbf  \n",
      "  inflating: data/gis/england_msoa_2011_sgen_clipped.prj  \n",
      "  inflating: data/gis/england_msoa_2011_sgen_clipped.shp  \n",
      "  inflating: data/gis/england_msoa_2011_sgen_clipped.shx  \n"
     ]
    }
   ],
   "source": [
    "!wget -O data/gis/England_msoa_2011_sgen_clipped.zip https://borders.ukdataservice.ac.uk/ukborders/easy_download/prebuilt/shape/England_msoa_2011_sgen_clipped.zip\n",
    "!unzip -o data/gis/England_msoa_2011_sgen_clipped.zip -d data/gis\n",
    "!rm data/gis/England_msoa_2011_sgen_clipped.zip"
   ]
  },
  {
   "cell_type": "markdown",
   "metadata": {},
   "source": [
    "### Reading the UK Boundary Dataset <a class=\"anchor\" id=\"ref-gis-read\"></a>\n",
    "\n",
    "1. variable: `msoa`\n",
    "2. change the first column name to `MSOA11CD`"
   ]
  },
  {
   "cell_type": "code",
   "execution_count": 5,
   "metadata": {},
   "outputs": [
    {
     "data": {
      "text/html": [
       "<div>\n",
       "<style scoped>\n",
       "    .dataframe tbody tr th:only-of-type {\n",
       "        vertical-align: middle;\n",
       "    }\n",
       "\n",
       "    .dataframe tbody tr th {\n",
       "        vertical-align: top;\n",
       "    }\n",
       "\n",
       "    .dataframe thead th {\n",
       "        text-align: right;\n",
       "    }\n",
       "</style>\n",
       "<table border=\"1\" class=\"dataframe\">\n",
       "  <thead>\n",
       "    <tr style=\"text-align: right;\">\n",
       "      <th></th>\n",
       "      <th>name</th>\n",
       "      <th>geometry</th>\n",
       "    </tr>\n",
       "    <tr>\n",
       "      <th>MSOA11CD</th>\n",
       "      <th></th>\n",
       "      <th></th>\n",
       "    </tr>\n",
       "  </thead>\n",
       "  <tbody>\n",
       "    <tr>\n",
       "      <th>E02000001</th>\n",
       "      <td>City of London 001</td>\n",
       "      <td>POLYGON ((532419.592 181998.305, 532746.814 18...</td>\n",
       "    </tr>\n",
       "    <tr>\n",
       "      <th>E02000002</th>\n",
       "      <td>Barking and Dagenham 001</td>\n",
       "      <td>POLYGON ((548452.001 189024.718, 548235.426 18...</td>\n",
       "    </tr>\n",
       "    <tr>\n",
       "      <th>E02000003</th>\n",
       "      <td>Barking and Dagenham 002</td>\n",
       "      <td>POLYGON ((548954.500 189063.203, 548874.188 18...</td>\n",
       "    </tr>\n",
       "    <tr>\n",
       "      <th>E02000004</th>\n",
       "      <td>Barking and Dagenham 003</td>\n",
       "      <td>POLYGON ((551943.813 186027.672, 551670.812 18...</td>\n",
       "    </tr>\n",
       "    <tr>\n",
       "      <th>E02000005</th>\n",
       "      <td>Barking and Dagenham 004</td>\n",
       "      <td>POLYGON ((549145.624 187383.875, 549128.657 18...</td>\n",
       "    </tr>\n",
       "    <tr>\n",
       "      <th>...</th>\n",
       "      <td>...</td>\n",
       "      <td>...</td>\n",
       "    </tr>\n",
       "    <tr>\n",
       "      <th>E02006930</th>\n",
       "      <td>Greenwich 037</td>\n",
       "      <td>POLYGON ((540659.000 178728.000, 540583.276 17...</td>\n",
       "    </tr>\n",
       "    <tr>\n",
       "      <th>E02006931</th>\n",
       "      <td>Greenwich 038</td>\n",
       "      <td>POLYGON ((538774.161 177841.174, 538834.755 17...</td>\n",
       "    </tr>\n",
       "    <tr>\n",
       "      <th>E02006932</th>\n",
       "      <td>Liverpool 060</td>\n",
       "      <td>POLYGON ((334590.294 391107.590, 334777.949 39...</td>\n",
       "    </tr>\n",
       "    <tr>\n",
       "      <th>E02006933</th>\n",
       "      <td>Liverpool 061</td>\n",
       "      <td>POLYGON ((335061.480 390301.281, 335370.000 39...</td>\n",
       "    </tr>\n",
       "    <tr>\n",
       "      <th>E02006934</th>\n",
       "      <td>Liverpool 062</td>\n",
       "      <td>POLYGON ((334324.451 390946.301, 334596.999 39...</td>\n",
       "    </tr>\n",
       "  </tbody>\n",
       "</table>\n",
       "<p>6791 rows × 2 columns</p>\n",
       "</div>"
      ],
      "text/plain": [
       "                               name  \\\n",
       "MSOA11CD                              \n",
       "E02000001        City of London 001   \n",
       "E02000002  Barking and Dagenham 001   \n",
       "E02000003  Barking and Dagenham 002   \n",
       "E02000004  Barking and Dagenham 003   \n",
       "E02000005  Barking and Dagenham 004   \n",
       "...                             ...   \n",
       "E02006930             Greenwich 037   \n",
       "E02006931             Greenwich 038   \n",
       "E02006932             Liverpool 060   \n",
       "E02006933             Liverpool 061   \n",
       "E02006934             Liverpool 062   \n",
       "\n",
       "                                                    geometry  \n",
       "MSOA11CD                                                      \n",
       "E02000001  POLYGON ((532419.592 181998.305, 532746.814 18...  \n",
       "E02000002  POLYGON ((548452.001 189024.718, 548235.426 18...  \n",
       "E02000003  POLYGON ((548954.500 189063.203, 548874.188 18...  \n",
       "E02000004  POLYGON ((551943.813 186027.672, 551670.812 18...  \n",
       "E02000005  POLYGON ((549145.624 187383.875, 549128.657 18...  \n",
       "...                                                      ...  \n",
       "E02006930  POLYGON ((540659.000 178728.000, 540583.276 17...  \n",
       "E02006931  POLYGON ((538774.161 177841.174, 538834.755 17...  \n",
       "E02006932  POLYGON ((334590.294 391107.590, 334777.949 39...  \n",
       "E02006933  POLYGON ((335061.480 390301.281, 335370.000 39...  \n",
       "E02006934  POLYGON ((334324.451 390946.301, 334596.999 39...  \n",
       "\n",
       "[6791 rows x 2 columns]"
      ]
     },
     "execution_count": 5,
     "metadata": {},
     "output_type": "execute_result"
    }
   ],
   "source": [
    "msoa_filename = os.path.join(\"data\", \"gis\", \"england_msoa_2011_sgen_clipped.shp\")\n",
    "\n",
    "msoa = gpd.read_file(filename=msoa_filename).set_index('code', drop=True)\n",
    "msoa.index = msoa.index.rename(\"MSOA11CD\")  # Rename the index (MSOA code) to match column name used later\n",
    "msoa"
   ]
  },
  {
   "cell_type": "code",
   "execution_count": 6,
   "metadata": {},
   "outputs": [
    {
     "data": {
      "text/plain": [
       "<matplotlib.axes._subplots.AxesSubplot at 0x7ff20e9f2c18>"
      ]
     },
     "execution_count": 6,
     "metadata": {},
     "output_type": "execute_result"
    },
    {
     "data": {
      "image/png": "[encoded data removed]",
      "text/plain": [
       "<Figure size 432x288 with 1 Axes>"
      ]
     },
     "metadata": {
      "needs_background": "light"
     },
     "output_type": "display_data"
    }
   ],
   "source": [
    "msoa.plot(cmap='OrRd')"
   ]
  },
  {
   "cell_type": "markdown",
   "metadata": {},
   "source": [
    "## Census Data <a class=\"anchor\" id=\"ref-census\"></a>\n",
    "\n",
    "### Download the UK Census Data <a class=\"anchor\" id=\"ref-census-download\"></a>\n",
    "\n",
    "See census [README.md](data/census/README.md) for details.\n",
    "\n",
    "#### Tenure Data <a class=\"anchor\" id=\"ref-census-download-tenure\"></a>"
   ]
  },
  {
   "cell_type": "code",
   "execution_count": 7,
   "metadata": {},
   "outputs": [
    {
     "data": {
      "text/plain": [
       "694379"
      ]
     },
     "execution_count": 7,
     "metadata": {},
     "output_type": "execute_result"
    }
   ],
   "source": [
    "url = 'https://www.nomisweb.co.uk/api/v01/dataset/nm_537_1.bulk.csv?time=latest&measures=20100&rural_urban=total&geography=TYPE297'\n",
    "myfile = requests.get(url)\n",
    "open('data/census/tenure-households.csv', 'wb').write(myfile.content)"
   ]
  },
  {
   "cell_type": "markdown",
   "metadata": {},
   "source": [
    "#### Single family dwellings <a class=\"anchor\" id=\"ref-census-download-dwellings\"></a>"
   ]
  },
  {
   "cell_type": "code",
   "execution_count": 8,
   "metadata": {},
   "outputs": [
    {
     "data": {
      "text/plain": [
       "628674"
      ]
     },
     "execution_count": 8,
     "metadata": {},
     "output_type": "execute_result"
    }
   ],
   "source": [
    "url = 'https://www.nomisweb.co.uk/api/v01/dataset/nm_516_1.bulk.csv?time=latest&measures=20100&rural_urban=total&geography=TYPE297'\n",
    "myfile = requests.get(url)\n",
    "open('data/census/household-type.csv', 'wb').write(myfile.content)"
   ]
  },
  {
   "cell_type": "markdown",
   "metadata": {},
   "source": [
    "#### Accommodation type <a class=\"anchor\" id=\"ref-census-download-accommodation\"></a>"
   ]
  },
  {
   "cell_type": "code",
   "execution_count": 9,
   "metadata": {},
   "outputs": [
    {
     "data": {
      "text/plain": [
       "655990"
      ]
     },
     "execution_count": 9,
     "metadata": {},
     "output_type": "execute_result"
    }
   ],
   "source": [
    "url = 'https://www.nomisweb.co.uk/api/v01/dataset/nm_534_1.bulk.csv?time=latest&measures=20100&rural_urban=total&geography=TYPE297'\n",
    "myfile = requests.get(url)\n",
    "open('data/census/accommodation_type-households.csv', 'wb').write(myfile.content)"
   ]
  },
  {
   "cell_type": "markdown",
   "metadata": {},
   "source": [
    "#### Workday population<a class=\"anchor\" id=\"ref-census-download-workday\"></a>"
   ]
  },
  {
   "cell_type": "code",
   "execution_count": 10,
   "metadata": {},
   "outputs": [
    {
     "data": {
      "text/plain": [
       "732471"
      ]
     },
     "execution_count": 10,
     "metadata": {},
     "output_type": "execute_result"
    }
   ],
   "source": [
    "url = 'https://www.nomisweb.co.uk/api/v01/dataset/nm_942_1.bulk.csv?time=latest&measures=20100&geography=TYPE297'\n",
    "myfile = requests.get(url)\n",
    "open('data/census/economic_activity_workday.csv', 'wb').write(myfile.content)"
   ]
  }
 ],
 "metadata": {
  "kernelspec": {
   "display_name": "Python 3",
   "language": "python",
   "name": "python3"
  },
  "language_info": {
   "codemirror_mode": {
    "name": "ipython",
    "version": 3
   },
   "file_extension": ".py",
   "mimetype": "text/x-python",
   "name": "python",
   "nbconvert_exporter": "python",
   "pygments_lexer": "ipython3",
   "version": "3.6.8"
  }
 },
 "nbformat": 4,
 "nbformat_minor": 4
}
