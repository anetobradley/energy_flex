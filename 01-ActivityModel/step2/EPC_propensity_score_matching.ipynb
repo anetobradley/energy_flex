{
 "cells": [
  {
   "cell_type": "markdown",
   "metadata": {},
   "source": [
    "# Enriching a Synthetic Population with Propensity Score Matching using EPC and SPENSER for Haringey LAD\n",
    "\n",
    "In this notebook we present the steps made to \"merge\" the EPC data and the SPENSER population for one local authority district.\n",
    "\n",
    "- The code here follows the instructions presented [here](https://github.com/anetobradley/energy_flex/blob/main/01-ActivityModel/step2/README.md).\n",
    "- The enriched population produced here, can be found [here](https://github.com/anetobradley/energy_flex/blob/main/01-ActivityModel/output/msm_england_epc.zip), and the variables description for this population can be found [here](https://github.com/anetobradley/energy_flex/blob/main/01-ActivityModel/output/msm_england_epc_metadata.md)."
   ]
  },
  {
   "cell_type": "markdown",
   "metadata": {},
   "source": [
    "## Initialisation"
   ]
  },
  {
   "cell_type": "markdown",
   "metadata": {},
   "source": [
    "### Import necessary modules"
   ]
  },
  {
   "cell_type": "code",
   "execution_count": 1,
   "metadata": {},
   "outputs": [],
   "source": [
    "import pandas as pd\n",
    "import zipfile\n",
    "import os\n",
    "from causalinference import CausalModel\n",
    "import seaborn as sns; sns.set(color_codes=True)\n",
    "import matplotlib.pyplot as plt\n",
    "import numpy as np\n",
    "from sklearn.neighbors import NearestNeighbors\n",
    "from random import choices\n",
    "%matplotlib inline"
   ]
  },
  {
   "cell_type": "markdown",
   "metadata": {},
   "source": [
    "### Import data"
   ]
  },
  {
   "cell_type": "markdown",
   "metadata": {},
   "source": [
    "#### Import Energy Performance Certificate (EPC) data"
   ]
  },
  {
   "cell_type": "code",
   "execution_count": 2,
   "metadata": {},
   "outputs": [
    {
     "data": {
      "text/html": [
       "<div>\n",
       "<style scoped>\n",
       "    .dataframe tbody tr th:only-of-type {\n",
       "        vertical-align: middle;\n",
       "    }\n",
       "\n",
       "    .dataframe tbody tr th {\n",
       "        vertical-align: top;\n",
       "    }\n",
       "\n",
       "    .dataframe thead th {\n",
       "        text-align: right;\n",
       "    }\n",
       "</style>\n",
       "<table border=\"1\" class=\"dataframe\">\n",
       "  <thead>\n",
       "    <tr style=\"text-align: right;\">\n",
       "      <th></th>\n",
       "      <th>Area</th>\n",
       "      <th>FLOOR_AREA</th>\n",
       "      <th>LC4404_C_ROOMS</th>\n",
       "      <th>MAINHEAT_DESCRIPTION</th>\n",
       "      <th>ACCOM_AGE</th>\n",
       "      <th>tenure</th>\n",
       "      <th>LC4402_C_TYPACCOM</th>\n",
       "    </tr>\n",
       "  </thead>\n",
       "  <tbody>\n",
       "    <tr>\n",
       "      <th>0</th>\n",
       "      <td>E00010316</td>\n",
       "      <td>1</td>\n",
       "      <td>3</td>\n",
       "      <td>Boiler and radiators, mains gas</td>\n",
       "      <td>4</td>\n",
       "      <td>5</td>\n",
       "      <td>5</td>\n",
       "    </tr>\n",
       "    <tr>\n",
       "      <th>1</th>\n",
       "      <td>E00010336</td>\n",
       "      <td>3</td>\n",
       "      <td>2</td>\n",
       "      <td>Boiler and radiators, mains gas</td>\n",
       "      <td>1</td>\n",
       "      <td>5</td>\n",
       "      <td>5</td>\n",
       "    </tr>\n",
       "    <tr>\n",
       "      <th>2</th>\n",
       "      <td>E00010168</td>\n",
       "      <td>1</td>\n",
       "      <td>1</td>\n",
       "      <td>Room heaters, electric</td>\n",
       "      <td>1</td>\n",
       "      <td>6</td>\n",
       "      <td>5</td>\n",
       "    </tr>\n",
       "    <tr>\n",
       "      <th>3</th>\n",
       "      <td>E00009985</td>\n",
       "      <td>2</td>\n",
       "      <td>4</td>\n",
       "      <td>Boiler and radiators, mains gas</td>\n",
       "      <td>1</td>\n",
       "      <td>6</td>\n",
       "      <td>5</td>\n",
       "    </tr>\n",
       "    <tr>\n",
       "      <th>4</th>\n",
       "      <td>E00010505</td>\n",
       "      <td>3</td>\n",
       "      <td>4</td>\n",
       "      <td>Portable electric heaters assumed for most rooms</td>\n",
       "      <td>1</td>\n",
       "      <td>1</td>\n",
       "      <td>4</td>\n",
       "    </tr>\n",
       "  </tbody>\n",
       "</table>\n",
       "</div>"
      ],
      "text/plain": [
       "        Area  FLOOR_AREA  LC4404_C_ROOMS  \\\n",
       "0  E00010316           1               3   \n",
       "1  E00010336           3               2   \n",
       "2  E00010168           1               1   \n",
       "3  E00009985           2               4   \n",
       "4  E00010505           3               4   \n",
       "\n",
       "                               MAINHEAT_DESCRIPTION  ACCOM_AGE  tenure  \\\n",
       "0                   Boiler and radiators, mains gas          4       5   \n",
       "1                   Boiler and radiators, mains gas          1       5   \n",
       "2                            Room heaters, electric          1       6   \n",
       "3                   Boiler and radiators, mains gas          1       6   \n",
       "4  Portable electric heaters assumed for most rooms          1       1   \n",
       "\n",
       "   LC4402_C_TYPACCOM  \n",
       "0                  5  \n",
       "1                  5  \n",
       "2                  5  \n",
       "3                  5  \n",
       "4                  4  "
      ]
     },
     "execution_count": 2,
     "metadata": {},
     "output_type": "execute_result"
    }
   ],
   "source": [
    "ladcd = 'E09000014' # local authority for testing: Haringey\n",
    "\n",
    "epc_zip_file = zipfile.ZipFile(os.path.join('../inputs/data', 'epc_england.zip'))\n",
    "epc_file = \".\".join([ladcd, 'csv'])\n",
    "epc_df = pd.read_csv(epc_zip_file.open(epc_file))\n",
    "epc_df.rename({\"LC4402_C_TENHUK11\": \"tenure\"}, axis=1, inplace=True)\n",
    "epc_df.head()"
   ]
  },
  {
   "cell_type": "markdown",
   "metadata": {},
   "source": [
    "#### Import Synthetic Population (SPENSER) data"
   ]
  },
  {
   "cell_type": "code",
   "execution_count": 3,
   "metadata": {
    "scrolled": false
   },
   "outputs": [
    {
     "data": {
      "text/html": [
       "<div>\n",
       "<style scoped>\n",
       "    .dataframe tbody tr th:only-of-type {\n",
       "        vertical-align: middle;\n",
       "    }\n",
       "\n",
       "    .dataframe tbody tr th {\n",
       "        vertical-align: top;\n",
       "    }\n",
       "\n",
       "    .dataframe thead th {\n",
       "        text-align: right;\n",
       "    }\n",
       "</style>\n",
       "<table border=\"1\" class=\"dataframe\">\n",
       "  <thead>\n",
       "    <tr style=\"text-align: right;\">\n",
       "      <th></th>\n",
       "      <th>HID</th>\n",
       "      <th>Area</th>\n",
       "      <th>LC4402_C_TYPACCOM</th>\n",
       "      <th>QS420_CELL</th>\n",
       "      <th>LC4402_C_TENHUK11</th>\n",
       "      <th>LC4408_C_AHTHUK11</th>\n",
       "      <th>CommunalSize</th>\n",
       "      <th>LC4404_C_SIZHUK11</th>\n",
       "      <th>LC4404_C_ROOMS</th>\n",
       "      <th>LC4405EW_C_BEDROOMS</th>\n",
       "      <th>LC4408EW_C_PPBROOMHEW11</th>\n",
       "      <th>LC4402_C_CENHEATHUK11</th>\n",
       "      <th>LC4605_C_NSSEC</th>\n",
       "      <th>LC4202_C_ETHHUK11</th>\n",
       "      <th>LC4202_C_CARSNO</th>\n",
       "      <th>HRPID</th>\n",
       "      <th>FILLED</th>\n",
       "    </tr>\n",
       "  </thead>\n",
       "  <tbody>\n",
       "    <tr>\n",
       "      <th>0</th>\n",
       "      <td>0.0</td>\n",
       "      <td>E00010088</td>\n",
       "      <td>3.0</td>\n",
       "      <td>-2.0</td>\n",
       "      <td>3.0</td>\n",
       "      <td>3.0</td>\n",
       "      <td>-2.0</td>\n",
       "      <td>2.0</td>\n",
       "      <td>4.0</td>\n",
       "      <td>2.0</td>\n",
       "      <td>-1.0</td>\n",
       "      <td>2.0</td>\n",
       "      <td>2.0</td>\n",
       "      <td>2.0</td>\n",
       "      <td>2.0</td>\n",
       "      <td>254841.0</td>\n",
       "      <td>True</td>\n",
       "    </tr>\n",
       "    <tr>\n",
       "      <th>1</th>\n",
       "      <td>1.0</td>\n",
       "      <td>E00010222</td>\n",
       "      <td>2.0</td>\n",
       "      <td>-2.0</td>\n",
       "      <td>5.0</td>\n",
       "      <td>1.0</td>\n",
       "      <td>-2.0</td>\n",
       "      <td>1.0</td>\n",
       "      <td>3.0</td>\n",
       "      <td>1.0</td>\n",
       "      <td>-1.0</td>\n",
       "      <td>2.0</td>\n",
       "      <td>9.0</td>\n",
       "      <td>7.0</td>\n",
       "      <td>1.0</td>\n",
       "      <td>269214.0</td>\n",
       "      <td>True</td>\n",
       "    </tr>\n",
       "    <tr>\n",
       "      <th>2</th>\n",
       "      <td>2.0</td>\n",
       "      <td>E00010300</td>\n",
       "      <td>5.0</td>\n",
       "      <td>-2.0</td>\n",
       "      <td>6.0</td>\n",
       "      <td>2.0</td>\n",
       "      <td>-2.0</td>\n",
       "      <td>4.0</td>\n",
       "      <td>6.0</td>\n",
       "      <td>4.0</td>\n",
       "      <td>-1.0</td>\n",
       "      <td>2.0</td>\n",
       "      <td>4.0</td>\n",
       "      <td>4.0</td>\n",
       "      <td>1.0</td>\n",
       "      <td>206340.0</td>\n",
       "      <td>False</td>\n",
       "    </tr>\n",
       "    <tr>\n",
       "      <th>3</th>\n",
       "      <td>3.0</td>\n",
       "      <td>E00010394</td>\n",
       "      <td>-2.0</td>\n",
       "      <td>-2.0</td>\n",
       "      <td>-1.0</td>\n",
       "      <td>-1.0</td>\n",
       "      <td>-2.0</td>\n",
       "      <td>0.0</td>\n",
       "      <td>1.0</td>\n",
       "      <td>1.0</td>\n",
       "      <td>-1.0</td>\n",
       "      <td>2.0</td>\n",
       "      <td>-1.0</td>\n",
       "      <td>-1.0</td>\n",
       "      <td>1.0</td>\n",
       "      <td>-1.0</td>\n",
       "      <td>False</td>\n",
       "    </tr>\n",
       "    <tr>\n",
       "      <th>4</th>\n",
       "      <td>4.0</td>\n",
       "      <td>E00010345</td>\n",
       "      <td>5.0</td>\n",
       "      <td>-2.0</td>\n",
       "      <td>6.0</td>\n",
       "      <td>3.0</td>\n",
       "      <td>-2.0</td>\n",
       "      <td>2.0</td>\n",
       "      <td>4.0</td>\n",
       "      <td>1.0</td>\n",
       "      <td>-1.0</td>\n",
       "      <td>2.0</td>\n",
       "      <td>5.0</td>\n",
       "      <td>4.0</td>\n",
       "      <td>1.0</td>\n",
       "      <td>258891.0</td>\n",
       "      <td>True</td>\n",
       "    </tr>\n",
       "  </tbody>\n",
       "</table>\n",
       "</div>"
      ],
      "text/plain": [
       "   HID       Area  LC4402_C_TYPACCOM  QS420_CELL  LC4402_C_TENHUK11  \\\n",
       "0  0.0  E00010088                3.0        -2.0                3.0   \n",
       "1  1.0  E00010222                2.0        -2.0                5.0   \n",
       "2  2.0  E00010300                5.0        -2.0                6.0   \n",
       "3  3.0  E00010394               -2.0        -2.0               -1.0   \n",
       "4  4.0  E00010345                5.0        -2.0                6.0   \n",
       "\n",
       "   LC4408_C_AHTHUK11  CommunalSize  LC4404_C_SIZHUK11  LC4404_C_ROOMS  \\\n",
       "0                3.0          -2.0                2.0             4.0   \n",
       "1                1.0          -2.0                1.0             3.0   \n",
       "2                2.0          -2.0                4.0             6.0   \n",
       "3               -1.0          -2.0                0.0             1.0   \n",
       "4                3.0          -2.0                2.0             4.0   \n",
       "\n",
       "   LC4405EW_C_BEDROOMS  LC4408EW_C_PPBROOMHEW11  LC4402_C_CENHEATHUK11  \\\n",
       "0                  2.0                     -1.0                    2.0   \n",
       "1                  1.0                     -1.0                    2.0   \n",
       "2                  4.0                     -1.0                    2.0   \n",
       "3                  1.0                     -1.0                    2.0   \n",
       "4                  1.0                     -1.0                    2.0   \n",
       "\n",
       "   LC4605_C_NSSEC  LC4202_C_ETHHUK11  LC4202_C_CARSNO     HRPID  FILLED  \n",
       "0             2.0                2.0              2.0  254841.0    True  \n",
       "1             9.0                7.0              1.0  269214.0    True  \n",
       "2             4.0                4.0              1.0  206340.0   False  \n",
       "3            -1.0               -1.0              1.0      -1.0   False  \n",
       "4             5.0                4.0              1.0  258891.0    True  "
      ]
     },
     "execution_count": 3,
     "metadata": {},
     "output_type": "execute_result"
    }
   ],
   "source": [
    "spenser_zip_file = zipfile.ZipFile(os.path.join('../inputs/data', 'msm_england.zip'))\n",
    "spenser_file = \"_\".join(['msm_england/ass_hh', ladcd, 'OA11_2020.csv'])\n",
    "spenser_df = pd.read_csv(spenser_zip_file.open(spenser_file))\n",
    "spenser_df.head()"
   ]
  },
  {
   "cell_type": "markdown",
   "id": "a23098a8",
   "metadata": {},
   "source": [
    "## Data Preparation"
   ]
  },
  {
   "cell_type": "markdown",
   "metadata": {},
   "source": [
    "### SPENSER data: transform tenure values 2 and 3 to 1\n",
    "\n",
    "In the EPC data the tenure values 2 (`Owned outright`) and 3 (`Owned with a mortgage or loan or shared ownership`) are aggregated in the value 1 (`Owned: Total`)."
   ]
  },
  {
   "cell_type": "code",
   "execution_count": 4,
   "metadata": {},
   "outputs": [],
   "source": [
    "df_col = 'tenure'\n",
    "spenser_df[df_col] = spenser_df.LC4402_C_TENHUK11.copy()\n",
    "spenser_df.loc[(spenser_df[df_col] == 2), df_col] = 1 # 2 = Owned outright\n",
    "spenser_df.loc[(spenser_df[df_col] == 3), df_col] = 1 # 3 = Owned with a mortgage or loan or shared ownership"
   ]
  },
  {
   "cell_type": "markdown",
   "metadata": {},
   "source": [
    "### Assign a treatment values\n",
    "\n",
    "* EPC: `Treatment` = 1\n",
    "* SPENSER: `Treatment` = 0"
   ]
  },
  {
   "cell_type": "code",
   "execution_count": 5,
   "metadata": {
    "scrolled": true
   },
   "outputs": [],
   "source": [
    "epc_df['Treatment'] = 1\n",
    "spenser_df['Treatment'] = 0"
   ]
  },
  {
   "cell_type": "markdown",
   "metadata": {},
   "source": [
    "### Concatenate EPC and SPENSER datasets "
   ]
  },
  {
   "cell_type": "code",
   "execution_count": 6,
   "metadata": {
    "scrolled": true
   },
   "outputs": [],
   "source": [
    "dataset = pd.concat([spenser_df, epc_df], ignore_index=True, sort=False)"
   ]
  },
  {
   "cell_type": "markdown",
   "metadata": {},
   "source": [
    "### Factorizing the Area\n",
    "\n",
    "Arbitrarily encode the object as an enumerated type.\n",
    "\n",
    "> No assumptions are made regarding distance between different areas."
   ]
  },
  {
   "cell_type": "code",
   "execution_count": 7,
   "metadata": {},
   "outputs": [],
   "source": [
    "Area_factor = dataset.Area.factorize()\n",
    "dataset['Area_factor'] = Area_factor[0]"
   ]
  },
  {
   "cell_type": "markdown",
   "metadata": {},
   "source": [
    "### Isolate the Y, X and the covariates"
   ]
  },
  {
   "cell_type": "code",
   "execution_count": 8,
   "metadata": {},
   "outputs": [],
   "source": [
    "Y = dataset.Treatment.copy()  # arbitrary outcome\n",
    "X = dataset.Treatment.copy()  # treatment\n",
    "\n",
    "overlap_columns = ['LC4402_C_TYPACCOM', 'tenure', 'Area_factor'] \n",
    "covariates = dataset[overlap_columns]"
   ]
  },
  {
   "cell_type": "markdown",
   "metadata": {},
   "source": [
    "### Transform categorical into dummy variables\n",
    "\n",
    "To use `CausalModel`, data must be numerical (integer or real). If any variable is categorical, you can use the command below to transform it into dummy values:\n",
    "\n",
    "```python\n",
    "Y = pd.get_dummies(data=Y, drop_first=True)\n",
    "X = pd.get_dummies(data=X, drop_first=True)\n",
    "covariates = pd.get_dummies(data=covariates, drop_first=True)\n",
    "```\n",
    "\n",
    "> In this work, the data went through a previous process where the variables were coded."
   ]
  },
  {
   "cell_type": "markdown",
   "metadata": {},
   "source": [
    "### Transform pandas dataframe into numpy.ndarray"
   ]
  },
  {
   "cell_type": "code",
   "execution_count": 9,
   "metadata": {},
   "outputs": [],
   "source": [
    "Y = Y.values\n",
    "X = X.values\n",
    "covariates = covariates.values"
   ]
  },
  {
   "cell_type": "markdown",
   "metadata": {},
   "source": [
    "## Propensity score"
   ]
  },
  {
   "cell_type": "code",
   "execution_count": 10,
   "metadata": {},
   "outputs": [],
   "source": [
    "# Create the Causal Model\n",
    "model = CausalModel(Y, X, covariates)\n",
    "\n",
    "# Calculate the propensity score\n",
    "model.est_propensity_s()\n",
    "\n",
    "# Store the propensity score\n",
    "dataset['PropensityScore'] = model.propensity['fitted']"
   ]
  },
  {
   "cell_type": "markdown",
   "metadata": {},
   "source": [
    "### Propensity score comparison"
   ]
  },
  {
   "cell_type": "code",
   "execution_count": 11,
   "metadata": {},
   "outputs": [
    {
     "data": {
      "text/plain": [
       "<matplotlib.axes._subplots.AxesSubplot at 0x7faea46ecef0>"
      ]
     },
     "execution_count": 11,
     "metadata": {},
     "output_type": "execute_result"
    },
    {
     "data": {
      "image/png": "[encoded data removed]",
      "text/plain": [
       "<Figure size 800x560 with 1 Axes>"
      ]
     },
     "metadata": {
      "needs_background": "light"
     },
     "output_type": "display_data"
    }
   ],
   "source": [
    "plt.figure(figsize=(10,7), dpi= 80)\n",
    "sns.kdeplot(dataset['PropensityScore'], hue=dataset['Treatment'], shade=True)\n",
    "\n",
    "# * SPENSER: `Treatment` = 0\n",
    "# * EPC: `Treatment` = 1\n"
   ]
  },
  {
   "cell_type": "markdown",
   "metadata": {},
   "source": [
    "## Match Process"
   ]
  },
  {
   "cell_type": "markdown",
   "metadata": {},
   "source": [
    "### Separating EPC data from SPENSER data"
   ]
  },
  {
   "cell_type": "code",
   "execution_count": 12,
   "metadata": {},
   "outputs": [],
   "source": [
    "epc_df = dataset.loc[dataset.Treatment==1].reset_index(drop=True)\n",
    "spenser_df = dataset.loc[dataset.Treatment==0].reset_index(drop=True)"
   ]
  },
  {
   "cell_type": "markdown",
   "metadata": {},
   "source": [
    "### Closest neighbors"
   ]
  },
  {
   "cell_type": "markdown",
   "metadata": {},
   "source": [
    "#### Defining the number of neighbors"
   ]
  },
  {
   "cell_type": "code",
   "execution_count": 13,
   "metadata": {},
   "outputs": [],
   "source": [
    "n_neighbors = 200  # number of neighbors to be stored for each hid in SPENSER data"
   ]
  },
  {
   "cell_type": "markdown",
   "metadata": {},
   "source": [
    "#### Creating a list of closest neighbors (index and distance)"
   ]
  },
  {
   "cell_type": "code",
   "execution_count": 14,
   "metadata": {},
   "outputs": [],
   "source": [
    "# create the neighbors object (p=2 means Euclidean distance)\n",
    "knn = NearestNeighbors(n_neighbors=n_neighbors, p=2).fit(epc_df[['PropensityScore']])\n",
    "\n",
    "# for each household in SPENSER dataframe, find the nearest EPC neighbors\n",
    "distances, indices = knn.kneighbors(spenser_df[['PropensityScore']])"
   ]
  },
  {
   "cell_type": "markdown",
   "id": "eb2da8c2",
   "metadata": {},
   "source": [
    "#### Weight function example - SPENSER household id=4"
   ]
  },
  {
   "cell_type": "code",
   "execution_count": 15,
   "metadata": {},
   "outputs": [
    {
     "data": {
      "text/plain": [
       "Text(0, 0.5, 'Wheight')"
      ]
     },
     "execution_count": 15,
     "metadata": {},
     "output_type": "execute_result"
    },
    {
     "data": {
      "image/png": "[encoded data removed]",
      "text/plain": [
       "<Figure size 432x288 with 1 Axes>"
      ]
     },
     "metadata": {
      "needs_background": "light"
     },
     "output_type": "display_data"
    }
   ],
   "source": [
    "import numpy as np\n",
    "\n",
    "i = 4  # SPENSER household id\n",
    "N = 100  # max weight value\n",
    "M = 5  # min weight values\n",
    "\n",
    "delta_Pij = distances[i]\n",
    "delta_Pin = distances[i][-1]\n",
    "\n",
    "weight = N-((delta_Pij/delta_Pin)*(N-M))\n",
    "\n",
    "\n",
    "x = np.arange(0, n_neighbors)\n",
    "plt.plot(x,weight, 'o-')\n",
    "plt.xlabel('Neighbor')\n",
    "plt.ylabel('Wheight')"
   ]
  },
  {
   "cell_type": "markdown",
   "metadata": {},
   "source": [
    "### Defining Matching Function"
   ]
  },
  {
   "cell_type": "code",
   "execution_count": 16,
   "metadata": {},
   "outputs": [],
   "source": [
    "def get_matches(distances, indices):\n",
    "    pairs = []\n",
    "    for indexSPENSER, candidatesEPC in  enumerate(indices):\n",
    "        is_zero = np.flatnonzero(distances[indexSPENSER]==0)\n",
    "        if is_zero.size < n_neighbors:\n",
    "            weight = (100-(distances[indexSPENSER]/distances[indexSPENSER][-1]*95))\n",
    "            indexEPC = choices(candidatesEPC, weights=weight)[0] # random.choices not supported by numba\n",
    "        else:\n",
    "            indexEPC = choices(candidatesEPC)[0]\n",
    "        \n",
    "        \n",
    "        pairs.append([indexSPENSER, indexEPC])\n",
    "    return(pairs)"
   ]
  },
  {
   "cell_type": "markdown",
   "metadata": {},
   "source": [
    "### Get matched pairs"
   ]
  },
  {
   "cell_type": "code",
   "execution_count": 17,
   "metadata": {
    "scrolled": true
   },
   "outputs": [],
   "source": [
    "pairs = get_matches(distances, indices)"
   ]
  },
  {
   "cell_type": "markdown",
   "metadata": {},
   "source": [
    "#### Add matched EPC id in SPENSER dataframe"
   ]
  },
  {
   "cell_type": "code",
   "execution_count": 18,
   "metadata": {},
   "outputs": [],
   "source": [
    "matches = pd.DataFrame(pairs)\n",
    "spenser_df[\"EPCid\"] = matches[1]\n",
    "del matches, pairs"
   ]
  },
  {
   "cell_type": "markdown",
   "metadata": {},
   "source": [
    "### Get EPC information"
   ]
  },
  {
   "cell_type": "code",
   "execution_count": 19,
   "metadata": {},
   "outputs": [
    {
     "data": {
      "text/html": [
       "<div>\n",
       "<style scoped>\n",
       "    .dataframe tbody tr th:only-of-type {\n",
       "        vertical-align: middle;\n",
       "    }\n",
       "\n",
       "    .dataframe tbody tr th {\n",
       "        vertical-align: top;\n",
       "    }\n",
       "\n",
       "    .dataframe thead th {\n",
       "        text-align: right;\n",
       "    }\n",
       "</style>\n",
       "<table border=\"1\" class=\"dataframe\">\n",
       "  <thead>\n",
       "    <tr style=\"text-align: right;\">\n",
       "      <th></th>\n",
       "      <th>HID</th>\n",
       "      <th>Area</th>\n",
       "      <th>LC4402_C_TYPACCOM</th>\n",
       "      <th>QS420_CELL</th>\n",
       "      <th>LC4402_C_TENHUK11</th>\n",
       "      <th>LC4408_C_AHTHUK11</th>\n",
       "      <th>CommunalSize</th>\n",
       "      <th>LC4404_C_SIZHUK11</th>\n",
       "      <th>LC4404_C_ROOMS</th>\n",
       "      <th>LC4405EW_C_BEDROOMS</th>\n",
       "      <th>LC4408EW_C_PPBROOMHEW11</th>\n",
       "      <th>LC4402_C_CENHEATHUK11</th>\n",
       "      <th>LC4605_C_NSSEC</th>\n",
       "      <th>LC4202_C_ETHHUK11</th>\n",
       "      <th>LC4202_C_CARSNO</th>\n",
       "      <th>HRPID</th>\n",
       "      <th>FILLED</th>\n",
       "      <th>EPCid</th>\n",
       "    </tr>\n",
       "  </thead>\n",
       "  <tbody>\n",
       "    <tr>\n",
       "      <th>0</th>\n",
       "      <td>0.0</td>\n",
       "      <td>E00010088</td>\n",
       "      <td>3.0</td>\n",
       "      <td>-2.0</td>\n",
       "      <td>3.0</td>\n",
       "      <td>3.0</td>\n",
       "      <td>-2.0</td>\n",
       "      <td>2.0</td>\n",
       "      <td>4.0</td>\n",
       "      <td>2.0</td>\n",
       "      <td>-1.0</td>\n",
       "      <td>2.0</td>\n",
       "      <td>2.0</td>\n",
       "      <td>2.0</td>\n",
       "      <td>2.0</td>\n",
       "      <td>254841.0</td>\n",
       "      <td>True</td>\n",
       "      <td>1664</td>\n",
       "    </tr>\n",
       "    <tr>\n",
       "      <th>1</th>\n",
       "      <td>1.0</td>\n",
       "      <td>E00010222</td>\n",
       "      <td>2.0</td>\n",
       "      <td>-2.0</td>\n",
       "      <td>5.0</td>\n",
       "      <td>1.0</td>\n",
       "      <td>-2.0</td>\n",
       "      <td>1.0</td>\n",
       "      <td>3.0</td>\n",
       "      <td>1.0</td>\n",
       "      <td>-1.0</td>\n",
       "      <td>2.0</td>\n",
       "      <td>9.0</td>\n",
       "      <td>7.0</td>\n",
       "      <td>1.0</td>\n",
       "      <td>269214.0</td>\n",
       "      <td>True</td>\n",
       "      <td>106334</td>\n",
       "    </tr>\n",
       "    <tr>\n",
       "      <th>2</th>\n",
       "      <td>2.0</td>\n",
       "      <td>E00010300</td>\n",
       "      <td>5.0</td>\n",
       "      <td>-2.0</td>\n",
       "      <td>6.0</td>\n",
       "      <td>2.0</td>\n",
       "      <td>-2.0</td>\n",
       "      <td>4.0</td>\n",
       "      <td>6.0</td>\n",
       "      <td>4.0</td>\n",
       "      <td>-1.0</td>\n",
       "      <td>2.0</td>\n",
       "      <td>4.0</td>\n",
       "      <td>4.0</td>\n",
       "      <td>1.0</td>\n",
       "      <td>206340.0</td>\n",
       "      <td>False</td>\n",
       "      <td>74926</td>\n",
       "    </tr>\n",
       "    <tr>\n",
       "      <th>3</th>\n",
       "      <td>3.0</td>\n",
       "      <td>E00010394</td>\n",
       "      <td>-2.0</td>\n",
       "      <td>-2.0</td>\n",
       "      <td>-1.0</td>\n",
       "      <td>-1.0</td>\n",
       "      <td>-2.0</td>\n",
       "      <td>0.0</td>\n",
       "      <td>1.0</td>\n",
       "      <td>1.0</td>\n",
       "      <td>-1.0</td>\n",
       "      <td>2.0</td>\n",
       "      <td>-1.0</td>\n",
       "      <td>-1.0</td>\n",
       "      <td>1.0</td>\n",
       "      <td>-1.0</td>\n",
       "      <td>False</td>\n",
       "      <td>48772</td>\n",
       "    </tr>\n",
       "    <tr>\n",
       "      <th>4</th>\n",
       "      <td>4.0</td>\n",
       "      <td>E00010345</td>\n",
       "      <td>5.0</td>\n",
       "      <td>-2.0</td>\n",
       "      <td>6.0</td>\n",
       "      <td>3.0</td>\n",
       "      <td>-2.0</td>\n",
       "      <td>2.0</td>\n",
       "      <td>4.0</td>\n",
       "      <td>1.0</td>\n",
       "      <td>-1.0</td>\n",
       "      <td>2.0</td>\n",
       "      <td>5.0</td>\n",
       "      <td>4.0</td>\n",
       "      <td>1.0</td>\n",
       "      <td>258891.0</td>\n",
       "      <td>True</td>\n",
       "      <td>76262</td>\n",
       "    </tr>\n",
       "  </tbody>\n",
       "</table>\n",
       "</div>"
      ],
      "text/plain": [
       "   HID       Area  LC4402_C_TYPACCOM  QS420_CELL  LC4402_C_TENHUK11  \\\n",
       "0  0.0  E00010088                3.0        -2.0                3.0   \n",
       "1  1.0  E00010222                2.0        -2.0                5.0   \n",
       "2  2.0  E00010300                5.0        -2.0                6.0   \n",
       "3  3.0  E00010394               -2.0        -2.0               -1.0   \n",
       "4  4.0  E00010345                5.0        -2.0                6.0   \n",
       "\n",
       "   LC4408_C_AHTHUK11  CommunalSize  LC4404_C_SIZHUK11  LC4404_C_ROOMS  \\\n",
       "0                3.0          -2.0                2.0             4.0   \n",
       "1                1.0          -2.0                1.0             3.0   \n",
       "2                2.0          -2.0                4.0             6.0   \n",
       "3               -1.0          -2.0                0.0             1.0   \n",
       "4                3.0          -2.0                2.0             4.0   \n",
       "\n",
       "   LC4405EW_C_BEDROOMS  LC4408EW_C_PPBROOMHEW11  LC4402_C_CENHEATHUK11  \\\n",
       "0                  2.0                     -1.0                    2.0   \n",
       "1                  1.0                     -1.0                    2.0   \n",
       "2                  4.0                     -1.0                    2.0   \n",
       "3                  1.0                     -1.0                    2.0   \n",
       "4                  1.0                     -1.0                    2.0   \n",
       "\n",
       "   LC4605_C_NSSEC  LC4202_C_ETHHUK11  LC4202_C_CARSNO     HRPID FILLED   EPCid  \n",
       "0             2.0                2.0              2.0  254841.0   True    1664  \n",
       "1             9.0                7.0              1.0  269214.0   True  106334  \n",
       "2             4.0                4.0              1.0  206340.0  False   74926  \n",
       "3            -1.0               -1.0              1.0      -1.0  False   48772  \n",
       "4             5.0                4.0              1.0  258891.0   True   76262  "
      ]
     },
     "execution_count": 19,
     "metadata": {},
     "output_type": "execute_result"
    }
   ],
   "source": [
    "spenser_df.drop([\"tenure\", \n",
    "             \"Treatment\", \n",
    "             \"FLOOR_AREA\", \n",
    "             \"MAINHEAT_DESCRIPTION\",\n",
    "             \"ACCOM_AGE\",\n",
    "             \"Area_factor\",\n",
    "             \"PropensityScore\",], axis=1, inplace=True)\n",
    "spenser_df.head()"
   ]
  },
  {
   "cell_type": "code",
   "execution_count": 20,
   "metadata": {},
   "outputs": [],
   "source": [
    "columns = ['FLOOR_AREA', 'MAINHEAT_DESCRIPTION', 'ACCOM_AGE']\n",
    "epc_df = epc_df[columns].copy()\n",
    "epc_df['EPCid'] = epc_df.index"
   ]
  },
  {
   "cell_type": "code",
   "execution_count": 21,
   "metadata": {
    "scrolled": true
   },
   "outputs": [
    {
     "data": {
      "text/html": [
       "<div>\n",
       "<style scoped>\n",
       "    .dataframe tbody tr th:only-of-type {\n",
       "        vertical-align: middle;\n",
       "    }\n",
       "\n",
       "    .dataframe tbody tr th {\n",
       "        vertical-align: top;\n",
       "    }\n",
       "\n",
       "    .dataframe thead th {\n",
       "        text-align: right;\n",
       "    }\n",
       "</style>\n",
       "<table border=\"1\" class=\"dataframe\">\n",
       "  <thead>\n",
       "    <tr style=\"text-align: right;\">\n",
       "      <th></th>\n",
       "      <th>HID</th>\n",
       "      <th>Area</th>\n",
       "      <th>LC4402_C_TYPACCOM</th>\n",
       "      <th>QS420_CELL</th>\n",
       "      <th>LC4402_C_TENHUK11</th>\n",
       "      <th>LC4408_C_AHTHUK11</th>\n",
       "      <th>CommunalSize</th>\n",
       "      <th>LC4404_C_SIZHUK11</th>\n",
       "      <th>LC4404_C_ROOMS</th>\n",
       "      <th>LC4405EW_C_BEDROOMS</th>\n",
       "      <th>...</th>\n",
       "      <th>LC4402_C_CENHEATHUK11</th>\n",
       "      <th>LC4605_C_NSSEC</th>\n",
       "      <th>LC4202_C_ETHHUK11</th>\n",
       "      <th>LC4202_C_CARSNO</th>\n",
       "      <th>HRPID</th>\n",
       "      <th>FILLED</th>\n",
       "      <th>EPCid</th>\n",
       "      <th>FLOOR_AREA</th>\n",
       "      <th>MAINHEAT_DESCRIPTION</th>\n",
       "      <th>ACCOM_AGE</th>\n",
       "    </tr>\n",
       "  </thead>\n",
       "  <tbody>\n",
       "    <tr>\n",
       "      <th>0</th>\n",
       "      <td>0.0</td>\n",
       "      <td>E00010088</td>\n",
       "      <td>3.0</td>\n",
       "      <td>-2.0</td>\n",
       "      <td>3.0</td>\n",
       "      <td>3.0</td>\n",
       "      <td>-2.0</td>\n",
       "      <td>2.0</td>\n",
       "      <td>4.0</td>\n",
       "      <td>2.0</td>\n",
       "      <td>...</td>\n",
       "      <td>2.0</td>\n",
       "      <td>2.0</td>\n",
       "      <td>2.0</td>\n",
       "      <td>2.0</td>\n",
       "      <td>254841.0</td>\n",
       "      <td>True</td>\n",
       "      <td>1664</td>\n",
       "      <td>13.0</td>\n",
       "      <td>Boiler and radiators, mains gas</td>\n",
       "      <td>2.0</td>\n",
       "    </tr>\n",
       "    <tr>\n",
       "      <th>1</th>\n",
       "      <td>1.0</td>\n",
       "      <td>E00010222</td>\n",
       "      <td>2.0</td>\n",
       "      <td>-2.0</td>\n",
       "      <td>5.0</td>\n",
       "      <td>1.0</td>\n",
       "      <td>-2.0</td>\n",
       "      <td>1.0</td>\n",
       "      <td>3.0</td>\n",
       "      <td>1.0</td>\n",
       "      <td>...</td>\n",
       "      <td>2.0</td>\n",
       "      <td>9.0</td>\n",
       "      <td>7.0</td>\n",
       "      <td>1.0</td>\n",
       "      <td>269214.0</td>\n",
       "      <td>True</td>\n",
       "      <td>106334</td>\n",
       "      <td>14.0</td>\n",
       "      <td>Boiler and radiators, mains gas</td>\n",
       "      <td>3.0</td>\n",
       "    </tr>\n",
       "    <tr>\n",
       "      <th>2</th>\n",
       "      <td>2.0</td>\n",
       "      <td>E00010300</td>\n",
       "      <td>5.0</td>\n",
       "      <td>-2.0</td>\n",
       "      <td>6.0</td>\n",
       "      <td>2.0</td>\n",
       "      <td>-2.0</td>\n",
       "      <td>4.0</td>\n",
       "      <td>6.0</td>\n",
       "      <td>4.0</td>\n",
       "      <td>...</td>\n",
       "      <td>2.0</td>\n",
       "      <td>4.0</td>\n",
       "      <td>4.0</td>\n",
       "      <td>1.0</td>\n",
       "      <td>206340.0</td>\n",
       "      <td>False</td>\n",
       "      <td>74926</td>\n",
       "      <td>1.0</td>\n",
       "      <td>Room heaters, electric</td>\n",
       "      <td>1.0</td>\n",
       "    </tr>\n",
       "    <tr>\n",
       "      <th>3</th>\n",
       "      <td>3.0</td>\n",
       "      <td>E00010394</td>\n",
       "      <td>-2.0</td>\n",
       "      <td>-2.0</td>\n",
       "      <td>-1.0</td>\n",
       "      <td>-1.0</td>\n",
       "      <td>-2.0</td>\n",
       "      <td>0.0</td>\n",
       "      <td>1.0</td>\n",
       "      <td>1.0</td>\n",
       "      <td>...</td>\n",
       "      <td>2.0</td>\n",
       "      <td>-1.0</td>\n",
       "      <td>-1.0</td>\n",
       "      <td>1.0</td>\n",
       "      <td>-1.0</td>\n",
       "      <td>False</td>\n",
       "      <td>48772</td>\n",
       "      <td>11.0</td>\n",
       "      <td>Community scheme</td>\n",
       "      <td>-1.0</td>\n",
       "    </tr>\n",
       "    <tr>\n",
       "      <th>4</th>\n",
       "      <td>4.0</td>\n",
       "      <td>E00010345</td>\n",
       "      <td>5.0</td>\n",
       "      <td>-2.0</td>\n",
       "      <td>6.0</td>\n",
       "      <td>3.0</td>\n",
       "      <td>-2.0</td>\n",
       "      <td>2.0</td>\n",
       "      <td>4.0</td>\n",
       "      <td>1.0</td>\n",
       "      <td>...</td>\n",
       "      <td>2.0</td>\n",
       "      <td>5.0</td>\n",
       "      <td>4.0</td>\n",
       "      <td>1.0</td>\n",
       "      <td>258891.0</td>\n",
       "      <td>True</td>\n",
       "      <td>76262</td>\n",
       "      <td>2.0</td>\n",
       "      <td>Boiler and radiators, mains gas</td>\n",
       "      <td>1.0</td>\n",
       "    </tr>\n",
       "  </tbody>\n",
       "</table>\n",
       "<p>5 rows × 21 columns</p>\n",
       "</div>"
      ],
      "text/plain": [
       "   HID       Area  LC4402_C_TYPACCOM  QS420_CELL  LC4402_C_TENHUK11  \\\n",
       "0  0.0  E00010088                3.0        -2.0                3.0   \n",
       "1  1.0  E00010222                2.0        -2.0                5.0   \n",
       "2  2.0  E00010300                5.0        -2.0                6.0   \n",
       "3  3.0  E00010394               -2.0        -2.0               -1.0   \n",
       "4  4.0  E00010345                5.0        -2.0                6.0   \n",
       "\n",
       "   LC4408_C_AHTHUK11  CommunalSize  LC4404_C_SIZHUK11  LC4404_C_ROOMS  \\\n",
       "0                3.0          -2.0                2.0             4.0   \n",
       "1                1.0          -2.0                1.0             3.0   \n",
       "2                2.0          -2.0                4.0             6.0   \n",
       "3               -1.0          -2.0                0.0             1.0   \n",
       "4                3.0          -2.0                2.0             4.0   \n",
       "\n",
       "   LC4405EW_C_BEDROOMS  ...  LC4402_C_CENHEATHUK11  LC4605_C_NSSEC  \\\n",
       "0                  2.0  ...                    2.0             2.0   \n",
       "1                  1.0  ...                    2.0             9.0   \n",
       "2                  4.0  ...                    2.0             4.0   \n",
       "3                  1.0  ...                    2.0            -1.0   \n",
       "4                  1.0  ...                    2.0             5.0   \n",
       "\n",
       "   LC4202_C_ETHHUK11  LC4202_C_CARSNO     HRPID  FILLED   EPCid  FLOOR_AREA  \\\n",
       "0                2.0              2.0  254841.0    True    1664        13.0   \n",
       "1                7.0              1.0  269214.0    True  106334        14.0   \n",
       "2                4.0              1.0  206340.0   False   74926         1.0   \n",
       "3               -1.0              1.0      -1.0   False   48772        11.0   \n",
       "4                4.0              1.0  258891.0    True   76262         2.0   \n",
       "\n",
       "              MAINHEAT_DESCRIPTION ACCOM_AGE  \n",
       "0  Boiler and radiators, mains gas       2.0  \n",
       "1  Boiler and radiators, mains gas       3.0  \n",
       "2           Room heaters, electric       1.0  \n",
       "3                 Community scheme      -1.0  \n",
       "4  Boiler and radiators, mains gas       1.0  \n",
       "\n",
       "[5 rows x 21 columns]"
      ]
     },
     "execution_count": 21,
     "metadata": {},
     "output_type": "execute_result"
    }
   ],
   "source": [
    "spenser_df = pd.merge(spenser_df, epc_df, on='EPCid',how='left')\n",
    "spenser_df.head()"
   ]
  },
  {
   "cell_type": "markdown",
   "metadata": {},
   "source": [
    "## Internal validation"
   ]
  },
  {
   "cell_type": "markdown",
   "metadata": {},
   "source": [
    "### Floor area distribution"
   ]
  },
  {
   "cell_type": "code",
   "execution_count": 22,
   "metadata": {},
   "outputs": [
    {
     "data": {
      "image/png": "[encoded data removed]",
      "text/plain": [
       "<Figure size 1152x360 with 2 Axes>"
      ]
     },
     "metadata": {
      "needs_background": "light"
     },
     "output_type": "display_data"
    }
   ],
   "source": [
    "fig, ax = plt.subplots(nrows=1, ncols=2, figsize=(16, 5))\n",
    "\n",
    "spenser_df.FLOOR_AREA.plot(kind='hist', ax=ax[1], title=\"SPENSER\", bins=15)\n",
    "epc_df.FLOOR_AREA.plot(kind='hist', ax=ax[0], title=\"EPC\", bins=15)\n",
    "\n",
    "ax[0].set_xlabel('Floor area code')\n",
    "ax[1].set_xlabel('Floor area code')\n",
    "\n",
    "fig.tight_layout(pad=3.0)\n"
   ]
  },
  {
   "cell_type": "markdown",
   "metadata": {},
   "source": [
    "### Accommodation age distribution"
   ]
  },
  {
   "cell_type": "code",
   "execution_count": 23,
   "metadata": {},
   "outputs": [
    {
     "data": {
      "image/png": "[encoded data removed]",
      "text/plain": [
       "<Figure size 1152x360 with 2 Axes>"
      ]
     },
     "metadata": {
      "needs_background": "light"
     },
     "output_type": "display_data"
    }
   ],
   "source": [
    "fig, ax = plt.subplots(nrows=1, ncols=2, figsize=(16, 5))\n",
    "\n",
    "spenser_df.ACCOM_AGE.plot(kind='hist', ax=ax[1], title=\"SPENSER\", bins=11)\n",
    "epc_df.ACCOM_AGE.plot(kind='hist', ax=ax[0], title=\"EPC\", bins=11)\n",
    "\n",
    "ax[0].set_xlabel('Accommodation age code')\n",
    "ax[1].set_xlabel('Accommodation age code')\n",
    "\n",
    "fig.tight_layout(pad=3.0)\n"
   ]
  },
  {
   "cell_type": "markdown",
   "id": "537728a3",
   "metadata": {},
   "source": [
    "## Saving Enriched Population"
   ]
  },
  {
   "cell_type": "code",
   "execution_count": 24,
   "metadata": {},
   "outputs": [],
   "source": [
    "list_df_names = ['msm_E09000014_epc.csv']\n",
    "list_df = [spenser_df]\n",
    "csv_name = '../output/msm_england_epc.zip'\n",
    "with zipfile.ZipFile(csv_name, 'w') as csv_zip:\n",
    "    for i in range(len(list_df_names)):\n",
    "        csv_zip.writestr(list_df_names[i], list_df[i].to_csv(index = False, header=True))"
   ]
  },
  {
   "cell_type": "markdown",
   "metadata": {},
   "source": [
    "## Final comments\n",
    "\n",
    "* The `MAINHEAT_DESCRIPTION` column has different values just for `Haringey`. \n",
    "    * If we consider all Local Authorities this number exceeds 700 values, making it difficult to code. \n",
    "    * So far they are being passed literally.\n",
    "    * The ideal is to create different categories and organize the data according to them.\n",
    "    * Without the proper organization, it is impossible to carry out any kind of validation."
   ]
  }
 ],
 "metadata": {
  "kernelspec": {
   "display_name": "Python 3",
   "language": "python",
   "name": "python3"
  },
  "language_info": {
   "codemirror_mode": {
    "name": "ipython",
    "version": 3
   },
   "file_extension": ".py",
   "mimetype": "text/x-python",
   "name": "python",
   "nbconvert_exporter": "python",
   "pygments_lexer": "ipython3",
   "version": "3.6.8"
  }
 },
 "nbformat": 4,
 "nbformat_minor": 5
}
